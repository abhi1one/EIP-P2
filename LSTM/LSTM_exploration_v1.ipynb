{
  "nbformat": 4,
  "nbformat_minor": 0,
  "metadata": {
    "colab": {
      "name": "LSTM exploration v1.ipynb",
      "version": "0.3.2",
      "provenance": [],
      "collapsed_sections": []
    },
    "kernelspec": {
      "name": "python3",
      "display_name": "Python 3"
    },
    "accelerator": "GPU"
  },
  "cells": [
    {
      "cell_type": "markdown",
      "metadata": {
        "id": "1Zz57Eg2EEaj",
        "colab_type": "text"
      },
      "source": [
        "1. Go through this Post: https://machinelearningmastery.com/text-generation-lstm-recurrent-neural-networks-python-keras/ (Links to an external site.)\n",
        "\n",
        "2. Add these improvements to the final code described in the post:\n",
        "  1. Predict 500 characters only\n",
        "  2. Remove all the punctuation from the source text\n",
        "  3. Train the model on padded sequences (Links to an external site.) rather than random sequences of characters. **pending**\n",
        "  4.Train the model for 100 epochs\n",
        "  5. Add dropout to the input layer, remove it from the layer before dense layer. Use Dropout value of 0.1 everywhere\n",
        "  6. Submit!\n",
        "\n"
      ]
    },
    {
      "cell_type": "code",
      "metadata": {
        "id": "REUjLlPyD7FL",
        "colab_type": "code",
        "outputId": "9c6f7c4c-3b17-4611-955f-eceece2e2acc",
        "colab": {
          "base_uri": "https://localhost:8080/",
          "height": 34
        }
      },
      "source": [
        "# Load Larger LSTM network and generate text\n",
        "import sys\n",
        "import numpy\n",
        "from keras.models import Sequential\n",
        "from keras.layers import Dense\n",
        "from keras.layers import Dropout\n",
        "from keras.layers import LSTM\n",
        "from keras.callbacks import ModelCheckpoint\n",
        "from keras.utils import np_utils"
      ],
      "execution_count": 0,
      "outputs": [
        {
          "output_type": "stream",
          "text": [
            "Using TensorFlow backend.\n"
          ],
          "name": "stderr"
        }
      ]
    },
    {
      "cell_type": "code",
      "metadata": {
        "id": "FSNynE1tIfKr",
        "colab_type": "code",
        "outputId": "90b93af4-ea1e-4765-c64b-ada1f34cb063",
        "colab": {
          "base_uri": "https://localhost:8080/",
          "height": 122
        }
      },
      "source": [
        "#Loading google drive to retrive data and store training weights\n",
        "from google.colab import drive\n",
        "drive.mount('/content/gdrive')\n",
        "\n",
        "#preparing path for LSTM_exploration dir in drive\n",
        "import os\n",
        "corpus = os.path.join(\"/content/gdrive/My Drive\", \"LSTM_exploration\")"
      ],
      "execution_count": 0,
      "outputs": [
        {
          "output_type": "stream",
          "text": [
            "Go to this URL in a browser: https://accounts.google.com/o/oauth2/auth?client_id=947318989803-6bn6qk8qdgf4n4g3pfee6491hc0brc4i.apps.googleusercontent.com&redirect_uri=urn%3Aietf%3Awg%3Aoauth%3A2.0%3Aoob&scope=email%20https%3A%2F%2Fwww.googleapis.com%2Fauth%2Fdocs.test%20https%3A%2F%2Fwww.googleapis.com%2Fauth%2Fdrive%20https%3A%2F%2Fwww.googleapis.com%2Fauth%2Fdrive.photos.readonly%20https%3A%2F%2Fwww.googleapis.com%2Fauth%2Fpeopleapi.readonly&response_type=code\n",
            "\n",
            "Enter your authorization code:\n",
            "··········\n",
            "Mounted at /content/gdrive\n"
          ],
          "name": "stdout"
        }
      ]
    },
    {
      "cell_type": "code",
      "metadata": {
        "id": "isLUyWhwG3Up",
        "colab_type": "code",
        "colab": {}
      },
      "source": [
        "# load ascii text and covert to lowercase\n",
        "filename = os.path.join(corpus, \"wonderland.txt\") #\"wonderland.txt\"\n",
        "raw_text = open(filename).read()\n",
        "raw_text = raw_text.lower()"
      ],
      "execution_count": 0,
      "outputs": []
    },
    {
      "cell_type": "markdown",
      "metadata": {
        "id": "QlLEZO6Mq3SX",
        "colab_type": "text"
      },
      "source": [
        "**Original LSTM implimentation from mentioned artical's last step**"
      ]
    },
    {
      "cell_type": "code",
      "metadata": {
        "id": "SzTl-QaALPZJ",
        "colab_type": "code",
        "outputId": "e1b6365a-e1aa-4ed7-86be-c52687f5bf53",
        "colab": {
          "base_uri": "https://localhost:8080/",
          "height": 51
        }
      },
      "source": [
        "# create mapping of unique chars to integers, and a reverse mapping\n",
        "chars = sorted(list(set(raw_text)))\n",
        "char_to_int = dict((c, i) for i, c in enumerate(chars))\n",
        "int_to_char = dict((i, c) for i, c in enumerate(chars))\n",
        "\n",
        "# summarize the loaded data\n",
        "n_chars = len(raw_text)\n",
        "n_vocab = len(chars)\n",
        "print (\"Total Characters: \", n_chars)\n",
        "print (\"Total Vocab: \", n_vocab)"
      ],
      "execution_count": 0,
      "outputs": [
        {
          "output_type": "stream",
          "text": [
            "Total Characters:  163781\n",
            "Total Vocab:  59\n"
          ],
          "name": "stdout"
        }
      ]
    },
    {
      "cell_type": "code",
      "metadata": {
        "id": "Gc6sIUBnLfP1",
        "colab_type": "code",
        "outputId": "45dcfd21-9d05-4092-cd7e-4a6bcacd6743",
        "colab": {
          "base_uri": "https://localhost:8080/",
          "height": 34
        }
      },
      "source": [
        "# prepare the dataset of input to output pairs encoded as integers\n",
        "seq_length = 100\n",
        "dataX = []\n",
        "dataY = []\n",
        "for i in range(0, n_chars - seq_length, 1):\n",
        "\tseq_in = raw_text[i:i + seq_length]\n",
        "\tseq_out = raw_text[i + seq_length]\n",
        "\tdataX.append([char_to_int[char] for char in seq_in])\n",
        "\tdataY.append(char_to_int[seq_out])\n",
        "n_patterns = len(dataX)\n",
        "print (\"Total Patterns: \", n_patterns)"
      ],
      "execution_count": 0,
      "outputs": [
        {
          "output_type": "stream",
          "text": [
            "Total Patterns:  163681\n"
          ],
          "name": "stdout"
        }
      ]
    },
    {
      "cell_type": "code",
      "metadata": {
        "id": "pe1RZ47TLocA",
        "colab_type": "code",
        "colab": {}
      },
      "source": [
        "# reshape X to be [samples, time steps, features]\n",
        "X = numpy.reshape(dataX, (n_patterns, seq_length, 1))"
      ],
      "execution_count": 0,
      "outputs": []
    },
    {
      "cell_type": "code",
      "metadata": {
        "id": "cEuq9yk2L3IY",
        "colab_type": "code",
        "colab": {}
      },
      "source": [
        "# normalize\n",
        "X = X / float(n_vocab)"
      ],
      "execution_count": 0,
      "outputs": []
    },
    {
      "cell_type": "code",
      "metadata": {
        "id": "zVBQr49AL4J7",
        "colab_type": "code",
        "colab": {}
      },
      "source": [
        "# one hot encode the output variable\n",
        "y = np_utils.to_categorical(dataY)"
      ],
      "execution_count": 0,
      "outputs": []
    },
    {
      "cell_type": "code",
      "metadata": {
        "id": "UIUEfWkOL8YQ",
        "colab_type": "code",
        "outputId": "ca7577eb-3210-432b-db52-36dd808fb0d9",
        "colab": {
          "base_uri": "https://localhost:8080/",
          "height": 309
        }
      },
      "source": [
        "# define the LSTM model\n",
        "model = Sequential()\n",
        "model.add(LSTM(256, input_shape=(X.shape[1], X.shape[2]), return_sequences=True))\n",
        "model.add(Dropout(0.2))\n",
        "model.add(LSTM(256))\n",
        "model.add(Dropout(0.2))\n",
        "model.add(Dense(y.shape[1], activation='softmax'))\n",
        "model.compile(loss='categorical_crossentropy', optimizer='adam')"
      ],
      "execution_count": 0,
      "outputs": [
        {
          "output_type": "stream",
          "text": [
            "WARNING: Logging before flag parsing goes to stderr.\n",
            "W0727 12:47:36.510854 140028818990976 deprecation_wrapper.py:119] From /usr/local/lib/python3.6/dist-packages/keras/backend/tensorflow_backend.py:74: The name tf.get_default_graph is deprecated. Please use tf.compat.v1.get_default_graph instead.\n",
            "\n",
            "W0727 12:47:36.549080 140028818990976 deprecation_wrapper.py:119] From /usr/local/lib/python3.6/dist-packages/keras/backend/tensorflow_backend.py:517: The name tf.placeholder is deprecated. Please use tf.compat.v1.placeholder instead.\n",
            "\n",
            "W0727 12:47:36.556473 140028818990976 deprecation_wrapper.py:119] From /usr/local/lib/python3.6/dist-packages/keras/backend/tensorflow_backend.py:4138: The name tf.random_uniform is deprecated. Please use tf.random.uniform instead.\n",
            "\n",
            "W0727 12:47:36.861359 140028818990976 deprecation_wrapper.py:119] From /usr/local/lib/python3.6/dist-packages/keras/backend/tensorflow_backend.py:133: The name tf.placeholder_with_default is deprecated. Please use tf.compat.v1.placeholder_with_default instead.\n",
            "\n",
            "W0727 12:47:36.870846 140028818990976 deprecation.py:506] From /usr/local/lib/python3.6/dist-packages/keras/backend/tensorflow_backend.py:3445: calling dropout (from tensorflow.python.ops.nn_ops) with keep_prob is deprecated and will be removed in a future version.\n",
            "Instructions for updating:\n",
            "Please use `rate` instead of `keep_prob`. Rate should be set to `rate = 1 - keep_prob`.\n",
            "W0727 12:47:37.183390 140028818990976 deprecation_wrapper.py:119] From /usr/local/lib/python3.6/dist-packages/keras/optimizers.py:790: The name tf.train.Optimizer is deprecated. Please use tf.compat.v1.train.Optimizer instead.\n",
            "\n",
            "W0727 12:47:37.209557 140028818990976 deprecation_wrapper.py:119] From /usr/local/lib/python3.6/dist-packages/keras/backend/tensorflow_backend.py:3295: The name tf.log is deprecated. Please use tf.math.log instead.\n",
            "\n"
          ],
          "name": "stderr"
        }
      ]
    },
    {
      "cell_type": "code",
      "metadata": {
        "id": "oamQLZodMhxf",
        "colab_type": "code",
        "colab": {}
      },
      "source": [
        "# define the checkpoint\n",
        "filepath=os.path.join(corpus, \"weights-improvement-{epoch:02d}-{loss:.4f}-bigger.hdf5\")\n",
        "#\"weights-improvement-{epoch:02d}-{loss:.4f}-bigger.hdf5\"\n",
        "checkpoint = ModelCheckpoint(filepath, monitor='loss', verbose=1, save_best_only=True, mode='min')\n",
        "callbacks_list = [checkpoint]"
      ],
      "execution_count": 0,
      "outputs": []
    },
    {
      "cell_type": "code",
      "metadata": {
        "id": "jcnQh08YMnNC",
        "colab_type": "code",
        "outputId": "5f51f915-54ea-432b-dfa9-c12581737ad1",
        "colab": {
          "base_uri": "https://localhost:8080/",
          "height": 1000
        }
      },
      "source": [
        "# fit the model\n",
        "model.fit(X, y, epochs=50, batch_size=256, callbacks=callbacks_list)"
      ],
      "execution_count": 0,
      "outputs": [
        {
          "output_type": "stream",
          "text": [
            "Epoch 1/50\n",
            "163681/163681 [==============================] - 169s 1ms/step - loss: 2.7930\n",
            "\n",
            "Epoch 00001: loss improved from inf to 2.79305, saving model to /content/gdrive/My Drive/LSTM_exploration/weights-improvement-01-2.7930-bigger.hdf5\n",
            "Epoch 2/50\n",
            "163681/163681 [==============================] - 169s 1ms/step - loss: 2.6358\n",
            "\n",
            "Epoch 00002: loss improved from 2.79305 to 2.63584, saving model to /content/gdrive/My Drive/LSTM_exploration/weights-improvement-02-2.6358-bigger.hdf5\n",
            "Epoch 3/50\n",
            "163681/163681 [==============================] - 169s 1ms/step - loss: 2.5083\n",
            "\n",
            "Epoch 00003: loss improved from 2.63584 to 2.50827, saving model to /content/gdrive/My Drive/LSTM_exploration/weights-improvement-03-2.5083-bigger.hdf5\n",
            "Epoch 4/50\n",
            "163681/163681 [==============================] - 168s 1ms/step - loss: 2.3952\n",
            "\n",
            "Epoch 00004: loss improved from 2.50827 to 2.39525, saving model to /content/gdrive/My Drive/LSTM_exploration/weights-improvement-04-2.3952-bigger.hdf5\n",
            "Epoch 5/50\n",
            "163681/163681 [==============================] - 169s 1ms/step - loss: 2.2974\n",
            "\n",
            "Epoch 00005: loss improved from 2.39525 to 2.29736, saving model to /content/gdrive/My Drive/LSTM_exploration/weights-improvement-05-2.2974-bigger.hdf5\n",
            "Epoch 6/50\n",
            "163681/163681 [==============================] - 169s 1ms/step - loss: 2.2156\n",
            "\n",
            "Epoch 00006: loss improved from 2.29736 to 2.21565, saving model to /content/gdrive/My Drive/LSTM_exploration/weights-improvement-06-2.2156-bigger.hdf5\n",
            "Epoch 7/50\n",
            "163681/163681 [==============================] - 170s 1ms/step - loss: 2.1493\n",
            "\n",
            "Epoch 00007: loss improved from 2.21565 to 2.14930, saving model to /content/gdrive/My Drive/LSTM_exploration/weights-improvement-07-2.1493-bigger.hdf5\n",
            "Epoch 8/50\n",
            "163681/163681 [==============================] - 170s 1ms/step - loss: 2.0934\n",
            "\n",
            "Epoch 00008: loss improved from 2.14930 to 2.09344, saving model to /content/gdrive/My Drive/LSTM_exploration/weights-improvement-08-2.0934-bigger.hdf5\n",
            "Epoch 9/50\n",
            "163681/163681 [==============================] - 171s 1ms/step - loss: 2.0409\n",
            "\n",
            "Epoch 00009: loss improved from 2.09344 to 2.04090, saving model to /content/gdrive/My Drive/LSTM_exploration/weights-improvement-09-2.0409-bigger.hdf5\n",
            "Epoch 10/50\n",
            "163681/163681 [==============================] - 170s 1ms/step - loss: 1.9997\n",
            "\n",
            "Epoch 00010: loss improved from 2.04090 to 1.99973, saving model to /content/gdrive/My Drive/LSTM_exploration/weights-improvement-10-1.9997-bigger.hdf5\n",
            "Epoch 11/50\n",
            "163681/163681 [==============================] - 171s 1ms/step - loss: 1.9563\n",
            "\n",
            "Epoch 00011: loss improved from 1.99973 to 1.95626, saving model to /content/gdrive/My Drive/LSTM_exploration/weights-improvement-11-1.9563-bigger.hdf5\n",
            "Epoch 12/50\n",
            "163681/163681 [==============================] - 171s 1ms/step - loss: 1.9213\n",
            "\n",
            "Epoch 00012: loss improved from 1.95626 to 1.92130, saving model to /content/gdrive/My Drive/LSTM_exploration/weights-improvement-12-1.9213-bigger.hdf5\n",
            "Epoch 13/50\n",
            "163681/163681 [==============================] - 171s 1ms/step - loss: 1.8872\n",
            "\n",
            "Epoch 00013: loss improved from 1.92130 to 1.88722, saving model to /content/gdrive/My Drive/LSTM_exploration/weights-improvement-13-1.8872-bigger.hdf5\n",
            "Epoch 14/50\n",
            "163681/163681 [==============================] - 170s 1ms/step - loss: 1.8528\n",
            "\n",
            "Epoch 00014: loss improved from 1.88722 to 1.85278, saving model to /content/gdrive/My Drive/LSTM_exploration/weights-improvement-14-1.8528-bigger.hdf5\n",
            "Epoch 15/50\n",
            "163681/163681 [==============================] - 171s 1ms/step - loss: 1.8266\n",
            "\n",
            "Epoch 00015: loss improved from 1.85278 to 1.82661, saving model to /content/gdrive/My Drive/LSTM_exploration/weights-improvement-15-1.8266-bigger.hdf5\n",
            "Epoch 16/50\n",
            "163681/163681 [==============================] - 172s 1ms/step - loss: 1.7989\n",
            "\n",
            "Epoch 00016: loss improved from 1.82661 to 1.79891, saving model to /content/gdrive/My Drive/LSTM_exploration/weights-improvement-16-1.7989-bigger.hdf5\n",
            "Epoch 17/50\n",
            "163681/163681 [==============================] - 171s 1ms/step - loss: 1.7732\n",
            "\n",
            "Epoch 00017: loss improved from 1.79891 to 1.77323, saving model to /content/gdrive/My Drive/LSTM_exploration/weights-improvement-17-1.7732-bigger.hdf5\n",
            "Epoch 18/50\n",
            "163681/163681 [==============================] - 173s 1ms/step - loss: 1.7516\n",
            "\n",
            "Epoch 00018: loss improved from 1.77323 to 1.75163, saving model to /content/gdrive/My Drive/LSTM_exploration/weights-improvement-18-1.7516-bigger.hdf5\n",
            "Epoch 19/50\n",
            "163681/163681 [==============================] - 172s 1ms/step - loss: 1.7270\n",
            "\n",
            "Epoch 00019: loss improved from 1.75163 to 1.72704, saving model to /content/gdrive/My Drive/LSTM_exploration/weights-improvement-19-1.7270-bigger.hdf5\n",
            "Epoch 20/50\n",
            "163681/163681 [==============================] - 171s 1ms/step - loss: 1.7036\n",
            "\n",
            "Epoch 00020: loss improved from 1.72704 to 1.70355, saving model to /content/gdrive/My Drive/LSTM_exploration/weights-improvement-20-1.7036-bigger.hdf5\n",
            "Epoch 21/50\n",
            "163681/163681 [==============================] - 170s 1ms/step - loss: 1.6885\n",
            "\n",
            "Epoch 00021: loss improved from 1.70355 to 1.68849, saving model to /content/gdrive/My Drive/LSTM_exploration/weights-improvement-21-1.6885-bigger.hdf5\n",
            "Epoch 22/50\n",
            "163681/163681 [==============================] - 171s 1ms/step - loss: 1.6639\n",
            "\n",
            "Epoch 00022: loss improved from 1.68849 to 1.66393, saving model to /content/gdrive/My Drive/LSTM_exploration/weights-improvement-22-1.6639-bigger.hdf5\n",
            "Epoch 23/50\n",
            "163681/163681 [==============================] - 171s 1ms/step - loss: 1.6487\n",
            "\n",
            "Epoch 00023: loss improved from 1.66393 to 1.64865, saving model to /content/gdrive/My Drive/LSTM_exploration/weights-improvement-23-1.6487-bigger.hdf5\n",
            "Epoch 24/50\n",
            "163681/163681 [==============================] - 172s 1ms/step - loss: 1.6331\n",
            "\n",
            "Epoch 00024: loss improved from 1.64865 to 1.63310, saving model to /content/gdrive/My Drive/LSTM_exploration/weights-improvement-24-1.6331-bigger.hdf5\n",
            "Epoch 25/50\n",
            "163681/163681 [==============================] - 171s 1ms/step - loss: 1.6135\n",
            "\n",
            "Epoch 00025: loss improved from 1.63310 to 1.61352, saving model to /content/gdrive/My Drive/LSTM_exploration/weights-improvement-25-1.6135-bigger.hdf5\n",
            "Epoch 26/50\n",
            "163681/163681 [==============================] - 171s 1ms/step - loss: 1.5983\n",
            "\n",
            "Epoch 00026: loss improved from 1.61352 to 1.59834, saving model to /content/gdrive/My Drive/LSTM_exploration/weights-improvement-26-1.5983-bigger.hdf5\n",
            "Epoch 27/50\n",
            "163681/163681 [==============================] - 172s 1ms/step - loss: 1.5838\n",
            "\n",
            "Epoch 00027: loss improved from 1.59834 to 1.58378, saving model to /content/gdrive/My Drive/LSTM_exploration/weights-improvement-27-1.5838-bigger.hdf5\n",
            "Epoch 28/50\n",
            "163681/163681 [==============================] - 171s 1ms/step - loss: 1.5671\n",
            "\n",
            "Epoch 00028: loss improved from 1.58378 to 1.56711, saving model to /content/gdrive/My Drive/LSTM_exploration/weights-improvement-28-1.5671-bigger.hdf5\n",
            "Epoch 29/50\n",
            "163681/163681 [==============================] - 173s 1ms/step - loss: 1.5556\n",
            "\n",
            "Epoch 00029: loss improved from 1.56711 to 1.55564, saving model to /content/gdrive/My Drive/LSTM_exploration/weights-improvement-29-1.5556-bigger.hdf5\n",
            "Epoch 30/50\n",
            "163681/163681 [==============================] - 170s 1ms/step - loss: 1.5417\n",
            "\n",
            "Epoch 00030: loss improved from 1.55564 to 1.54166, saving model to /content/gdrive/My Drive/LSTM_exploration/weights-improvement-30-1.5417-bigger.hdf5\n",
            "Epoch 31/50\n",
            "163681/163681 [==============================] - 171s 1ms/step - loss: 1.5304\n",
            "\n",
            "Epoch 00031: loss improved from 1.54166 to 1.53039, saving model to /content/gdrive/My Drive/LSTM_exploration/weights-improvement-31-1.5304-bigger.hdf5\n",
            "Epoch 32/50\n",
            "163681/163681 [==============================] - 171s 1ms/step - loss: 1.5154\n",
            "\n",
            "Epoch 00032: loss improved from 1.53039 to 1.51538, saving model to /content/gdrive/My Drive/LSTM_exploration/weights-improvement-32-1.5154-bigger.hdf5\n",
            "Epoch 33/50\n",
            "163681/163681 [==============================] - 171s 1ms/step - loss: 1.5055\n",
            "\n",
            "Epoch 00033: loss improved from 1.51538 to 1.50553, saving model to /content/gdrive/My Drive/LSTM_exploration/weights-improvement-33-1.5055-bigger.hdf5\n",
            "Epoch 34/50\n",
            "163681/163681 [==============================] - 172s 1ms/step - loss: 1.4973\n",
            "\n",
            "Epoch 00034: loss improved from 1.50553 to 1.49732, saving model to /content/gdrive/My Drive/LSTM_exploration/weights-improvement-34-1.4973-bigger.hdf5\n",
            "Epoch 35/50\n",
            "163681/163681 [==============================] - 170s 1ms/step - loss: 1.4838\n",
            "\n",
            "Epoch 00035: loss improved from 1.49732 to 1.48377, saving model to /content/gdrive/My Drive/LSTM_exploration/weights-improvement-35-1.4838-bigger.hdf5\n",
            "Epoch 36/50\n",
            "163681/163681 [==============================] - 171s 1ms/step - loss: 1.4719\n",
            "\n",
            "Epoch 00036: loss improved from 1.48377 to 1.47193, saving model to /content/gdrive/My Drive/LSTM_exploration/weights-improvement-36-1.4719-bigger.hdf5\n",
            "Epoch 37/50\n",
            "163681/163681 [==============================] - 172s 1ms/step - loss: 1.4655\n",
            "\n",
            "Epoch 00037: loss improved from 1.47193 to 1.46551, saving model to /content/gdrive/My Drive/LSTM_exploration/weights-improvement-37-1.4655-bigger.hdf5\n",
            "Epoch 38/50\n",
            "163681/163681 [==============================] - 173s 1ms/step - loss: 1.4557\n",
            "\n",
            "Epoch 00038: loss improved from 1.46551 to 1.45573, saving model to /content/gdrive/My Drive/LSTM_exploration/weights-improvement-38-1.4557-bigger.hdf5\n",
            "Epoch 39/50\n",
            "163681/163681 [==============================] - 172s 1ms/step - loss: 1.4451\n",
            "\n",
            "Epoch 00039: loss improved from 1.45573 to 1.44505, saving model to /content/gdrive/My Drive/LSTM_exploration/weights-improvement-39-1.4451-bigger.hdf5\n",
            "Epoch 40/50\n",
            "163681/163681 [==============================] - 173s 1ms/step - loss: 1.4379\n",
            "\n",
            "Epoch 00040: loss improved from 1.44505 to 1.43792, saving model to /content/gdrive/My Drive/LSTM_exploration/weights-improvement-40-1.4379-bigger.hdf5\n",
            "Epoch 41/50\n",
            "163681/163681 [==============================] - 173s 1ms/step - loss: 1.4288\n",
            "\n",
            "Epoch 00041: loss improved from 1.43792 to 1.42878, saving model to /content/gdrive/My Drive/LSTM_exploration/weights-improvement-41-1.4288-bigger.hdf5\n",
            "Epoch 42/50\n",
            "163681/163681 [==============================] - 170s 1ms/step - loss: 1.4188\n",
            "\n",
            "Epoch 00042: loss improved from 1.42878 to 1.41878, saving model to /content/gdrive/My Drive/LSTM_exploration/weights-improvement-42-1.4188-bigger.hdf5\n",
            "Epoch 43/50\n",
            "163681/163681 [==============================] - 170s 1ms/step - loss: 1.4132\n",
            "\n",
            "Epoch 00043: loss improved from 1.41878 to 1.41317, saving model to /content/gdrive/My Drive/LSTM_exploration/weights-improvement-43-1.4132-bigger.hdf5\n",
            "Epoch 44/50\n",
            "163681/163681 [==============================] - 172s 1ms/step - loss: 1.4048\n",
            "\n",
            "Epoch 00044: loss improved from 1.41317 to 1.40477, saving model to /content/gdrive/My Drive/LSTM_exploration/weights-improvement-44-1.4048-bigger.hdf5\n",
            "Epoch 45/50\n",
            "163681/163681 [==============================] - 170s 1ms/step - loss: 1.3950\n",
            "\n",
            "Epoch 00045: loss improved from 1.40477 to 1.39499, saving model to /content/gdrive/My Drive/LSTM_exploration/weights-improvement-45-1.3950-bigger.hdf5\n",
            "Epoch 46/50\n",
            "163681/163681 [==============================] - 169s 1ms/step - loss: 1.3902\n",
            "\n",
            "Epoch 00046: loss improved from 1.39499 to 1.39022, saving model to /content/gdrive/My Drive/LSTM_exploration/weights-improvement-46-1.3902-bigger.hdf5\n",
            "Epoch 47/50\n",
            "163681/163681 [==============================] - 169s 1ms/step - loss: 1.3830\n",
            "\n",
            "Epoch 00047: loss improved from 1.39022 to 1.38298, saving model to /content/gdrive/My Drive/LSTM_exploration/weights-improvement-47-1.3830-bigger.hdf5\n",
            "Epoch 48/50\n",
            "163681/163681 [==============================] - 169s 1ms/step - loss: 1.3787\n",
            "\n",
            "Epoch 00048: loss improved from 1.38298 to 1.37874, saving model to /content/gdrive/My Drive/LSTM_exploration/weights-improvement-48-1.3787-bigger.hdf5\n",
            "Epoch 49/50\n",
            "163681/163681 [==============================] - 169s 1ms/step - loss: 1.3688\n",
            "\n",
            "Epoch 00049: loss improved from 1.37874 to 1.36883, saving model to /content/gdrive/My Drive/LSTM_exploration/weights-improvement-49-1.3688-bigger.hdf5\n",
            "Epoch 50/50\n",
            "163681/163681 [==============================] - 169s 1ms/step - loss: 1.3639\n",
            "\n",
            "Epoch 00050: loss improved from 1.36883 to 1.36385, saving model to /content/gdrive/My Drive/LSTM_exploration/weights-improvement-50-1.3639-bigger.hdf5\n"
          ],
          "name": "stdout"
        },
        {
          "output_type": "execute_result",
          "data": {
            "text/plain": [
              "<keras.callbacks.History at 0x7f1edced50b8>"
            ]
          },
          "metadata": {
            "tags": []
          },
          "execution_count": 21
        }
      ]
    },
    {
      "cell_type": "code",
      "metadata": {
        "id": "fwvSTWqjMB4p",
        "colab_type": "code",
        "colab": {}
      },
      "source": [
        "# load the network weights\n",
        "\n",
        "filename = os.path.join(corpus, \"weights-improvement-50-1.3639-bigger.hdf5\")\n",
        "model.load_weights(filename)\n",
        "model.compile(loss='categorical_crossentropy', optimizer='adam')\n"
      ],
      "execution_count": 0,
      "outputs": []
    },
    {
      "cell_type": "code",
      "metadata": {
        "id": "dvMJULdtGjBr",
        "colab_type": "code",
        "outputId": "8048378d-243a-48e1-c668-74db763be3a4",
        "colab": {
          "base_uri": "https://localhost:8080/",
          "height": 272
        }
      },
      "source": [
        "# pick a random seed\n",
        "start = numpy.random.randint(0, len(dataX)-1)\n",
        "pattern = dataX[start]\n",
        "print (\"Seed:\")\n",
        "print (\"\\\"\", ''.join([int_to_char[value] for value in pattern]), \"\\\"\")\n",
        "# generate characters\n",
        "for i in range(1000):\n",
        "\tx = numpy.reshape(pattern, (1, len(pattern), 1))\n",
        "\tx = x / float(n_vocab)\n",
        "\tprediction = model.predict(x, verbose=0)\n",
        "\tindex = numpy.argmax(prediction)\n",
        "\tresult = int_to_char[index]\n",
        "\tseq_in = [int_to_char[value] for value in pattern]\n",
        "\tsys.stdout.write(result)\n",
        "\tpattern.append(index)\n",
        "\tpattern = pattern[1:len(pattern)]\n",
        "print (\"\\nDone.\")"
      ],
      "execution_count": 0,
      "outputs": [
        {
          "output_type": "stream",
          "text": [
            "Seed:\n",
            "\" uite silent for a\n",
            "minute or two, which gave the pigeon the opportunity of adding, 'you're\n",
            "looking fo \"\n",
            "w a gond deal tiis sime it to tea the datter of the table, and the white rabbit ceeen wery slle time the court. \n",
            "and she whole partering out of the tort of the table, and the white rabbit ceeen wery slle time the court. \n",
            "and she whole partering out of the tort of the table, and the white rabbit ceeen wery slle time the court. \n",
            "and she whole partering out of the tort of the table, and the white rabbit ceeen wery slle time the court. \n",
            "and she whole partering out of the tort of the table, and the white rabbit ceeen wery slle time the court. \n",
            "and she whole partering out of the tort of the table, and the white rabbit ceeen wery slle time the court. \n",
            "and she whole partering out of the tort of the table, and the white rabbit ceeen wery slle time the court. \n",
            "and she whole partering out of the tort of the table, and the white rabbit ceeen wery slle time the court. \n",
            "and she whole partering out of the tort of the table, and the white rabbit ceeen wery slle time the court. \n",
            "and she whole partering\n",
            "Done.\n"
          ],
          "name": "stdout"
        }
      ]
    },
    {
      "cell_type": "markdown",
      "metadata": {
        "id": "2YLGGGh1quJI",
        "colab_type": "text"
      },
      "source": [
        "**Changing model for suggested changes in step 2**"
      ]
    },
    {
      "cell_type": "code",
      "metadata": {
        "id": "3I-hYL-5gG0O",
        "colab_type": "code",
        "outputId": "27672b8e-7151-45ee-a755-1163a5528614",
        "colab": {
          "base_uri": "https://localhost:8080/",
          "height": 51
        }
      },
      "source": [
        "#removing punctuation from text\n",
        "#s.translate(str.maketrans('', '', string.punctuation))\n",
        "import string\n",
        "raw_text1 = raw_text.translate(str.maketrans('', '', string.punctuation))\n",
        "\n",
        "# create mapping of unique chars to integers, and a reverse mapping\n",
        "chars1 = sorted(list(set(raw_text1)))\n",
        "char_to_int1 = dict((c, i) for i, c in enumerate(chars1))\n",
        "int_to_char1 = dict((i, c) for i, c in enumerate(chars1))\n",
        "\n",
        "# summarize the loaded data\n",
        "n_chars1 = len(raw_text1)\n",
        "n_vocab1 = len(chars1)\n",
        "print (\"Total Characters: \", n_chars1)\n",
        "print (\"Total Vocab: \", n_vocab1)"
      ],
      "execution_count": 0,
      "outputs": [
        {
          "output_type": "stream",
          "text": [
            "Total Characters:  154861\n",
            "Total Vocab:  39\n"
          ],
          "name": "stdout"
        }
      ]
    },
    {
      "cell_type": "code",
      "metadata": {
        "id": "dEO1OZGVbXKX",
        "colab_type": "code",
        "outputId": "88fad38f-686d-4b8e-bc44-add2d8eadbce",
        "colab": {
          "base_uri": "https://localhost:8080/",
          "height": 34
        }
      },
      "source": [
        "# prepare the dataset of input to output pairs encoded as integers; removed punctuations\n",
        "seq_length = 100\n",
        "dataX1 = []\n",
        "dataY1 = []\n",
        "\n",
        "for i in range(0, n_chars1 - seq_length, 1):\n",
        "\tseq_in1 = raw_text1[i:i + seq_length]\n",
        "\tseq_out1 = raw_text1[i + seq_length]\n",
        "\tdataX1.append([char_to_int1[char1] for char1 in seq_in1])\n",
        "\tdataY1.append(char_to_int1[seq_out1])\n",
        "\n",
        "\n",
        "n_patterns1 = len(dataX1)\n",
        "print (\"Total Patterns: \", n_patterns1)"
      ],
      "execution_count": 0,
      "outputs": [
        {
          "output_type": "stream",
          "text": [
            "Total Patterns:  154761\n"
          ],
          "name": "stdout"
        }
      ]
    },
    {
      "cell_type": "code",
      "metadata": {
        "id": "sp6hRGqm3fyo",
        "colab_type": "code",
        "outputId": "f7e08d53-263e-4c66-b607-c38e36714766",
        "colab": {
          "base_uri": "https://localhost:8080/",
          "height": 71
        }
      },
      "source": [
        "from keras.preprocessing.text import one_hot\n",
        "from keras.preprocessing.text import text_to_word_sequence\n",
        "# define the document\n",
        "#text = 'The quick brown fox jumped over the lazy dog.'\n",
        "# estimate the size of the vocabulary\n",
        "words = set(text_to_word_sequence(raw_text1))\n",
        "vocab_size = len(words)\n",
        "print(vocab_size)\n",
        "# integer encode the document\n",
        "result = one_hot(raw_text1, round(vocab_size*1.3))\n",
        "print(result)"
      ],
      "execution_count": 0,
      "outputs": [
        {
          "output_type": "stream",
          "text": [
            "3251\n",
            "[4131, 790, 3856, 3877, 2732, 4030, 2715, 34, 1807, 550, 813, 3206, 1308, 3261, 1530, 4090, 2942, 2979, 424, 1951, 891, 2863, 553, 1338, 1951, 3653, 3698, 383, 1863, 3271, 3785, 306, 3785, 1468, 102, 4030, 3785, 3146, 3261, 2976, 4090, 3261, 2379, 543, 3812, 3099, 553, 550, 813, 102, 2957, 424, 2498, 1911, 3856, 3877, 2732, 4030, 1929, 34, 1807, 3278, 2192, 1442, 1304, 2212, 813, 1526, 2126, 2192, 2321, 3716, 1185, 960, 1346, 854, 3853, 1538, 683, 829, 4090, 550, 2379, 543, 813, 3856, 3877, 2732, 4030, 3856, 3877, 2732, 4030, 34, 1807, 3261, 2708, 3844, 2561, 3526, 370, 1099, 271, 3261, 4199, 4190, 2467, 2321, 829, 3839, 3560, 3852, 4090, 3363, 2715, 803, 2408, 3796, 3261, 4054, 2863, 4090, 1887, 4034, 829, 2261, 3432, 102, 1322, 1751, 3660, 3322, 2941, 3261, 4081, 803, 2408, 2467, 3823, 2874, 3785, 3660, 1951, 1407, 102, 1576, 2732, 3785, 2863, 674, 3206, 3261, 1530, 4090, 1933, 4081, 1973, 4190, 1506, 1407, 102, 1576, 2760, 1751, 2467, 2503, 2732, 803, 3399, 2271, 3374, 131, 3374, 1751, 3880, 1308, 3261, 3173, 2210, 3580, 803, 1467, 3560, 2812, 2863, 2184, 2099, 3261, 2085, 4090, 1268, 1933, 737, 1117, 2952, 3433, 3261, 840, 4090, 2069, 3373, 2863, 2765, 3261, 3155, 819, 2354, 1933, 2001, 818, 553, 1406, 2528, 2927, 4084, 2715, 803, 3043, 2467, 4034, 2760, 3560, 953, 2732, 1809, 1429, 1107, 4190, 368, 3785, 2760, 3560, 138, 2478, 4090, 3261, 1372, 829, 3759, 3261, 818, 3729, 829, 3281, 1620, 2314, 1620, 2314, 1099, 3117, 2952, 3199, 819, 1751, 1973, 3785, 97, 1634, 3785, 238, 829, 803, 1809, 1751, 3224, 829, 873, 2139, 424, 550, 2874, 424, 3261, 638, 3785, 3154, 3085, 2502, 3838, 2874, 819, 3261, 818, 1456, 1607, 1933, 3428, 2478, 4090, 2705, 862, 2863, 2902, 424, 3785, 2863, 3110, 2729, 3796, 4190, 2288, 829, 803, 3166, 1308, 3785, 3123, 3336, 803, 2271, 1809, 1751, 3660, 3899, 3723, 3123, 1933, 818, 553, 2494, 1933, 862, 102, 1933, 3428, 829, 1502, 2478, 4090, 3785, 2863, 1053, 553, 1811, 1751, 2927, 3336, 3261, 931, 1500, 3785, 2863, 2052, 2467, 2756, 2732, 638, 829, 2557, 3785, 1920, 271, 1933, 138, 4199, 3146, 3261, 2066, 2732, 290, 1562, 271, 3288, 4190, 1500, 3785, 3899, 3432, 2503, 3726, 2732, 3261, 2564, 1751, 2467, 829, 3839, 2478, 3364, 3261, 4199, 3288, 1197, 3796, 4037, 1933, 3325, 1308, 3212, 1372, 2863, 3110, 72, 2354, 271, 2760, 2354, 1809, 4190, 3660, 1551, 1933, 1562, 829, 368, 1283, 663, 718, 3723, 1751, 3480, 718, 1040, 271, 1933, 3560, 3186, 131, 2494, 3261, 131, 2467, 3560, 3186, 102, 1751, 410, 3560, 589, 1308, 1751, 3660, 1708, 4090, 638, 3374, 1751, 3288, 271, 829, 3018, 1283, 803, 2863, 829, 2325, 674, 2467, 3128, 829, 567, 1779, 2094, 1751, 757, 829, 3018, 271, 2863, 2352, 2478, 674, 1751, 2467, 3796, 829, 2874, 3785, 2467, 1656, 5, 829, 2557, 2541, 3110, 1751, 2902, 424, 3261, 1955, 4090, 3261, 131, 2863, 1140, 1809, 130, 2776, 3810, 553, 2473, 2863, 2235, 4123, 2863, 3043, 1751, 3272, 2935, 2863, 1407, 3620, 464, 3492, 1751, 1607, 271, 1933, 1932, 1763, 3971, 4090, 3261, 976, 3374, 1751, 3391, 3785, 2467, 66, 489, 1879, 2874, 829, 803, 4224, 3592, 3785, 2467, 3745, 1751, 1107, 1551, 4037, 829, 437, 3261, 1932, 1308, 4163, 4090, 2314, 3395, 2760, 1033, 829, 1364, 3785, 2941, 3971, 4090, 3261, 2473, 3374, 1751, 410, 3376, 3785, 131, 1973, 4190, 829, 718, 1500, 2243, 1933, 1917, 3374, 550, 1099, 3117, 368, 4034, 4090, 2216, 271, 2332, 3726, 1076, 1426, 3154, 368, 1702, 424, 320, 3801, 1099, 4045, 3729, 2541, 1283, 3785, 269, 1427, 1099, 410, 2239, 3261, 871, 4090, 3261, 2734, 4008, 2467, 3560, 1922, 1023, 271, 271, 271, 1117, 3261, 1917, 3899, 1163, 829, 3852, 130, 1099, 2325, 3726, 2132, 1888, 3202, 50, 2715, 550, 638, 1751, 3822, 1015, 1099, 690, 2952, 2069, 2767, 3791, 3261, 922, 4090, 3261, 3175, 2328, 1702, 2557, 1809, 1117, 2952, 3358, 2130, 1888, 271, 1099, 368, 1308, 383, 2557, 4190, 3660, 67, 2391, 1656, 4090, 550, 2519, 2732, 803, 406, 2732, 3261, 2676, 2863, 1938, 550, 2467, 1551, 1933, 3560, 3603, 1907, 1308, 578, 2239, 803, 3176, 3374, 3043, 2467, 1951, 3971, 829, 3601, 829, 803, 252, 3785, 2467, 3603, 2610, 829, 3729, 3785, 97, 3360, 3788, 1283, 3261, 29, 1530, 3110, 1099, 2325, 674, 3831, 102, 4167, 3202, 4108, 829, 4190, 3660, 1951, 1731, 674, 3831, 2467, 102, 4167, 2494, 2874, 1973, 130, 2776, 1385, 385, 601, 829, 3729, 3055, 1751, 2457, 3364, 1099, 2325, 1427, 1099, 3117, 1917, 29, 3260, 3261, 3175, 3726, 3075, 1155, 1281, 829, 1163, 2478, 2860, 3261, 2220, 1809, 1508, 553, 4217, 3405, 3345, 3261, 2849, 1099, 368, 1751, 2467, 2925, 1067, 3043, 2467, 1951, 3971, 977, 550, 638, 3374, 3785, 2956, 2290, 424, 3154, 3261, 29, 856, 2874, 1099, 3117, 873, 829, 4116, 2991, 674, 3261, 2202, 4090, 3261, 2535, 3206, 383, 3558, 529, 3192, 3206, 550, 431, 2446, 102, 3310, 2863, 1751, 757, 829, 2146, 3374, 1751, 3108, 1071, 3374, 4049, 1040, 3260, 3261, 1521, 2261, 383, 368, 383, 3880, 3876, 3785, 2863, 674, 3852, 1390, 379, 3722, 1747, 368, 1702, 1308, 3285, 1951, 1155, 3899, 2261, 829, 4116, 558, 1099, 3117, 2557, 3785, 370, 3373, 2767, 271, 271, 271, 3043, 2467, 4034, 1020, 829, 2261, 2760, 4190, 3964, 2457, 3166, 3364, 759, 543, 1702, 3560, 138, 2656, 1099, 3902, 368, 1133, 2467, 3261, 1006, 1099, 3297, 1426, 3040, 803, 3651, 4090, 1625, 424, 1759, 1133, 138, 2314, 1099, 615, 383, 2776, 271, 4123, 553, 1702, 3043, 699, 1951, 169, 2732, 3261, 1521, 2952, 4118, 2874, 383, 811, 3677, 1933, 2421, 2863, 3788, 3560, 4037, 1933, 2558, 383, 3558, 2874, 2261, 3121, 3467, 355, 1099, 2325, 2863, 4123, 4190, 2457, 829, 3839, 2925, 2812, 2863, 3288, 3796, 3278, 829, 718, 2732, 1933, 2662, 2519, 4090, 1372, 2261, 3121, 3467, 355, 2261, 3121, 3467, 355, 2863, 1282, 2261, 355, 3467, 3121, 1308, 383, 2557, 3374, 1751, 1747, 713, 2494, 2706, 3785, 2956, 138, 1071, 4008, 1372, 1751, 1364, 3785, 1751, 2688, 1809, 1751, 2467, 3949, 2239, 2863, 3660, 2756, 3250, 829, 1310, 1809, 1751, 2467, 672, 711, 2732, 711, 553, 1133, 2863, 3278, 829, 803, 3560, 1353, 2054, 1133, 1203, 1702, 3261, 3725, 1107, 383, 3056, 3467, 1933, 2421, 819, 2354, 2183, 2183, 271, 1751, 4167, 464, 1933, 718, 4090, 3744, 2863, 2268, 3314, 2863, 3261, 1917, 2467, 97, 4190, 2467, 1551, 1933, 2611, 3872, 2863, 1751, 2007, 3373, 3796, 829, 803, 3166, 2732, 1933, 1562, 1751, 2902, 3373, 2874, 3785, 2467, 3154, 5, 2207, 3723, 803, 2467, 290, 3805, 120, 2863, 3261, 2001, 818, 2467, 252, 2732, 4194, 1611, 271, 3785, 3043, 2467, 1551, 1933, 1562, 829, 2952, 3868, 1468, 3288, 4190, 4037, 3261, 2472, 2863, 2467, 2756, 2732, 638, 829, 3759, 3785, 3729, 3374, 3785, 2519, 1933, 1507, 1620, 138, 2545, 2863, 3571, 3726, 3199, 2705, 2069, 1751, 2467, 4084, 3678, 3785, 819, 1751, 2519, 3261, 1507, 2874, 3261, 818, 2467, 1951, 1785, 829, 2952, 3123, 1751, 3480, 718, 2732, 1933, 3805, 3644, 3640, 4008, 2467, 829, 3373, 2715, 1933, 1889, 4090, 3052, 2589, 1763, 3261, 2834, 3043, 2776, 1600, 3154, 1108, 3261, 3640, 2874, 130, 2776, 3154, 3849, 2863, 819, 4190, 3660, 2229, 3154, 3261, 1372, 271, 3971, 1347, 2863, 3373, 3261, 196, 776, 1478, 573, 1751, 234, 3143, 271, 3261, 3358, 2900, 3726, 1751, 2467, 3056, 829, 3839, 2478, 3364, 2354, 1751, 4167, 464, 1933, 379, 2286, 2441, 3154, 3580, 4090, 2064, 1417, 3043, 2467, 4034, 3796, 3785, 976, 1933, 3838, 270, 632, 2863, 3856, 2094, 1973, 2467, 1809, 3785, 811, 93, 829, 3971, 4090, 3261, 1600, 4090, 3261, 3640, 2874, 776, 2494, 3261, 375, 2776, 1656, 138, 102, 3261, 632, 2467, 1656, 288, 2874, 424, 2299, 1789, 3785, 1117, 1551, 3693, 2299, 4090, 2991, 3371, 3796, 3261, 294, 638, 1108, 1751, 4167, 464, 1933, 3644, 1684, 1751, 3660, 1551, 1140, 3723, 2863, 3678, 3785, 2467, 1933, 379, 573, 1283, 377, 1116, 1617, 1751, 757, 3261, 379, 270, 632, 2732, 3261, 436, 2863, 829, 803, 4224, 1155, 3785, 1168, 4190, 3304, 3261, 573, 2863, 3480, 1809, 3785, 2651, 2941, 1933, 288, 120, 1551, 138, 2149, 2229, 1933, 2994, 1751, 3591, 271, 2863, 2902, 2077, 3261, 120, 2941, 3261, 3396, 218, 383, 3056, 3272, 3726, 1751, 1872, 829, 3839, 2478, 4090, 1809, 5, 3640, 2863, 1628, 1283, 2860, 3259, 399, 4090, 1896, 829, 2863, 3259, 3918, 2313, 2874, 1751, 3880, 1551, 269, 3839, 803, 3581, 3260, 3261, 2261, 2863, 269, 1427, 138, 3581, 1117, 1574, 3260, 1973, 218, 4190, 3785, 1117, 2952, 4090, 3560, 379, 1530, 1506, 138, 273, 1620, 3726, 1099, 615, 1099, 3880, 876, 3373, 4037, 1933, 417, 1099, 368, 1099, 3880, 1427, 1099, 3743, 101, 3726, 829, 3557, 1308, 383, 2557, 2760, 2132, 210, 1656, 3660, 1132, 3022, 1809, 4190, 3660, 3250, 829, 368, 1809, 3560, 2886, 1656, 1107, 2776, 1979, 2534, 3043, 3085, 829, 2952, 1951, 1530, 2732, 3359, 2715, 3261, 379, 573, 2760, 1751, 3288, 3543, 829, 3261, 2441, 2746, 2117, 1751, 811, 1747, 290, 632, 3796, 3785, 102, 424, 2299, 1789, 1933, 4081, 4090, 4155, 1308, 302, 2220, 3373, 4037, 140, 550, 638, 1751, 3480, 1933, 379, 754, 3796, 3785, 4008, 3927, 2467, 1551, 4123, 3723, 3822, 4190, 2863, 1108, 3261, 2739, 4090, 3261, 754, 2467, 1933, 1968, 3005, 553, 3261, 601, 2003, 1702, 471, 824, 3796, 3785, 2732, 138, 3620, 3785, 2467, 3154, 3560, 131, 829, 3729, 2003, 1702, 2874, 3261, 3330, 379, 4190, 2467, 1551, 3128, 829, 2261, 1809, 2732, 1933, 197, 1951, 2690, 3018, 2094, 1751, 3822, 2863, 2557, 2099, 2705, 3151, 2591, 102, 1551, 1308, 1751, 3660, 3935, 2391, 1385, 379, 1325, 1283, 1371, 1872, 3660, 4108, 1043, 2863, 2862, 3373, 2715, 2069, 2580, 2863, 196, 2391, 1656, 3154, 3912, 130, 1117, 1551, 3040, 3261, 3119, 4155, 4217, 1123, 3660, 770, 2991, 2243, 3374, 1809, 1933, 3727, 2650, 3573, 3671, 383, 1427, 383, 2190, 3785, 1656, 3805, 2863, 1809, 1427, 383, 396, 195, 3583, 3560, 3195, 553, 1933, 2437, 3785, 3105, 1297, 2863, 1751, 3660, 3899, 3803, 1809, 1427, 383, 2003, 138, 1763, 1933, 754, 3151, 2591, 3785, 3206, 1338, 3667, 829, 723, 553, 383, 271, 102, 649, 3371, 550, 754, 2467, 1551, 3151, 2591, 2760, 4190, 2583, 829, 3007, 3785, 2863, 2106, 3785, 3560, 1385, 3785, 3660, 2732, 2110, 1933, 2519, 4090, 2763, 1765, 4090, 1799, 154, 2983, 2112, 177, 659, 2863, 3173, 2839, 83, 1751, 3560, 3964, 2632, 3785, 2239, 674, 1933, 2667, 4018, 3822, 4190, 1099, 690, 2952, 302, 3373, 4037, 1933, 417, 2863, 2760, 3785, 2467, 1107, 1751, 2467, 2054, 3743, 590, 1116, 1617, 2863, 803, 374, 1331, 3373, 424, 3261, 1973, 1809, 1751, 2467, 2054, 3261, 29, 3060, 1308, 3128, 3260, 3261, 379, 573, 2941, 1809, 2333, 218, 2094, 3371, 1751, 3460, 1308, 1933, 2886, 2300, 829, 2557, 1427, 1751, 2467, 3128, 829, 1822, 2299, 2221, 1751, 2688, 1933, 379, 1139, 1283, 550, 1308, 3785, 811, 130, 383, 3558, 3822, 4190, 829, 718, 2732, 138, 3128, 2478, 3819, 4037, 1933, 4020, 1099, 2325, 674, 1099, 3902, 2952, 4037, 3110, 2863, 1751, 757, 829, 1883, 674, 3261, 2772, 4090, 1933, 4020, 3206, 4037, 1500, 3261, 4020, 3206, 2283, 2478, 1308, 1751, 3880, 1551, 3040, 3056, 1887, 3123, 2243, 1933, 953, 1500, 1933, 3733, 2106, 1809, 4034, 1863, 1132, 1751, 619, 3796, 3128, 2941, 3261, 218, 424, 3432, 2874, 776, 1308, 218, 4190, 819, 1751, 4108, 829, 3261, 573, 1751, 3480, 1751, 3660, 3803, 3261, 379, 270, 632, 2863, 819, 1751, 3288, 3543, 829, 3261, 2441, 1308, 3785, 1751, 3480, 1751, 3880, 1551, 898, 2741, 3785, 1751, 3880, 2557, 3785, 2502, 1326, 3260, 3261, 1417, 2863, 1751, 757, 803, 2728, 829, 2959, 3373, 3971, 4090, 3261, 2026, 4090, 3261, 2441, 2874, 3785, 2467, 1656, 3310, 2863, 819, 1751, 3660, 3852, 718, 2478, 553, 776, 3261, 218, 379, 953, 3405, 271, 2863, 2801, 1163, 2049, 1951, 1530, 2732, 901, 4037, 1809, 3822, 4190, 829, 718, 2925, 282, 1099, 3768, 383, 829, 4047, 2239, 550, 240, 1751, 3973, 299, 718, 3560, 3603, 2529, 1938, 1751, 3560, 1571, 2767, 3785, 2863, 1282, 1751, 3357, 718, 2760, 1345, 3374, 829, 2832, 1074, 2941, 803, 2528, 2863, 3432, 1751, 1202, 776, 829, 1847, 803, 3399, 2545, 1308, 1887, 2460, 718, 2732, 1933, 2382, 4090, 2665, 1751, 2467, 1555, 3096, 718, 1308, 550, 2667, 16, 2467, 3560, 2449, 4090, 283, 829, 2952, 1350, 2220, 2874, 2705, 1951, 1530, 2054, 1973, 218, 4190, 829, 2102, 829, 2952, 1350, 2220, 3801, 2049, 2425, 2369, 4090, 1702, 1263, 829, 2352, 3971, 2839, 2630, 3964, 803, 3959, 410, 3796, 1933, 379, 1417, 1847, 1809, 2467, 1913, 3146, 3261, 2441, 1751, 3304, 3785, 2863, 3480, 2732, 3785, 1933, 3560, 288, 1227, 3796, 4008, 3261, 601, 3467, 1702, 2776, 471, 3151, 2732, 2477, 131, 2690, 3467, 3785, 3822, 4190, 2863, 1427, 3785, 2325, 1702, 1055, 2149, 1099, 1663, 2741, 3261, 632, 2863, 1427, 3785, 2325, 1702, 1055, 1530, 1099, 1663, 3756, 3146, 3261, 573, 2760, 2494, 1372, 2690, 3839, 2941, 3261, 218, 2863, 1099, 1467, 2019, 4008, 1706, 1751, 815, 1933, 379, 2611, 2863, 3822, 1902, 829, 718, 4008, 1372, 4008, 1372, 2518, 803, 711, 3796, 3261, 871, 4090, 803, 3581, 829, 1467, 4008, 1372, 3785, 2467, 2169, 2863, 1751, 2467, 2502, 1560, 829, 1747, 1809, 1751, 2408, 3261, 2232, 3060, 829, 2952, 2173, 550, 3973, 1706, 819, 3971, 2495, 1227, 2874, 4190, 3660, 4108, 2760, 138, 2941, 3261, 1372, 4090, 1341, 4034, 2874, 210, 1656, 829, 567, 1809, 3785, 3085, 2502, 1305, 2863, 2184, 1308, 1443, 829, 1574, 3796, 2732, 3261, 2259, 1372, 2760, 1751, 751, 829, 4161, 2863, 3560, 3964, 2632, 2239, 3261, 1227, 370, 3386, 3261, 1169, 4090, 1074, 2429, 2863, 2429, 2801, 4190, 1751, 2467, 2760, 138, 1560, 1809, 1308, 3261, 1562, 1751, 2502, 599, 3726, 829, 3267, 3603, 683, 2054, 2952, 4163, 2478, 4037, 3261, 2536, 417, 1809, 3056, 2467, 1297, 3166, 1308, 819, 1751, 2902, 271, 424, 803, 3166, 130, 3085, 829, 2952, 1338, 2478, 4090, 4194, 130, 2776, 2069, 2760, 3237, 2239, 1620, 138, 218, 379, 3166, 1099, 2325, 1872, 3573, 1364, 3796, 195, 3047, 2863, 2295, 1308, 383, 2054, 2985, 2952, 2173, 1099, 3625, 2952, 77, 1099, 3117, 2952, 1933, 4224, 2414, 1656, 3237, 2239, 829, 840, 2753, 1283, 383, 383, 690, 3876, 3261, 2728, 1372, 383, 1499, 1099, 690, 2952, 3985, 829, 2991, 1973, 4190, 102, 558, 130, 1587, 1508, 3261, 1372, 1099, 2980, 829, 1574, 2328, 1702, 2557, 2690, 306, 2991, 1933, 431, 585, 4090, 3432, 1478, 1777, 2863, 1751, 3288, 3796, 656, 829, 718, 3726, 1751, 1117, 3876, 3785, 130, 690, 1574, 2715, 3261, 557, 1751, 1973, 2863, 3726, 3075, 1155, 1281, 1786, 3046, 829, 1879, 3399, 3166, 2863, 3726, 3928, 3261, 527, 3573, 3018, 3856, 29, 2, 38, 1329, 3791, 3261, 1658, 553, 3856, 4135, 1620, 2314, 674, 2132, 2952, 3166, 2756, 3110, 803, 3581, 2199, 3096, 3261, 2834, 4090, 3261, 3640, 2732, 2110, 1751, 2467, 2054, 1863, 2229, 3355, 3166, 1617, 2863, 1751, 424, 3432, 1607, 3373, 3261, 379, 270, 632, 2863, 2729, 2239, 829, 3261, 218, 573, 218, 4190, 3785, 2467, 3374, 138, 3374, 1751, 3880, 2261, 1913, 271, 3796, 3971, 1347, 829, 3018, 3260, 2941, 3261, 218, 553, 3971, 3959, 2874, 829, 3839, 3260, 2467, 1863, 3118, 2229, 3056, 1751, 3405, 271, 2863, 2457, 829, 1300, 3364, 383, 3224, 829, 2952, 87, 4090, 2316, 3822, 4190, 1933, 4224, 3722, 4037, 383, 1751, 811, 131, 3729, 550, 829, 1574, 3796, 901, 2732, 550, 1372, 3978, 550, 1562, 1099, 1203, 383, 2874, 1751, 3288, 3796, 3154, 3261, 2232, 3974, 2459, 4090, 1074, 2596, 3043, 2467, 1933, 138, 1169, 3154, 1108, 803, 1283, 3358, 1116, 3186, 2863, 585, 2746, 271, 3261, 3640, 1500, 1933, 638, 1751, 317, 1933, 379, 3100, 4090, 3166, 2732, 3261, 2289, 2863, 1751, 4223, 1837, 803, 2528, 829, 2557, 674, 2467, 3796, 3785, 2467, 3261, 2001, 818, 3840, 2155, 1532, 553, 1933, 585, 4090, 2001, 930, 3303, 2732, 3971, 711, 2863, 1933, 138, 681, 2732, 3261, 196, 3151, 4167, 924, 2077, 2732, 1933, 4224, 197, 3460, 829, 684, 3374, 3151, 4167, 1620, 3261, 63, 3261, 63, 1620, 1587, 1751, 2952, 506, 1427, 3202, 640, 803, 3359, 4190, 2688, 2760, 2826, 1809, 1751, 2467, 255, 829, 4116, 2108, 4090, 2299, 3971, 2760, 819, 3261, 818, 4167, 3791, 803, 1751, 2457, 2732, 1933, 3644, 2366, 1717, 1427, 383, 529, 4110, 3261, 818, 2288, 4062, 3395, 3261, 2001, 930, 3303, 2863, 3261, 681, 2863, 3141, 1468, 2941, 3261, 1008, 3374, 4066, 3374, 3151, 3880, 1574, 4190, 1607, 3373, 3261, 681, 2863, 3303, 2863, 3374, 3261, 3640, 2467, 3560, 3173, 1751, 640, 1723, 718, 3154, 3261, 638, 1751, 3288, 3796, 3166, 2314, 2314, 3726, 2055, 3143, 3206, 2845, 2863, 3912, 1656, 3288, 3796, 2756, 3374, 2899, 1099, 2325, 1427, 3202, 2229, 3073, 2732, 3261, 4010, 2328, 1702, 368, 2467, 1099, 3261, 2232, 819, 1099, 4108, 3373, 550, 519, 1099, 1338, 368, 1099, 1663, 3040, 4018, 1933, 379, 833, 2874, 1427, 2952, 1551, 3261, 2232, 3261, 1779, 2706, 3206, 1872, 2732, 3261, 2564, 1582, 1099, 852, 3788, 3261, 4224, 2825, 2863, 1751, 2457, 325, 97, 3154, 3261, 1371, 1751, 101, 1809, 2776, 4090, 3261, 2232, 2224, 3374, 718, 829, 2557, 1427, 1751, 3880, 873, 2229, 3073, 1308, 2299, 4090, 2991, 2952, 2173, 2952, 1551, 3650, 1751, 3822, 1308, 803, 706, 1772, 2732, 2243, 3805, 2048, 2863, 3958, 3221, 1574, 2732, 2048, 424, 3154, 2863, 2952, 2173, 1099, 129, 2952, 1699, 1308, 1099, 3558, 3154, 2230, 4090, 1656, 2863, 1751, 1620, 1751, 3521, 2243, 1933, 3560, 379, 3742, 394, 1751, 2863, 2952, 1099, 583, 2314, 3726, 3769, 3785, 3154, 3206, 2690, 2004, 1427, 1099, 3558, 3154, 3261, 1656, 1099, 3786, 829, 3558, 2328, 1702, 2557, 3358, 1751, 4016, 3206, 451, 2863, 3358, 1751, 950, 3206, 1453, 2863, 3358, 1751, 3284, 1915, 2314, 1099, 3117, 3899, 3839, 829, 1597, 424, 1809, 1789, 3371, 3261, 4132, 2441, 3221, 2383, 3030, 2004, 1252, 657, 3206, 3261, 2621, 4090, 3446, 2863, 3446, 3206, 3261, 2621, 4090, 749, 2863, 88, 3788, 3154, 3033, 2952, 3667, 1099, 690, 873, 2229, 3073, 1308, 1699, 2690, 2004, 2863, 3729, 3726, 2796, 3261, 379, 2863, 1751, 956, 803, 4143, 3796, 803, 2955, 3374, 1427, 1751, 2776, 3278, 406, 2863, 2457, 829, 3248, 3785, 2874, 803, 1717, 838, 2668, 2863, 2021, 2863, 3261, 601, 1107, 1551, 1163, 3261, 2232, 3374, 130, 3786, 829, 2261, 3726, 2796, 3261, 379, 1873, 3753, 3118, 1809, 2044, 2863, 3588, 3261, 230, 4090, 3261, 2529, 3796, 1478, 270, 1926, 3726, 1960, 3151, 2773, 829, 2317, 3726, 2789, 1034, 3118, 3195, 2863, 4163, 379, 3929, 2732, 553, 3901, 2955, 3394, 2952, 2173, 3259, 699, 1551, 3261, 29, 601, 3822, 218, 4190, 2863, 803, 2528, 3810, 553, 1074, 3364, 3374, 1751, 3288, 3796, 1099, 690, 2952, 1699, 1500, 3154, 2863, 1099, 3117, 873, 829, 1574, 2863, 2653, 2732, 1809, 3068, 379, 2734, 2863, 873, 1779, 829, 1951, 1312, 829, 3091, 553, 2863, 1620, 3056, 2760, 2132, 406, 829, 375, 1951, 3202, 3580, 3373, 138, 2271, 1283, 3785, 1427, 2952, 1699, 2690, 1050, 271, 4123, 1155, 2952, 1951, 1530, 4217, 3327, 4217, 3405, 271, 2863, 3278, 1163, 3373, 3364, 2314, 1099, 3117, 3743, 3018, 3373, 2863, 3729, 1872, 1582, 1099, 3110, 1203, 1702, 1809, 2094, 2863, 3110, 1427, 1099, 4037, 3161, 1809, 2630, 2690, 1163, 3373, 1427, 1551, 2690, 1050, 271, 4123, 2591, 2952, 3395, 3298, 1620, 2314, 2801, 4190, 553, 1933, 1153, 3941, 4090, 1074, 1099, 2261, 615, 130, 1117, 1364, 4217, 3405, 271, 1099, 1582, 2760, 3560, 3852, 4090, 3161, 3154, 3424, 4123, 3374, 1751, 3822, 550, 1751, 2902, 271, 424, 803, 4143, 2863, 2467, 1560, 829, 2557, 1809, 1751, 3660, 1364, 3796, 3971, 4090, 3261, 2802, 379, 2001, 930, 3303, 3733, 1751, 2467, 3166, 3726, 1663, 1099, 873, 3454, 1809, 1751, 1973, 1099, 690, 2952, 2169, 288, 3364, 1751, 4108, 3373, 2863, 3288, 829, 3261, 2441, 829, 729, 718, 2715, 3785, 2863, 3480, 1809, 3374, 2294, 3374, 1751, 3880, 1530, 1751, 2467, 2054, 1283, 1350, 3166, 1617, 2863, 2467, 3128, 3796, 2936, 1523, 1751, 3964, 3480, 2478, 1809, 3261, 3757, 4090, 550, 2467, 3261, 681, 1751, 2467, 2518, 2863, 1751, 3395, 3785, 4223, 2756, 2732, 638, 829, 519, 2936, 1468, 3819, 1809, 2467, 1933, 2471, 2619, 3822, 4190, 1933, 3603, 2414, 3223, 424, 3261, 1153, 1993, 2874, 3560, 1067, 829, 1747, 718, 252, 2732, 4025, 2863, 2054, 1308, 3261, 218, 2863, 1751, 2927, 553, 3154, 2411, 3543, 829, 3261, 379, 573, 2874, 776, 3261, 379, 573, 2467, 876, 3364, 2863, 3261, 379, 270, 632, 2467, 1913, 3796, 3261, 1417, 2441, 3374, 3723, 2863, 1656, 699, 2665, 2229, 3056, 1973, 3261, 218, 16, 1308, 1099, 3899, 2467, 2760, 288, 3374, 550, 3723, 3899, 2863, 1099, 3097, 2705, 1656, 1405, 1809, 3785, 3206, 3374, 1751, 3822, 760, 601, 803, 2, 2001, 2863, 2732, 290, 1562, 1509, 1751, 2467, 3373, 829, 803, 4011, 2732, 1371, 1789, 803, 2094, 1731, 2467, 1809, 1751, 3660, 3884, 50, 2941, 3261, 1476, 2863, 2732, 1809, 2831, 1099, 1663, 1574, 3543, 2715, 833, 1751, 3822, 829, 718, 4190, 3660, 2229, 829, 3261, 1107, 3432, 2732, 803, 1443, 2863, 3660, 1163, 829, 3261, 3050, 4128, 1809, 3970, 383, 1574, 829, 3796, 3261, 683, 1512, 383, 1747, 1933, 3330, 4090, 2583, 2990, 2732, 3261, 1476, 3212, 1371, 2058, 2732, 3261, 720, 553, 2835, 3705, 3110, 1933, 1889, 4090, 1579, 648, 2863, 3678, 2991, 1933, 833, 2099, 3371, 1751, 3964, 3580, 2478, 1809, 1751, 2467, 2732, 3261, 1169, 4090, 1074, 4008, 1751, 3660, 2968, 819, 1751, 2467, 3355, 3166, 1617, 1099, 615, 1099, 2974, 2801, 2760, 138, 3822, 4190, 3374, 1751, 3107, 1283, 776, 829, 1747, 803, 1372, 2478, 1099, 3117, 2952, 3725, 1308, 3785, 2054, 1099, 3686, 2715, 3161, 3194, 2732, 138, 3399, 1074, 1809, 3573, 2952, 1933, 2055, 953, 829, 2952, 2173, 3371, 3143, 3206, 2055, 2845, 2756, 3110, 1751, 317, 453, 472, 1283, 2732, 3261, 1169, 1933, 379, 1372, 2239, 2863, 1751, 3107, 793, 829, 2352, 2478, 674, 3785, 2467, 424, 2094, 1751, 1973, 3785, 690, 2952, 1933, 1571, 102, 3786, 2874, 3110, 1751, 1202, 3726, 288, 1751, 2467, 2054, 2863, 1751, 3964, 3580, 2478, 1809, 3785, 2467, 3743, 1933, 2558, 1809, 3660, 2001, 2732, 4037, 718, 1117, 3785, 2952, 4090, 2299, 1530, 2054, 1973, 4190, 829, 3267, 829, 550, 2558, 3143, 3206, 2760, 210, 271, 4123, 1809, 1099, 3902, 368, 3560, 1922, 3785, 1663, 1585, 424, 2299, 1789, 2049, 1951, 1084, 2732, 776, 2760, 1751, 2457, 3675, 2558, 2261, 383, 3558, 3261, 1372, 2478, 4090, 550, 1169, 1099, 1582, 3560, 3852, 4090, 457, 1283, 4123, 3675, 2558, 4190, 1973, 550, 690, 2952, 3261, 29, 1372, 4090, 2330, 829, 1933, 2558, 1751, 3660, 3899, 3454, 2243, 1933, 953, 3723, 2874, 1751, 1202, 1887, 3123, 2732, 803, 1091, 928, 1, 1933, 1838, 1933, 3204, 1933, 3007, 2283, 2558, 3261, 2558, 2902, 424, 803, 2925, 2150, 2863, 3085, 829, 803, 829, 2025, 553, 3971, 4090, 2705, 379, 2528, 2874, 3785, 3822, 4034, 558, 3785, 3221, 2859, 683, 1973, 4190, 1099, 2282, 2705, 1933, 2965, 2558, 1163, 97, 553, 2855, 3261, 784, 1308, 553, 3154, 803, 3176, 4090, 1471, 4190, 3660, 1951, 3560, 4043, 1146, 3726, 3805, 3058, 2541, 3660, 1132, 2760, 1751, 2457, 3364, 4075, 3656, 351, 1708, 4008, 2467, 3261, 2094, 2408, 2732, 803, 2965, 2850, 3261, 2558, 299, 1933, 1153, 3538, 2478, 4090, 3261, 1789, 2863, 3085, 829, 1671, 3154, 97, 553, 341, 1620, 1099, 3448, 195, 3901, 2801, 4190, 4223, 4118, 1809, 1751, 3660, 3872, 3261, 218, 80, 3608, 1099, 2502, 599, 383, 2956, 4037, 3121, 1551, 4037, 3121, 2801, 3261, 2558, 2732, 1933, 1070, 4092, 1717, 1117, 383, 4037, 3121, 1427, 383, 2776, 1702, 131, 558, 1551, 3822, 4190, 2732, 1933, 3121, 3011, 1467, 2952, 625, 1283, 3785, 2863, 3894, 1099, 615, 1099, 3880, 950, 383, 2829, 1006, 1133, 1099, 368, 2453, 1502, 1933, 1883, 829, 3121, 1427, 383, 3880, 3743, 2557, 803, 1751, 3206, 2243, 1933, 2314, 2758, 953, 4190, 3288, 3796, 2746, 829, 718, 3374, 1751, 3107, 2036, 1283, 2732, 3261, 1169, 2863, 1751, 2380, 3783, 2760, 3241, 2715, 3261, 61, 2867, 803, 2597, 2863, 92, 803, 2856, 1751, 3206, 2243, 1933, 1385, 2989, 953, 829, 3424, 394, 2243, 1933, 2621, 3971, 1308, 1710, 1461, 1099, 3448, 195, 3901, 2801, 4190, 3364, 1308, 550, 638, 3261, 2558, 2467, 3378, 3154, 97, 2863, 1751, 2688, 3667, 3785, 690, 2952, 1979, 31, 3846, 1587, 1585, 1283, 803, 2299, 1863, 1427, 2453, 2925, 1551, 3846, 1107, 2801, 3261, 2558, 1872, 2467, 1053, 271, 829, 3261, 130, 4090, 3118, 2044, 3374, 1427, 1099, 1117, 1585, 3796, 2243, 1933, 1639, 2829, 2302, 71, 1263, 3121, 233, 3644, 2601, 1656, 1467, 2328, 1702, 3759, 3261, 2202, 3364, 1099, 1587, 1107, 3822, 4190, 2732, 1933, 4224, 197, 829, 1993, 3261, 1639, 4090, 3221, 699, 951, 383, 2451, 2265, 3261, 2558, 1107, 1551, 713, 2760, 4190, 3288, 3796, 3016, 3043, 3206, 2243, 1933, 1385, 379, 1306, 3791, 2829, 2734, 1099, 3902, 4037, 829, 950, 383, 1933, 379, 2366, 1906, 383, 3558, 553, 1620, 2243, 3805, 3079, 2688, 706, 2863, 1155, 2326, 1656, 819, 383, 2278, 2991, 2863, 1155, 3833, 3373, 2863, 3448, 1308, 2705, 998, 2863, 3154, 2230, 4090, 4209, 129, 3040, 2746, 4090, 1503, 3785, 605, 829, 1933, 1061, 383, 3558, 2863, 3151, 1272, 2705, 2760, 2758, 2705, 3433, 1933, 1697, 354, 3151, 1272, 3785, 279, 3154, 3261, 1239, 583, 2314, 2801, 4190, 2732, 1933, 1415, 3011, 2952, 4118, 3202, 31, 3785, 3364, 1308, 3261, 2558, 2467, 457, 1468, 1763, 803, 3374, 4066, 3374, 3785, 3880, 1574, 2863, 1268, 2502, 1933, 1758, 2732, 3261, 1169, 3374, 3785, 3288, 2760, 1751, 3010, 1368, 1500, 3785, 2558, 2314, 2261, 1163, 3543, 3364, 2863, 3846, 1587, 1585, 1283, 3121, 102, 2265, 2494, 1427, 383, 1467, 4037, 2991, 819, 3261, 2558, 317, 550, 3785, 2519, 1108, 2863, 3107, 589, 3543, 829, 803, 2705, 374, 2467, 2502, 643, 553, 751, 4190, 1973, 2863, 3785, 3822, 2732, 1933, 3644, 1053, 1717, 2328, 1374, 3839, 829, 3261, 2815, 2863, 3110, 2690, 1203, 383, 138, 1471, 2863, 771, 2859, 3801, 3785, 3206, 1099, 3275, 3121, 2863, 2265, 3785, 2467, 1617, 638, 829, 1574, 1308, 3261, 1169, 2467, 2069, 2502, 461, 553, 3261, 1459, 2863, 80, 1809, 3660, 50, 2941, 3785, 3043, 2776, 1933, 828, 2863, 1933, 119, 1933, 745, 2863, 3852, 3103, 2863, 2391, 196, 2667, 571, 4190, 2651, 3261, 1372, 2863, 3261, 1770, 1920, 3107, 829, 3261, 2815, 370, 1529, 1933, 255, 2863, 1933, 3805, 1999, 130, 2776, 1107, 1933, 2379, 1920, 1809, 3000, 3796, 3261, 3661, 1459, 553, 2471, 2157, 3261, 80, 553, 4217, 1693, 695, 4084, 829, 2991, 2863, 3154, 2924, 3228, 1625, 2863, 4163, 3261, 2094, 2706, 4090, 67, 2467, 3726, 829, 3839, 2268, 3364, 130, 3660, 1933, 3861, 1283, 550, 2863, 1500, 1933, 2886, 2300, 3785, 3085, 2502, 3838, 829, 4190, 829, 1747, 718, 3166, 3216, 553, 2991, 3374, 1427, 1751, 3660, 342, 2991, 3154, 803, 1443, 1107, 1751, 3660, 2502, 1933, 3805, 609, 553, 3261, 745, 1872, 424, 1185, 2519, 2002, 2863, 1117, 3743, 3729, 1099, 1582, 1111, 2229, 383, 2863, 690, 3558, 3296, 2863, 550, 4190, 1117, 1551, 2912, 1506, 2117, 3726, 2594, 3785, 2467, 2863, 3374, 3261, 745, 3504, 294, 829, 1203, 2705, 2224, 3043, 2467, 1951, 1863, 829, 2952, 3822, 424, 1185, 3261, 2558, 1872, 3085, 829, 2952, 1933, 2630, 4090, 2849, 2860, 2991, 3010, 2478, 3833, 271, 3154, 4090, 383, 2863, 3601, 829, 1702, 2690, 3964, 2352, 383, 2268, 2369, 130, 3154, 3405, 271, 424, 3432, 2732, 1933, 138, 324, 553, 3261, 2558, 2732, 3261, 3358, 4190, 640, 803, 2528, 1902, 4125, 3796, 3785, 1308, 1751, 2688, 2173, 1751, 1117, 3677, 1933, 1405, 3159, 1427, 1751, 1107, 1551, 3839, 2268, 3560, 3964, 686, 3822, 3261, 2558, 553, 3852, 1093, 1521, 699, 383, 3154, 255, 550, 3206, 3261, 1653, 953, 1099, 3558, 3429, 3154, 1108, 1427, 383, 529, 2855, 3261, 784, 1484, 3757, 2467, 1152, 2715, 3261, 3699, 2467, 3964, 1132, 829, 2715, 3261, 683, 1872, 3052, 2763, 2863, 3660, 2229, 4090, 3199, 138, 129, 829, 2444, 2863, 2244, 3906, 2863, 3444, 3261, 3395, 4090, 2578, 2863, 3778, 4176, 3822, 3261, 745, 553, 1933, 4070, 1099, 3448, 195, 3901, 3822, 3261, 2558, 2500, 2874, 3560, 2207, 1107, 383, 3267, 1551, 1099, 3822, 3261, 745, 4223, 1099, 1973, 383, 1107, 3822, 3261, 2558, 1099, 2671, 3906, 2863, 3444, 3261, 3395, 4090, 2578, 2863, 3778, 506, 1308, 41, 2863, 269, 858, 3261, 3637, 3905, 4090, 1241, 3480, 3785, 2137, 3480, 674, 3822, 3261, 828, 3480, 3785, 3261, 2558, 2459, 2925, 3007, 4090, 67, 383, 3558, 674, 3785, 3352, 1099, 3558, 674, 3785, 3352, 131, 2369, 819, 1099, 1747, 1933, 953, 3822, 3261, 828, 2705, 3973, 1933, 1964, 102, 1933, 696, 3261, 2706, 3206, 674, 1107, 3261, 3905, 1747, 3261, 2558, 1107, 1551, 3857, 550, 2706, 2874, 4115, 3288, 3796, 3480, 3785, 2137, 829, 1574, 553, 756, 680, 829, 1498, 2855, 2863, 2565, 41, 3261, 2768, 247, 3769, 424, 2094, 2467, 1340, 2874, 3261, 2949, 4090, 3118, 1566, 3726, 699, 383, 2069, 3796, 2054, 138, 2314, 3785, 3143, 602, 829, 4190, 3374, 3785, 635, 3374, 3228, 3374, 3056, 3822, 4190, 2732, 1933, 1148, 3011, 3785, 3221, 1281, 829, 2268, 1702, 424, 3154, 2732, 1809, 2831, 3822, 3261, 119, 375, 3059, 829, 2705, 3166, 1099, 463, 1809, 3261, 3334, 41, 1308, 3261, 3968, 2755, 4090, 1863, 702, 3696, 3267, 683, 3822, 3261, 3103, 1099, 1467, 3558, 3261, 3143, 4090, 2746, 3259, 3805, 601, 2863, 3686, 1863, 1099, 1467, 1536, 383, 2261, 2494, 2863, 3261, 3103, 3584, 271, 2705, 3581, 829, 3914, 1933, 1774, 3212, 4090, 3261, 196, 1459, 2743, 795, 674, 1099, 2467, 3128, 829, 3729, 3822, 3261, 119, 2732, 3852, 31, 3011, 2467, 1809, 3261, 2728, 953, 829, 3839, 1374, 2268, 1117, 2952, 1933, 255, 674, 3206, 1933, 255, 3822, 4190, 1551, 1809, 1751, 3052, 138, 829, 3558, 2874, 3261, 119, 3660, 3222, 3374, 1427, 3785, 1973, 1809, 3395, 3224, 829, 3267, 2863, 1951, 3971, 1020, 3085, 2735, 829, 3729, 2541, 3801, 3822, 3261, 119, 3261, 2728, 1372, 829, 3592, 3785, 3206, 829, 2261, 3785, 2863, 3374, 383, 811, 4037, 829, 2004, 3261, 953, 2316, 3212, 2088, 2210, 1099, 3573, 1203, 383, 3726, 3261, 119, 1033, 3785, 2094, 3785, 3151, 2478, 1933, 731, 2732, 1933, 2519, 4090, 928, 3261, 4090, 809, 3221, 1071, 3785, 3822, 2863, 3110, 3154, 3261, 1920, 2776, 1336, 2077, 3261, 67, 4123, 2863, 3043, 3043, 2467, 1951, 3971, 1350, 1881, 2863, 1468, 2874, 130, 2457, 1766, 819, 130, 1159, 2863, 1263, 2239, 819, 130, 1159, 2760, 1809, 3785, 2467, 1551, 1275, 829, 3558, 819, 3261, 2804, 2467, 97, 3371, 819, 130, 3660, 2229, 1766, 2746, 3852, 3192, 102, 2760, 2863, 2776, 2502, 2268, 3364, 3261, 119, 2354, 3010, 2478, 3261, 2804, 3206, 97, 2863, 130, 3154, 461, 1108, 3785, 2965, 2863, 3285, 2874, 1872, 769, 3795, 550, 2706, 3261, 119, 3880, 1551, 713, 1506, 1933, 4224, 2414, 4090, 1973, 2863, 3785, 3405, 1308, 1933, 3805, 638, 553, 3971, 3583, 406, 464, 2705, 1219, 3261, 3380, 2732, 4008, 383, 3105, 2557, 2696, 2732, 3261, 1407, 4090, 41, 3733, 3261, 403, 3460, 2732, 3429, 424, 1185, 3261, 119, 3822, 2640, 769, 3795, 2863, 3154, 690, 873, 4013, 2874, 1872, 3206, 829, 306, 3261, 4013, 2502, 1933, 3666, 4090, 2978, 696, 3801, 1751, 4090, 67, 3822, 3261, 119, 1971, 829, 4190, 553, 3971, 3583, 2863, 3261, 1770, 1920, 424, 3432, 461, 1108, 803, 3350, 2478, 2732, 1933, 3559, 1372, 4013, 4013, 4190, 3660, 1951, 1731, 674, 829, 2261, 2863, 2732, 317, 1751, 1364, 803, 711, 2732, 803, 3854, 2863, 326, 2478, 1933, 1847, 4090, 4201, 1965, 3261, 1371, 1789, 3660, 1551, 4108, 2941, 3785, 2863, 562, 2991, 1108, 3374, 4013, 3043, 2467, 1230, 3971, 2437, 3154, 1108, 2874, 1751, 690, 873, 1933, 3391, 718, 383, 3558, 3822, 3261, 2558, 4090, 67, 3261, 119, 2459, 3560, 3999, 674, 1020, 873, 383, 4108, 2732, 195, 3854, 3151, 3288, 3796, 602, 829, 4190, 3743, 1933, 3215, 3822, 4190, 3143, 711, 3785, 97, 4123, 3822, 3261, 119, 3110, 130, 3154, 461, 1108, 803, 3432, 1863, 3733, 3261, 119, 375, 426, 3261, 3215, 3278, 3846, 3448, 195, 227, 4090, 550, 4139, 3215, 2863, 819, 3785, 3660, 2632, 550, 768, 3578, 130, 3154, 806, 4190, 1973, 3261, 1770, 953, 3560, 1751, 2874, 130, 3154, 2902, 2760, 650, 1809, 1751, 1107, 1551, 1265, 829, 1068, 2863, 3374, 1751, 3880, 1551, 368, 4090, 2541, 829, 3729, 1751, 2518, 1169, 2863, 1607, 3261, 3215, 3326, 3374, 1473, 3374, 1751, 3880, 3261, 1779, 953, 2467, 829, 3467, 3261, 4201, 550, 887, 3212, 1684, 2863, 1810, 3374, 3261, 138, 1459, 4098, 1809, 130, 3880, 1551, 3007, 3976, 2863, 3261, 288, 1879, 3120, 2863, 3660, 829, 2952, 3373, 3796, 3261, 3543, 3371, 3785, 2467, 97, 424, 1185, 2863, 130, 3405, 271, 3364, 2732, 1933, 324, 2863, 1830, 3261, 2558, 829, 1203, 2991, 453, 1863, 383, 1432, 829, 1203, 1702, 195, 1471, 383, 3558, 3822, 4190, 2863, 3801, 3785, 3206, 383, 3933, 2863, 2747, 1751, 2732, 2732, 1933, 1306, 2746, 4118, 1809, 3785, 1117, 2952, 31, 3364, 3958, 3206, 1933, 3805, 2863, 1933, 3764, 1999, 3822, 3261, 2558, 602, 829, 4190, 2863, 784, 3785, 3206, 1933, 3805, 2044, 3927, 3822, 4190, 3326, 271, 553, 2325, 424, 3261, 308, 2044, 2874, 3801, 2261, 383, 1845, 3785, 3764, 2863, 1751, 640, 3796, 3769, 1283, 3785, 3733, 3261, 2558, 2467, 2330, 2760, 1809, 803, 1731, 4090, 3261, 1999, 2467, 453, 4037, 550, 2639, 3822, 829, 1933, 2558, 1809, 3151, 1607, 2732, 3261, 2734, 2328, 1374, 3278, 1574, 829, 2648, 1099, 3573, 1493, 303, 2690, 1502, 1951, 796, 3846, 690, 873, 1933, 2600, 1308, 1979, 550, 519, 3202, 4034, 829, 2261, 3822, 3261, 2558, 829, 3261, 2138, 2243, 1933, 2600, 2314, 4110, 553, 1951, 1839, 102, 828, 1117, 2952, 1137, 2829, 3160, 2690, 2952, 828, 2690, 2952, 1839, 3822, 1085, 2594, 2639, 2690, 2004, 3261, 1770, 3757, 2863, 758, 383, 829, 1840, 383, 699, 1551, 746, 3822, 3261, 2558, 829, 4190, 1345, 674, 699, 383, 325, 4090, 1099, 3448, 195, 3901, 3822, 4190, 3560, 1344, 383, 3660, 4108, 829, 3261, 1205, 560, 1099, 368, 1099, 3660, 1551, 2801, 3261, 2558, 282, 2863, 3560, 3524, 1933, 1258, 3822, 4190, 71, 255, 829, 2352, 718, 2758, 2863, 3326, 1902, 1283, 803, 1620, 2261, 2328, 1702, 2108, 829, 2504, 3785, 1099, 3117, 2261, 4034, 4090, 3261, 2519, 3822, 3261, 2558, 2069, 3373, 2863, 672, 1468, 383, 1489, 1702, 2715, 3166, 2243, 2132, 1099, 2956, 3356, 3785, 1708, 218, 4190, 2874, 4049, 2760, 986, 31, 383, 3558, 3261, 2558, 3743, 3543, 2732, 941, 529, 1163, 3543, 2863, 2451, 195, 4129, 4190, 3010, 1500, 3785, 2863, 3261, 3887, 3154, 4185, 2732, 3666, 3360, 529, 2261, 2874, 3261, 2558, 3743, 1520, 2705, 3581, 3772, 2863, 234, 1933, 379, 2136, 674, 1933, 3043, 3785, 4045, 1050, 750, 3261, 745, 3374, 3964, 3374, 3785, 2467, 2502, 2478, 4090, 4194, 2863, 3852, 2594, 3148, 1607, 3261, 1907, 4090, 3278, 829, 803, 846, 852, 138, 2314, 2328, 550, 2952, 1933, 3137, 829, 383, 3899, 829, 1674, 195, 2936, 2190, 195, 947, 351, 3822, 3261, 765, 3148, 1933, 379, 948, 4049, 2369, 829, 2004, 3261, 2766, 4090, 3852, 1189, 1099, 615, 1099, 3660, 2829, 1133, 4123, 1099, 3558, 1099, 2261, 3822, 4190, 1015, 1131, 796, 2732, 3168, 355, 3964, 2326, 3785, 3543, 2863, 1872, 3206, 1133, 1427, 1099, 811, 3270, 829, 4116, 3261, 2706, 3822, 3261, 745, 4190, 2459, 3016, 1308, 1751, 2467, 71, 255, 829, 1585, 1283, 803, 4189, 3407, 2829, 1006, 2863, 394, 2243, 1933, 2621, 3971, 1308, 1710, 169, 383, 129, 368, 2863, 1620, 1099, 615, 383, 3880, 2557, 803, 1500, 3261, 1459, 3801, 1747, 3467, 1933, 379, 1889, 3374, 3964, 3374, 3018, 424, 3785, 550, 3578, 887, 1933, 953, 3158, 2860, 3261, 1920, 3212, 4090, 3261, 1459, 2729, 2239, 424, 3432, 3971, 2594, 1502, 2457, 3230, 3281, 3373, 3560, 1060, 99, 1099, 1979, 690, 2952, 2069, 320, 3261, 3364, 3221, 1209, 138, 3915, 2863, 1933, 3312, 3010, 2478, 2732, 1933, 1053, 1717, 829, 2705, 1371, 1163, 1468, 138, 2985, 2705, 1617, 638, 383, 2776, 3154, 2732, 1118, 3796, 2, 3238, 130, 3154, 2311, 2239, 2863, 4190, 2467, 3964, 1263, 3424, 1099, 615, 1099, 2974, 356, 1133, 1751, 3822, 829, 718, 2732, 1933, 1148, 3011, 796, 2773, 829, 4037, 803, 271, 4123, 2863, 2952, 2173, 394, 3261, 2728, 1006, 2732, 3261, 2564, 1620, 138, 2314, 1133, 1099, 2325, 1427, 1099, 3117, 3056, 2557, 383, 2299, 1863, 2863, 4123, 218, 4190, 2457, 829, 1300, 3364, 1308, 1751, 2688, 3560, 4016, 2863, 4088, 2732, 1933, 379, 3733, 3371, 1751, 3364, 317, 1933, 379, 3100, 4090, 2261, 2732, 3261, 2289, 2863, 1751, 2902, 3373, 3016, 2746, 2117, 1809, 3261, 2558, 3660, 3073, 3118, 2271, 2863, 2467, 3796, 3543, 829, 2451, 3118, 4129, 370, 1296, 3261, 818, 1368, 2732, 1933, 379, 166, 3785, 2467, 3261, 2001, 818, 924, 589, 3543, 3364, 2863, 3326, 1902, 1283, 3374, 3785, 3288, 3374, 1427, 3785, 3660, 3868, 453, 2863, 1751, 317, 3785, 3460, 829, 3281, 3261, 63, 3261, 63, 1620, 138, 2314, 2597, 1620, 138, 1693, 2863, 3571, 1747, 3839, 1702, 2527, 3374, 2173, 3374, 1450, 699, 1450, 978, 1663, 1099, 873, 3395, 2991, 1099, 2325, 4190, 3919, 2732, 1933, 1562, 1809, 3785, 2467, 3326, 1308, 3261, 681, 2863, 3261, 585, 4090, 2001, 930, 3303, 2863, 1751, 3560, 581, 2457, 2515, 1283, 1308, 2991, 2874, 130, 2776, 31, 829, 2952, 483, 3085, 829, 873, 3073, 975, 803, 1152, 2732, 3261, 1169, 2863, 3261, 4224, 3640, 553, 3261, 1417, 2441, 2863, 3261, 379, 573, 3660, 2653, 2709, 3560, 3964, 3261, 818, 1140, 4190, 3374, 1751, 3288, 2515, 1283, 2863, 3010, 2478, 829, 803, 2732, 3852, 625, 3011, 3801, 3004, 3670, 674, 699, 383, 2202, 2478, 4123, 4155, 320, 550, 1562, 2863, 2326, 1702, 1933, 585, 4090, 3303, 2863, 1933, 681, 1973, 2054, 2863, 4190, 2467, 2760, 138, 3223, 1809, 1751, 2927, 2239, 424, 3432, 2732, 3261, 4213, 3785, 3568, 829, 1506, 776, 829, 3592, 3261, 1952, 3785, 3660, 3580, 3151, 1607, 1702, 1308, 3118, 3764, 1751, 3822, 829, 718, 3374, 1751, 2927, 3726, 1560, 1707, 2952, 819, 3151, 3287, 2478, 1872, 1099, 1582, 2874, 1490, 3296, 1502, 41, 3118, 681, 2863, 3226, 3206, 1427, 1099, 1663, 1747, 2991, 3374, 1751, 3822, 550, 1751, 4167, 464, 1933, 407, 379, 2734, 3796, 3261, 573, 4090, 4008, 2467, 1933, 1896, 217, 1069, 553, 3261, 2202, 2607, 818, 3823, 464, 3785, 1751, 3288, 2732, 1506, 2287, 2863, 2729, 1, 2732, 4224, 4163, 3966, 1751, 3902, 1498, 3261, 3815, 3004, 3670, 2863, 2952, 2519, 2478, 4090, 3261, 2734, 3723, 1751, 3660, 3480, 3261, 681, 2863, 3303, 3726, 2055, 3785, 2773, 4190, 3822, 829, 718, 829, 2952, 3128, 1478, 1308, 1933, 818, 1099, 3686, 759, 2952, 1786, 1702, 3796, 1478, 1779, 2863, 1751, 2457, 489, 3261, 2519, 4090, 953, 1809, 1117, 567, 543, 4190, 1163, 4123, 146, 2863, 3839, 255, 1308, 195, 1508, 3796, 2732, 1933, 240, 2210, 2874, 3202, 4108, 829, 2557, 1809, 3261, 2558, 3221, 3839, 2478, 3743, 1099, 1467, 368, 4190, 3288, 3796, 1809, 2898, 2328, 1133, 3978, 2732, 3261, 2734, 1427, 3785, 2457, 4144, 2220, 1283, 4037, 1809, 2715, 550, 638, 1751, 3660, 3480, 803, 1372, 2941, 1933, 1288, 379, 2587, 553, 1933, 2441, 2732, 3261, 240, 2863, 3796, 3785, 3374, 1751, 3660, 1589, 1933, 681, 2863, 1350, 102, 1881, 2885, 4090, 3838, 2001, 930, 3303, 1751, 1607, 3373, 3261, 681, 2863, 1933, 585, 4090, 3261, 3303, 2863, 2467, 2756, 3128, 829, 4047, 3261, 2587, 819, 803, 3959, 410, 464, 1933, 379, 754, 1809, 766, 3791, 3261, 3253, 3043, 2467, 1951, 3005, 550, 638, 553, 3261, 601, 2003, 1702, 2874, 2805, 1751, 3313, 3785, 2863, 1364, 3785, 829, 803, 996, 1099, 3558, 453, 472, 3206, 2173, 829, 567, 1751, 3822, 829, 718, 1882, 1099, 3467, 102, 2003, 2541, 2760, 2690, 2756, 2557, 674, 550, 754, 4057, 1099, 2261, 3297, 1155, 2352, 1702, 1055, 138, 3364, 1308, 1979, 2952, 2502, 3852, 4090, 3161, 2243, 1933, 3838, 379, 953, 3785, 1107, 2760, 1107, 2863, 138, 271, 2229, 1751, 3660, 1882, 3723, 1751, 3660, 1741, 2746, 3261, 754, 1751, 3480, 803, 3581, 2737, 3096, 3261, 2989, 2863, 3660, 829, 3487, 829, 435, 803, 2739, 1763, 3161, 3313, 1751, 4223, 1364, 271, 3261, 754, 3278, 829, 718, 3788, 2502, 1286, 3297, 1099, 3625, 1055, 2299, 2132, 3785, 3206, 1099, 129, 3839, 2478, 424, 3261, 2968, 2261, 615, 1099, 2974, 1741, 2502, 2760, 138, 776, 3785, 2467, 1656, 3199, 829, 615, 1809, 1751, 3288, 3796, 2169, 2863, 2169, 2863, 3560, 3964, 3660, 829, 2442, 271, 3796, 3261, 2439, 2732, 290, 240, 3043, 2467, 1551, 269, 2587, 1308, 550, 2863, 1751, 757, 3261, 906, 4090, 1913, 271, 553, 3971, 3633, 3096, 3261, 573, 2863, 3261, 196, 3191, 3290, 1108, 803, 3581, 252, 1751, 3288, 3796, 2169, 2863, 3374, 1933, 1185, 4002, 1751, 1364, 3971, 3191, 2478, 4090, 3261, 240, 2863, 3971, 2, 3373, 3261, 2725, 2863, 3822, 829, 718, 2054, 1099, 1663, 2261, 1951, 1863, 1077, 1706, 674, 3573, 3433, 4090, 1702, 1965, 1308, 4190, 3261, 379, 2044, 754, 3660, 2054, 3660, 2705, 2802, 906, 2863, 1751, 3670, 1951, 2149, 252, 3785, 2467, 3560, 4163, 2863, 3374, 3043, 3085, 829, 2952, 1951, 2519, 4090, 62, 4090, 803, 3056, 2069, 2478, 4090, 3261, 2587, 3364, 1951, 2325, 1751, 2688, 838, 3785, 2467, 138, 179, 424, 320, 1973, 218, 4190, 819, 3971, 3640, 71, 2169, 2149, 2863, 1530, 2863, 3161, 3100, 1283, 2715, 169, 2863, 2802, 1099, 1338, 615, 1099, 2974, 2440, 271, 1809, 3901, 3490, 1795, 2925, 2667, 383, 3558, 550, 2519, 4090, 1443, 1099, 2261, 2325, 674, 1663, 873, 1132, 829, 1702, 819, 1099, 3786, 829, 3935, 4140, 1099, 3319, 1809, 3985, 4090, 953, 3899, 1132, 2863, 2054, 4123, 1099, 1582, 2732, 3261, 3358, 4090, 3971, 3043, 3224, 829, 2952, 1933, 4081, 370, 1283, 1702, 1809, 3043, 3224, 2863, 819, 1099, 1055, 3373, 2690, 1220, 2106, 2952, 1945, 3373, 2054, 1751, 2732, 2732, 1933, 1415, 3011, 424, 3271, 2049, 1951, 2587, 829, 1055, 3373, 2299, 1863, 4123, 2874, 3110, 1973, 4190, 3117, 1099, 3899, 3839, 2299, 1111, 2229, 1099, 1582, 2054, 351, 2952, 1933, 1477, 3971, 1216, 829, 2952, 3852, 2594, 3861, 1620, 829, 873, 406, 829, 375, 1620, 1099, 1918, 4037, 1809, 1620, 383, 3883, 4190, 1751, 2164, 718, 3726, 1663, 383, 375, 406, 2732, 4123, 3801, 2049, 2425, 2587, 1308, 383, 2863, 1951, 2587, 424, 3154, 1308, 2299, 2851, 2863, 2760, 1751, 3288, 3796, 332, 2094, 3971, 1347, 2863, 3110, 3261, 196, 2863, 1268, 2502, 1933, 3221, 4090, 3785, 3819, 2874, 1500, 1933, 2886, 2300, 1751, 317, 1933, 1717, 2087, 2863, 3052, 829, 3601, 3004, 3670, 3004, 3670, 3822, 3261, 1717, 2326, 1702, 138, 3303, 550, 1562, 3110, 4167, 1933, 379, 3100, 4090, 3166, 3796, 3261, 2332, 4190, 101, 3785, 2467, 3261, 818, 3796, 829, 3018, 1308, 803, 2863, 1751, 139, 2591, 1751, 1520, 3261, 2734, 2502, 338, 1809, 1751, 2467, 2054, 1283, 1933, 2130, 1751, 3374, 138, 3374, 3261, 818, 2863, 3660, 1951, 1739, 829, 2952, 4118, 4090, 3785, 3055, 3261, 818, 4167, 3373, 829, 3261, 573, 2863, 757, 829, 3693, 3785, 2874, 3374, 3261, 573, 3304, 2127, 2863, 3856, 3633, 2467, 406, 4066, 3096, 3785, 1809, 3074, 3697, 1933, 413, 4190, 317, 3785, 3729, 829, 3281, 3110, 2690, 1574, 1108, 2863, 3839, 2732, 424, 3261, 240, 1809, 383, 1587, 1973, 4190, 2863, 1500, 3359, 2591, 1751, 3319, 1751, 317, 3261, 818, 2756, 3146, 3261, 240, 1751, 2354, 1034, 2478, 803, 711, 2863, 3580, 1933, 1270, 2732, 3261, 1521, 1751, 1107, 1551, 3839, 2190, 4090, 2541, 2874, 1751, 317, 1933, 379, 3907, 2863, 1933, 1917, 2863, 1933, 4041, 4090, 3313, 1417, 1763, 4008, 1751, 821, 1809, 3785, 2467, 2756, 2204, 3785, 3660, 50, 2941, 1933, 1703, 102, 453, 4090, 3261, 2519, 1779, 4167, 3852, 625, 2764, 875, 1477, 978, 699, 383, 2863, 3110, 1933, 1717, 1751, 3660, 3899, 317, 3723, 2173, 3110, 2952, 4123, 2058, 1308, 2617, 2661, 2411, 2058, 1308, 2617, 1107, 3822, 3261, 818, 3524, 4123, 1163, 2863, 2108, 1702, 2478, 4090, 550, 105, 4090, 1863, 3313, 1417, 2054, 1203, 1702, 1477, 3686, 1809, 2732, 3261, 240, 2173, 2705, 3852, 3191, 2661, 2411, 3151, 2390, 3785, 694, 3852, 3191, 383, 1755, 1872, 3056, 3272, 3971, 1809, 3060, 3801, 3785, 227, 3261, 1770, 240, 2173, 3785, 4057, 2661, 2411, 2874, 2705, 3852, 3191, 1308, 3154, 1809, 131, 2705, 4108, 1951, 751, 3043, 424, 2299, 1789, 1574, 2863, 1502, 3785, 1468, 3043, 2467, 1933, 3805, 3429, 1500, 550, 2863, 4190, 3880, 3743, 3759, 1402, 2054, 2863, 3110, 2243, 3374, 2173, 1099, 1467, 4037, 3785, 2661, 2411, 424, 3154, 424, 3154, 2261, 3374, 1099, 1203, 383, 383, 3612, 2863, 424, 1185, 1751, 1034, 2478, 803, 711, 3364, 2863, 3580, 290, 1270, 2732, 3261, 1521, 550, 638, 3043, 2776, 1350, 379, 60, 2863, 1863, 105, 4090, 3313, 1417, 674, 1933, 3330, 4090, 3074, 3043, 690, 2952, 1973, 4190, 1099, 2325, 674, 1426, 2261, 1779, 3374, 1308, 1408, 1702, 2478, 4090, 3261, 240, 1099, 3743, 615, 130, 3880, 2952, 2173, 1099, 1467, 2980, 829, 1050, 2732, 4123, 2299, 1785, 1751, 3460, 1308, 3212, 638, 1506, 359, 2541, 1863, 424, 1185, 4167, 1933, 2521, 4090, 379, 3832, 2863, 3261, 2290, 4090, 1933, 3603, 2132, 2978, 3154, 3166, 1762, 1751, 3580, 2478, 3261, 601, 1912, 3261, 196, 307, 1099, 2974, 829, 2832, 2874, 3971, 2855, 4108, 3261, 3460, 2326, 3785, 4123, 2409, 1364, 893, 3373, 424, 550, 454, 2937, 893, 1762, 1524, 1467, 2741, 2746, 1617, 2369, 2928, 1426, 2261, 131, 2369, 1467, 2952, 749, 166, 3677, 2190, 4090, 550, 1580, 3261, 2834, 2771, 1809, 240, 539, 2705, 3796, 271, 3405, 924, 1933, 3216, 2452, 1872, 1107, 3309, 2467, 166, 1099, 3723, 829, 1574, 271, 3261, 304, 1099, 3625, 383, 2261, 1056, 1099, 1587, 95, 829, 1574, 3436, 166, 3261, 710, 1272, 4049, 829, 1574, 271, 3261, 2725, 1620, 2760, 2855, 4108, 829, 1163, 271, 3261, 2725, 769, 3151, 3822, 4190, 829, 718, 1099, 130, 1281, 829, 1364, 3143, 464, 166, 1099, 4045, 2952, 2732, 2855, 418, 1308, 1933, 3603, 2414, 550, 1197, 3206, 2471, 829, 2952, 2173, 2874, 1099, 368, 1099, 1663, 145, 1933, 379, 1751, 1365, 803, 2, 3374, 3237, 271, 3261, 2725, 3374, 1751, 3880, 2863, 3460, 2591, 1751, 317, 1933, 379, 1520, 1751, 1747, 1530, 4090, 674, 2519, 3785, 2467, 942, 2863, 3127, 1283, 2732, 3261, 2725, 4084, 3056, 803, 3110, 3278, 829, 718, 550, 3206, 166, 1751, 299, 3971, 2756, 145, 2863, 3460, 829, 2557, 674, 1117, 567, 1779, 3261, 2094, 953, 1751, 317, 2467, 1933, 3050, 3666, 4090, 3043, 1772, 166, 3110, 3261, 2802, 1717, 1757, 41, 383, 2715, 3261, 2066, 3110, 3429, 2863, 3110, 290, 1810, 4090, 2777, 3373, 3118, 2283, 2046, 93, 1214, 2467, 3785, 2594, 1030, 674, 1132, 829, 383, 1203, 1374, 3154, 1283, 3785, 1185, 4167, 1933, 379, 1084, 2151, 1717, 3788, 166, 1973, 4190, 131, 1099, 2425, 2807, 1863, 2072, 3576, 2952, 3296, 3761, 2952, 1933, 2414, 1656, 1380, 829, 1203, 4073, 1099, 3558, 3206, 453, 3272, 424, 1702, 4037, 1933, 3392, 2863, 3373, 1099, 1772, 4037, 1933, 3519, 2760, 383, 1107, 2594, 1030, 3822, 3261, 3887, 3846, 690, 3671, 3261, 2734, 271, 3822, 3261, 2802, 1717, 2863, 4190, 3010, 2478, 3374, 3216, 3374, 1751, 3880, 1427, 383, 2261, 2690, 751, 1133, 424, 383, 3043, 2467, 1933, 4018, 3429, 4034, 2863, 4190, 1973, 829, 718, 1099, 2325, 674, 130, 3573, 2261, 1779, 1427, 130, 3660, 2299, 2357, 2898, 1502, 3261, 2834, 2239, 1500, 1933, 240, 102, 1350, 130, 2457, 1105, 1283, 3364, 2863, 4190, 317, 3261, 818, 3729, 1933, 1720, 3573, 2261, 829, 3557, 553, 1933, 1720, 4090, 674, 1973, 4190, 2874, 1751, 3660, 1551, 3805, 829, 278, 1308, 3261, 1779, 1562, 1933, 1216, 4090, 379, 32, 4167, 830, 2732, 424, 3261, 240, 2863, 3212, 4090, 2991, 484, 803, 2732, 3261, 374, 2690, 1364, 1933, 3978, 829, 550, 1751, 3822, 829, 718, 2863, 1611, 2478, 2453, 3296, 1551, 2261, 1809, 3364, 4008, 591, 290, 4018, 3429, 4190, 1140, 553, 3212, 25, 1809, 3261, 32, 2776, 3154, 602, 2941, 379, 1861, 3374, 130, 3554, 3796, 3261, 2439, 2863, 1933, 1896, 1731, 4167, 2941, 803, 3581, 1427, 1099, 3467, 3971, 4090, 760, 1861, 1751, 1973, 2705, 2173, 829, 2352, 3212, 1993, 2732, 138, 3060, 2863, 3374, 3785, 129, 898, 2352, 1702, 2149, 3785, 690, 2352, 1702, 1530, 1099, 3686, 2760, 1751, 3943, 3971, 4090, 3261, 1861, 2863, 2467, 3181, 829, 1747, 1809, 1751, 2457, 2936, 146, 3374, 3964, 3374, 1751, 2467, 288, 2369, 829, 3839, 3260, 3261, 573, 1751, 2927, 2478, 4090, 3261, 2734, 2863, 3480, 2502, 1933, 142, 4090, 379, 80, 2863, 1459, 3359, 2087, 3261, 218, 379, 4224, 166, 2467, 2732, 3261, 3358, 3161, 1486, 3373, 2715, 1350, 3094, 1872, 2776, 3527, 3785, 453, 2478, 4090, 1933, 754, 130, 3154, 3580, 1933, 3870, 424, 4190, 3261, 1562, 1751, 1256, 2874, 1751, 2927, 2239, 3374, 4066, 3374, 1751, 3880, 2863, 3964, 3480, 718, 1462, 2732, 1933, 326, 1459, 3261, 2094, 953, 3202, 4108, 829, 2261, 3822, 4190, 829, 718, 3374, 1751, 3998, 1283, 2732, 3261, 1459, 3206, 829, 1055, 829, 138, 29, 3060, 3364, 2863, 3261, 294, 953, 3206, 829, 1747, 138, 1372, 2941, 1809, 2333, 218, 1099, 368, 1809, 3573, 2952, 3261, 2728, 215, 3785, 838, 3852, 2448, 215, 1951, 278, 2863, 3560, 2789, 2863, 2518, 1320, 3261, 3743, 1740, 2467, 1809, 1751, 3660, 1551, 3261, 3326, 1731, 3726, 829, 751, 1283, 3785, 2863, 3733, 1751, 2467, 2362, 1283, 1902, 2860, 3261, 3831, 1933, 379, 2756, 351, 2756, 97, 803, 3581, 3580, 803, 3018, 3373, 2732, 1933, 4224, 197, 3852, 2031, 2465, 2467, 3326, 271, 424, 803, 553, 138, 1108, 2528, 2863, 456, 928, 2478, 3971, 36, 776, 829, 617, 803, 218, 379, 953, 3822, 4190, 2732, 1933, 3660, 3011, 2863, 1751, 757, 4066, 829, 2135, 829, 3785, 2874, 1751, 2467, 2609, 3223, 3154, 3261, 638, 424, 3261, 1973, 1809, 3785, 811, 2952, 1108, 2732, 4008, 2831, 3785, 1117, 2952, 3560, 1922, 829, 3467, 803, 3373, 2732, 3732, 4090, 3154, 803, 3660, 2425, 2117, 674, 1751, 1107, 1751, 373, 3373, 1933, 379, 2611, 4090, 2224, 2863, 1486, 3785, 2478, 829, 3261, 2465, 2461, 3261, 2465, 2007, 2941, 3261, 1521, 2239, 3154, 2705, 3166, 424, 3432, 553, 1933, 1446, 4090, 1155, 2863, 978, 424, 3261, 2224, 2863, 3580, 1536, 829, 157, 3785, 3110, 4190, 3976, 3678, 1933, 4224, 806, 829, 4051, 718, 1763, 3161, 4155, 97, 2863, 3261, 1562, 1751, 1256, 3796, 3261, 196, 1347, 3261, 2465, 3580, 290, 3870, 424, 3261, 2224, 2863, 3118, 3581, 97, 3252, 2732, 2705, 197, 829, 3839, 2190, 4090, 3785, 3110, 4190, 325, 3785, 2467, 3560, 4037, 1887, 1933, 2382, 4090, 3091, 553, 1933, 4079, 2863, 1341, 1478, 1562, 829, 2952, 1721, 3146, 2705, 3166, 2927, 1108, 3261, 806, 3364, 3110, 3261, 2465, 2457, 1933, 3746, 4090, 768, 2953, 424, 3261, 2224, 1766, 1933, 3560, 379, 1372, 1820, 3013, 638, 2863, 1933, 3805, 1372, 3543, 2863, 341, 1196, 3154, 3261, 3733, 2591, 424, 1185, 3785, 3405, 271, 1933, 3603, 1372, 2239, 2965, 553, 2705, 947, 2589, 2478, 4090, 2705, 1042, 2863, 2705, 4224, 2528, 2746, 876, 550, 3085, 829, 4190, 1933, 3603, 1907, 1308, 1268, 803, 2619, 2760, 1751, 751, 2239, 424, 3432, 2863, 2927, 2591, 1751, 2467, 2502, 3852, 2863, 2478, 4090, 3160, 2863, 2591, 3261, 2776, 351, 838, 2502, 3663, 2732, 3261, 2289, 2863, 3894, 674, 1933, 2314, 379, 2465, 3785, 2467, 3822, 4190, 3374, 1751, 1110, 3096, 1933, 572, 829, 403, 718, 2863, 3892, 718, 553, 3971, 4090, 3261, 3314, 1099, 3902, 873, 1159, 3999, 3785, 3998, 3560, 138, 3236, 1490, 3743, 2229, 3261, 29, 3060, 829, 2261, 3785, 1620, 2314, 1490, 2294, 3803, 1809, 3202, 4108, 829, 1055, 3373, 3364, 2328, 1702, 999, 3206, 3785, 829, 2952, 1033, 1099, 3686, 1099, 3224, 829, 3467, 102, 2003, 453, 102, 196, 2874, 3261, 4224, 2706, 3206, 674, 3261, 4224, 2706, 3927, 2467, 674, 4190, 2902, 3154, 1108, 803, 424, 3261, 829, 2863, 3261, 847, 4090, 2166, 2874, 1751, 1107, 1551, 2557, 2541, 1809, 2902, 4037, 3261, 29, 953, 829, 3467, 102, 2003, 3146, 3261, 1571, 3043, 2467, 1933, 138, 2857, 2169, 3791, 803, 1283, 3261, 2232, 375, 3374, 718, 2863, 819, 1751, 3660, 2902, 3146, 3785, 2863, 3796, 3278, 1955, 4090, 3785, 2863, 3678, 3785, 3785, 238, 829, 803, 1809, 1751, 811, 3374, 131, 3018, 2863, 2557, 674, 2467, 3796, 3261, 871, 4090, 3785, 1751, 2332, 718, 3373, 3796, 3993, 2863, 3322, 97, 3261, 3375, 4090, 3261, 2857, 2863, 803, 2528, 2926, 1607, 3259, 4090, 1933, 138, 2285, 1809, 2467, 3363, 3796, 3261, 871, 553, 2705, 7, 2741, 2297, 3833, 1933, 3805, 456, 2863, 332, 1551, 3261, 3326, 3857, 4090, 803, 102, 4090, 2541, 1020, 370, 984, 2529, 1763, 1933, 2285, 3261, 2285, 2863, 4190, 2902, 424, 3013, 196, 1308, 3212, 638, 2732, 3429, 424, 1185, 3261, 2285, 1607, 3261, 456, 2478, 4090, 2705, 1042, 2863, 3234, 803, 2732, 1933, 3142, 2812, 1717, 1872, 699, 383, 3822, 3261, 2285, 550, 2467, 1551, 3852, 805, 4163, 1308, 1933, 3221, 4190, 2459, 2925, 2877, 3386, 2425, 3558, 4110, 2756, 424, 3430, 3271, 1099, 3558, 1872, 1099, 2467, 819, 1099, 4108, 3373, 550, 519, 2874, 1099, 368, 1099, 690, 873, 2229, 3073, 2391, 1751, 975, 3110, 674, 2261, 383, 3356, 2715, 1809, 3822, 3261, 2285, 1634, 3592, 2316, 1099, 129, 3592, 2753, 2952, 4118, 4110, 3822, 4190, 3912, 2952, 1551, 2753, 383, 2557, 1099, 1467, 2557, 3822, 3261, 2285, 2952, 4118, 1099, 129, 1364, 3785, 1863, 2697, 4190, 2459, 3560, 2207, 1308, 1099, 129, 2859, 3785, 2753, 829, 3557, 553, 2863, 3161, 2760, 2132, 833, 2467, 2732, 1933, 2210, 3206, 3560, 2570, 3785, 87, 3822, 3261, 2285, 131, 558, 383, 2326, 3480, 3785, 2760, 3894, 3822, 4190, 2874, 819, 383, 873, 829, 3496, 2941, 1933, 2210, 3573, 3212, 2210, 383, 2853, 3110, 1500, 1809, 2941, 1933, 934, 1099, 3902, 368, 771, 1467, 3785, 1933, 379, 2055, 1587, 383, 1551, 1933, 2611, 3822, 3261, 2285, 131, 558, 195, 3608, 1863, 2952, 833, 3822, 4190, 3154, 1099, 3558, 3206, 3785, 1117, 1467, 3560, 2055, 829, 1702, 383, 3822, 3261, 2285, 4037, 1872, 699, 383, 4008, 1717, 2991, 3543, 3364, 829, 3261, 2321, 4090, 3261, 3221, 4190, 2688, 1933, 379, 3292, 424, 3261, 52, 1268, 2243, 3560, 768, 685, 2863, 1751, 1365, 718, 3373, 2863, 3822, 3560, 3999, 1099, 368, 383, 3224, 829, 1203, 1702, 1872, 383, 699, 2094, 3801, 3822, 3261, 2285, 4123, 2467, 290, 3769, 2706, 2863, 3374, 4190, 3880, 1551, 368, 4090, 2299, 3603, 1739, 2863, 3374, 3261, 2285, 3085, 829, 2952, 2732, 1933, 3560, 2391, 2114, 4090, 2271, 1751, 2519, 1468, 1163, 3543, 3261, 2285, 3010, 1500, 803, 3202, 453, 1093, 829, 3729, 550, 838, 2664, 3927, 4190, 2519, 2863, 4167, 3543, 3364, 4051, 195, 2936, 3822, 3261, 2285, 3206, 1809, 3154, 3822, 4190, 3484, 271, 803, 4214, 3374, 131, 3374, 1751, 3880, 1951, 3822, 3261, 2285, 4190, 1973, 1751, 811, 3374, 131, 3549, 3374, 1751, 3660, 4034, 1020, 829, 2261, 2863, 558, 1500, 3154, 3785, 811, 1203, 803, 453, 3433, 359, 1308, 3212, 2300, 3785, 553, 1468, 1506, 2330, 2874, 424, 1185, 3785, 485, 2705, 7, 1607, 3261, 456, 2478, 4090, 2705, 1042, 3364, 2863, 3822, 2760, 383, 368, 4049, 3073, 2261, 383, 2952, 4118, 1099, 1582, 4110, 3822, 4190, 1099, 129, 3040, 1656, 3374, 1099, 2153, 1099, 1467, 4051, 3261, 2232, 3060, 1308, 590, 2300, 1762, 129, 3040, 674, 1656, 3822, 3261, 2285, 131, 3202, 757, 829, 3729, 3726, 2796, 3261, 379, 1521, 3281, 2874, 3785, 3154, 4167, 833, 4190, 2459, 2732, 1933, 3560, 1148, 1717, 3248, 383, 699, 2594, 3334, 2855, 3822, 3261, 2285, 4190, 2741, 803, 4143, 2863, 2457, 383, 699, 2594, 3334, 2855, 3261, 765, 899, 3822, 2863, 195, 706, 769, 3433, 3560, 2001, 2863, 3894, 383, 774, 1615, 3796, 195, 3581, 2261, 383, 368, 424, 195, 2224, 3785, 3206, 29, 2732, 138, 2732, 3334, 2855, 2459, 829, 3118, 3561, 1099, 1556, 3785, 811, 534, 3261, 308, 2874, 2054, 1809, 2952, 1040, 2173, 1099, 873, 3531, 3801, 1099, 2261, 3785, 3364, 2863, 3364, 383, 699, 2594, 3822, 3261, 2732, 3374, 1099, 356, 3723, 2863, 873, 1945, 1753, 2275, 603, 3894, 383, 2519, 1933, 1574, 2732, 424, 3261, 573, 1055, 674, 3206, 3261, 1739, 4090, 1809, 2732, 138, 2732, 3822, 3261, 2724, 3374, 3151, 1520, 3118, 2935, 375, 1099, 640, 3154, 138, 2073, 3560, 4015, 2715, 3261, 1530, 4090, 550, 3722, 3055, 3261, 1847, 2912, 1702, 829, 2377, 383, 1933, 2348, 383, 699, 2594, 3822, 3261, 2732, 2863, 195, 3394, 699, 1656, 197, 1308, 2541, 74, 2229, 2473, 3894, 383, 2632, 3261, 1755, 553, 3261, 3595, 2863, 3261, 3585, 1055, 3726, 1107, 383, 3876, 829, 2261, 3785, 2732, 138, 2732, 3822, 3118, 3334, 1099, 1607, 829, 3261, 2648, 2863, 2852, 3013, 2831, 553, 138, 281, 2863, 3261, 1249, 2668, 4008, 3785, 299, 829, 138, 3021, 769, 2860, 3261, 403, 4090, 138, 1443, 383, 699, 2594, 3822, 3261, 2732, 3971, 1117, 2425, 3686, 1809, 195, 3959, 2467, 3374, 163, 3374, 3056, 3894, 383, 4125, 3852, 1, 3796, 3261, 130, 4090, 195, 408, 674, 3580, 383, 2760, 3186, 569, 1099, 873, 2164, 1881, 1900, 2863, 1809, 3206, 2369, 3822, 3118, 3334, 1467, 306, 2316, 157, 2261, 383, 368, 1099, 1663, 3601, 3154, 2210, 829, 2243, 1162, 2952, 2239, 102, 2690, 145, 383, 271, 2332, 1809, 3206, 1551, 3822, 29, 3822, 3261, 2285, 1551, 2502, 29, 2952, 4118, 3822, 4190, 273, 3212, 4090, 3261, 601, 873, 4108, 3419, 3785, 3206, 3033, 1763, 2321, 829, 130, 3822, 3261, 2285, 2730, 2863, 3043, 2467, 3429, 1308, 3212, 2300, 3261, 2285, 2467, 3261, 2094, 829, 3267, 674, 3060, 2261, 383, 2980, 829, 2952, 3785, 696, 1620, 2952, 1551, 3168, 3374, 829, 3060, 4190, 4223, 2459, 3743, 3971, 3221, 4037, 2394, 2760, 1302, 383, 3558, 1099, 1467, 3558, 3822, 3261, 2285, 4190, 3822, 4034, 1751, 3660, 3899, 2229, 2760, 138, 4205, 2732, 803, 1443, 3723, 2863, 1751, 2688, 1809, 1751, 2467, 1367, 803, 2936, 699, 383, 3052, 2054, 3822, 3261, 2285, 131, 1099, 3902, 4037, 829, 2952, 1933, 379, 2149, 4110, 1427, 383, 4045, 2271, 3822, 4190, 1881, 1116, 3206, 2243, 1933, 3505, 375, 829, 2952, 3785, 3206, 1933, 3560, 3603, 375, 1107, 3822, 3261, 2285, 3524, 1880, 3281, 3643, 3374, 3785, 635, 3785, 2467, 1230, 1881, 1116, 1617, 2874, 2952, 1551, 3786, 829, 3785, 1708, 218, 4190, 2732, 1933, 3302, 3011, 2863, 1751, 1973, 4090, 718, 1099, 615, 3261, 571, 4045, 2952, 2760, 986, 31, 771, 3839, 3786, 829, 3785, 2732, 638, 3822, 3261, 2285, 2863, 3785, 1364, 3261, 456, 2941, 2705, 1042, 2863, 2457, 3833, 3364, 550, 638, 4190, 3460, 1800, 2596, 3785, 2631, 829, 3267, 3364, 2732, 1933, 240, 102, 1350, 3261, 2285, 1607, 3261, 456, 2478, 4090, 2705, 1042, 2863, 3156, 3432, 102, 1322, 2863, 1520, 3281, 3110, 3785, 4108, 271, 2239, 3261, 2857, 2863, 4049, 1468, 2732, 3261, 2166, 3124, 99, 3374, 3785, 3288, 3971, 1347, 3573, 2352, 383, 1055, 951, 2863, 3261, 196, 1347, 3573, 2352, 383, 1055, 3501, 3971, 1347, 4090, 674, 3261, 196, 1347, 4090, 674, 1973, 4190, 829, 718, 4090, 3261, 2857, 3822, 3261, 2285, 2756, 3374, 1427, 1751, 3660, 696, 3785, 1015, 2863, 2732, 290, 1562, 3785, 2467, 2478, 4090, 4194, 4190, 2408, 3326, 1448, 424, 3261, 2857, 1308, 1933, 240, 776, 829, 2352, 2478, 4008, 2776, 3261, 1350, 1955, 4090, 3785, 2863, 3374, 3785, 2467, 1040, 1108, 1751, 3480, 550, 1933, 3560, 3579, 2706, 3371, 424, 1185, 1751, 2332, 803, 7, 1108, 3785, 3374, 3237, 3374, 130, 1117, 1574, 2863, 1692, 2239, 1933, 2611, 4090, 3261, 3375, 553, 3013, 711, 2863, 2054, 4008, 3206, 4008, 1751, 3822, 829, 718, 2863, 1403, 1933, 379, 4090, 3261, 2263, 2611, 829, 2004, 3261, 906, 3261, 1779, 1562, 1751, 2688, 1933, 1275, 923, 1395, 803, 4011, 3785, 3660, 2199, 803, 2, 1751, 2467, 1933, 3603, 2414, 3223, 2715, 550, 3560, 1153, 1993, 2874, 1751, 2688, 1809, 3043, 2467, 1951, 638, 829, 2952, 3868, 3374, 1751, 2467, 2936, 1523, 2760, 1751, 751, 829, 4161, 424, 3432, 829, 3467, 3212, 4090, 3261, 196, 2611, 803, 4011, 2467, 406, 2760, 1836, 3096, 803, 2, 1809, 3043, 2467, 2425, 2587, 829, 3693, 803, 1042, 2874, 1751, 1107, 3785, 424, 1185, 2863, 1033, 829, 4034, 1933, 623, 4090, 3261, 1353, 2611, 1163, 138, 3405, 1907, 424, 1185, 3822, 4190, 2732, 1933, 3011, 4090, 1155, 4008, 3073, 2941, 3326, 2732, 290, 1562, 819, 1751, 3480, 1809, 803, 273, 2776, 31, 829, 2952, 3480, 3154, 1751, 3880, 2557, 819, 1751, 2902, 271, 2467, 3852, 3562, 3559, 4090, 2739, 4008, 3085, 829, 96, 4037, 1933, 3513, 2478, 4090, 1933, 1476, 4090, 15, 3314, 1809, 3554, 3237, 924, 803, 674, 1663, 3154, 1809, 15, 1162, 2952, 3822, 4190, 2863, 978, 873, 138, 273, 4108, 829, 2863, 1620, 138, 218, 4143, 3726, 3206, 3785, 1099, 129, 2557, 383, 1751, 2467, 1105, 2991, 1283, 3374, 1751, 635, 2874, 1951, 1452, 3085, 829, 1008, 976, 1933, 379, 3147, 2860, 3261, 1730, 15, 3314, 3374, 3043, 3085, 829, 2952, 1951, 62, 4090, 2069, 803, 4143, 3373, 829, 803, 3581, 1751, 757, 829, 3839, 803, 3581, 271, 829, 2991, 2863, 2467, 3181, 829, 1747, 1809, 803, 2739, 1117, 560, 1283, 986, 2732, 2299, 4213, 4037, 1933, 1112, 1751, 3660, 2756, 2232, 2732, 1152, 3785, 271, 2941, 1933, 4032, 119, 2863, 2467, 3128, 829, 2248, 2732, 2860, 3261, 3314, 4008, 1751, 3480, 829, 2952, 4034, 2874, 3261, 67, 4090, 3261, 3831, 3146, 4008, 1751, 3660, 2229, 539, 819, 1933, 2756, 3025, 3580, 803, 2553, 3543, 2732, 1933, 197, 1933, 138, 747, 3660, 189, 2941, 803, 374, 2863, 2467, 2624, 803, 4062, 553, 2705, 652, 1112, 7, 3261, 747, 2952, 1551, 1933, 1112, 3822, 4190, 2911, 2328, 1702, 3424, 1112, 1099, 3729, 3364, 3932, 3261, 747, 2874, 2732, 1933, 1863, 3164, 3011, 2863, 2732, 553, 1933, 3985, 4090, 3365, 3202, 757, 1478, 1372, 2863, 4034, 2773, 829, 1209, 2991, 1099, 2326, 3261, 3271, 1731, 674, 4049, 3166, 1283, 3822, 4190, 3202, 757, 3261, 3183, 4090, 3831, 2863, 3202, 757, 1070, 2863, 3202, 757, 2676, 3261, 747, 3288, 3796, 1506, 746, 829, 803, 2874, 3259, 2357, 2049, 1951, 3583, 2991, 4190, 2467, 1863, 2863, 1863, 3246, 2874, 1751, 1973, 3043, 2467, 1951, 1530, 2732, 3278, 2541, 1863, 2591, 3261, 747, 3660, 2632, 3374, 1427, 3785, 3640, 840, 2369, 3672, 3261, 1471, 3822, 3261, 747, 2874, 1099, 690, 2952, 3796, 3261, 1136, 1308, 2357, 4010, 2863, 2210, 3801, 1099, 2326, 3660, 1933, 2025, 4090, 29, 760, 1881, 1562, 2952, 3560, 1408, 2622, 2229, 1055, 3822, 4190, 1872, 2467, 2321, 829, 2557, 2705, 3143, 2863, 2756, 3374, 1490, 118, 3261, 668, 3494, 2732, 3261, 1459, 3143, 3261, 747, 1688, 2705, 1717, 829, 1933, 3907, 2863, 2756, 3374, 1099, 2467, 325, 1099, 3902, 2952, 1907, 4090, 2991, 424, 1185, 130, 690, 3045, 1163, 1558, 271, 1763, 3261, 3013, 4176, 1112, 2874, 2952, 1551, 1933, 1112, 1099, 1203, 383, 3822, 4190, 2952, 1384, 1933, 131, 674, 699, 383, 3822, 3261, 747, 1099, 1663, 2557, 4049, 776, 829, 1162, 453, 3756, 1933, 379, 3722, 3822, 4190, 2925, 1351, 3374, 1751, 1202, 3261, 3330, 4090, 1574, 1751, 3660, 2440, 3260, 1809, 2210, 1933, 1922, 4129, 1107, 3822, 3261, 747, 2732, 1933, 3011, 4090, 3261, 2841, 1196, 3202, 3123, 1933, 3603, 2132, 379, 4058, 2732, 138, 638, 2874, 3899, 3971, 553, 2243, 1933, 2739, 3374, 1809, 1951, 1951, 4049, 1933, 1112, 2863, 2049, 1951, 1530, 2914, 3785, 1099, 3686, 771, 2952, 1470, 1702, 1779, 1809, 383, 3899, 2925, 3852, 2424, 1099, 873, 2925, 1471, 3927, 3822, 4190, 1872, 2467, 1933, 3560, 2059, 16, 2874, 379, 4058, 3467, 1471, 2502, 3374, 138, 3374, 2357, 2261, 383, 3558, 1099, 1467, 1536, 3785, 3822, 3261, 747, 2874, 1427, 130, 2261, 3801, 3110, 1073, 1933, 3985, 4090, 1112, 3788, 3154, 1099, 1663, 3729, 550, 2467, 2243, 1933, 431, 1731, 829, 4190, 1809, 1751, 2467, 2502, 1535, 1308, 1933, 240, 102, 1350, 4008, 299, 3261, 747, 3261, 1907, 4090, 3764, 4049, 3326, 1308, 1471, 1099, 3558, 1809, 131, 2369, 2863, 674, 4057, 3785, 1071, 829, 1702, 2099, 4049, 1933, 379, 3722, 102, 1933, 1112, 3785, 1892, 1933, 3603, 2414, 829, 1702, 3822, 4190, 4223, 2874, 2952, 1551, 3326, 1308, 1471, 3374, 3785, 1706, 2863, 1427, 1099, 2467, 1099, 1918, 2980, 1765, 1099, 1467, 4037, 2991, 2133, 131, 2952, 2239, 3110, 3822, 3261, 747, 2732, 1933, 2002, 3011, 3374, 3785, 3582, 271, 3364, 2941, 2705, 4129, 4190, 851, 271, 2860, 3261, 3831, 3374, 131, 3374, 1751, 3880, 1308, 803, 2739, 640, 2069, 3838, 2860, 3261, 2720, 2863, 1478, 2054, 2863, 3110, 1751, 3660, 829, 3978, 2863, 1343, 3785, 1500, 1933, 3733, 1751, 1202, 1809, 1751, 252, 1486, 3261, 2598, 4090, 2857, 2732, 803, 4143, 2863, 1751, 751, 829, 4161, 3560, 1060, 3248, 2094, 424, 3971, 2863, 3110, 424, 3261, 196, 2863, 2169, 1282, 951, 2863, 1282, 3501, 2596, 1751, 3660, 2232, 2732, 2346, 718, 271, 829, 803, 2899, 375, 3785, 2467, 2760, 3805, 975, 1751, 3660, 2229, 2541, 3791, 3261, 29, 3060, 1809, 3785, 2688, 2502, 2021, 424, 2094, 2874, 1751, 4108, 3786, 829, 3785, 2732, 1933, 2886, 2300, 2863, 2457, 3166, 829, 718, 3374, 2899, 1163, 2049, 2746, 138, 215, 3454, 2054, 3726, 3769, 3154, 760, 1574, 699, 2952, 3899, 2173, 674, 2952, 3128, 829, 2952, 1763, 3971, 240, 829, 290, 3371, 3202, 4108, 3543, 829, 138, 29, 3060, 3261, 1779, 953, 3206, 829, 3839, 2941, 1809, 1820, 2255, 3206, 1809, 829, 2952, 3454, 1099, 2325, 3374, 1751, 3822, 550, 1751, 4167, 2354, 464, 3852, 3693, 418, 553, 1933, 379, 2734, 2732, 3785, 1283, 3358, 3166, 1617, 2556, 2150, 3043, 1973, 4190, 1155, 3899, 2261, 829, 1163, 464, 2991, 550, 3060, 3801, 1099, 3902, 507, 2991, 2478, 4090, 4217, 1593, 2760, 1751, 2457, 3248, 424, 3261, 2263, 2611, 3364, 2863, 1107, 1551, 3270, 829, 1574, 3791, 3261, 2734, 2591, 1751, 3660, 1717, 718, 271, 829, 3355, 1116, 1617, 370, 2233, 3741, 2863, 3629, 1308, 1933, 240, 102, 1350, 1751, 766, 3326, 424, 3261, 2734, 2863, 2900, 674, 829, 2261, 1779, 819, 2354, 1933, 4019, 2732, 2142, 4167, 1766, 2478, 4090, 3261, 1296, 4039, 41, 829, 2952, 1933, 4019, 3912, 3151, 2467, 2732, 2142, 3736, 2651, 2715, 3118, 374, 3743, 1751, 1117, 873, 3010, 41, 1933, 2470, 363, 827, 424, 3261, 573, 553, 3118, 2002, 3785, 2467, 3304, 2715, 290, 4019, 2732, 2142, 553, 1933, 1108, 374, 2863, 138, 2528, 4037, 1933, 1964, 2863, 3278, 1530, 4190, 1140, 3660, 197, 706, 1809, 3290, 3154, 97, 4217, 3405, 1751, 2688, 3560, 2667, 829, 3558, 674, 3785, 2467, 3154, 1283, 2863, 2991, 1933, 379, 1372, 2478, 4090, 3261, 1459, 829, 3601, 3261, 1795, 2457, 2715, 3509, 1763, 3146, 3118, 3191, 1933, 4224, 459, 2294, 3374, 138, 3374, 684, 2863, 550, 3151, 562, 97, 829, 3261, 196, 3278, 2732, 1933, 1473, 3011, 1308, 3261, 63, 3852, 3581, 1763, 3261, 572, 829, 3091, 2665, 3261, 587, 3932, 2732, 3261, 2232, 1473, 3011, 3743, 2394, 3261, 2112, 4090, 3261, 601, 1933, 379, 1763, 3261, 572, 3852, 3581, 1308, 3261, 63, 829, 3091, 2665, 3110, 130, 3278, 1169, 3644, 2863, 4217, 2491, 4108, 3838, 1762, 4190, 2758, 2760, 138, 424, 550, 1809, 1751, 3660, 829, 4155, 3543, 2941, 3261, 1459, 1308, 4163, 4090, 4217, 359, 803, 2863, 819, 1751, 1779, 3322, 2478, 3261, 1795, 2467, 2440, 2863, 3261, 196, 2467, 3363, 3796, 3261, 1124, 3791, 3261, 573, 1860, 3637, 3373, 2941, 3261, 3013, 4190, 3288, 273, 3373, 829, 3261, 573, 2863, 3056, 2049, 1951, 2519, 4090, 1530, 2732, 2287, 3822, 3261, 4019, 2863, 1809, 1308, 1350, 948, 2094, 3912, 2952, 3796, 3261, 2232, 1347, 4090, 3261, 573, 3374, 383, 699, 1845, 3912, 1073, 1268, 2243, 1933, 1684, 3890, 1951, 3971, 3880, 898, 3759, 383, 2863, 3927, 3043, 2467, 1933, 1753, 3135, 1684, 3128, 3796, 3102, 2176, 370, 2863, 2212, 2863, 1478, 2054, 2863, 3110, 1933, 4224, 4041, 3374, 1427, 1933, 797, 102, 2314, 3660, 2229, 3313, 829, 2598, 529, 3110, 3822, 4190, 3726, 1582, 1099, 829, 3839, 2732, 3043, 811, 2952, 3212, 2357, 2732, 195, 2287, 3261, 4019, 3288, 3796, 1506, 746, 829, 803, 1427, 3846, 3660, 3261, 573, 2900, 1374, 1308, 341, 1427, 383, 2776, 3890, 383, 811, 2093, 2863, 1099, 3880, 2328, 383, 2478, 383, 3558, 3151, 2467, 3326, 3373, 2941, 3261, 3013, 3154, 3261, 638, 3151, 2467, 2330, 2863, 550, 4190, 1973, 2730, 3729, 2874, 558, 3151, 129, 2108, 3785, 1751, 3822, 829, 718, 3118, 2528, 699, 2760, 3560, 2294, 424, 3261, 871, 4090, 3118, 3581, 2874, 424, 2299, 1789, 3151, 811, 713, 580, 1582, 1099, 829, 3839, 2732, 1751, 3932, 1015, 1099, 3117, 3833, 4123, 3261, 4019, 3929, 2591, 1550, 424, 550, 1562, 3261, 573, 4090, 3261, 2734, 3304, 2863, 1933, 138, 1069, 4167, 2130, 2478, 1197, 424, 3261, 3172, 3581, 3785, 2756, 3536, 3118, 408, 2863, 1692, 829, 2598, 3096, 3971, 4090, 3261, 3831, 3678, 41, 102, 1779, 2210, 218, 3261, 4019, 3143, 2732, 3261, 2232, 3011, 1230, 3374, 1427, 4034, 3660, 1132, 3726, 1582, 1099, 829, 3839, 2732, 696, 4190, 3364, 2732, 1933, 1974, 3011, 699, 383, 829, 3839, 2732, 424, 3154, 3822, 3261, 4019, 3788, 3261, 2094, 2706, 383, 3558, 3785, 2467, 1951, 278, 3743, 4190, 1107, 1551, 4037, 829, 2952, 353, 2760, 2705, 1979, 4150, 1751, 3956, 829, 718, 3261, 1372, 3154, 3261, 571, 3943, 2705, 2369, 829, 3850, 3971, 1463, 3261, 4019, 3085, 829, 368, 550, 1933, 3603, 1907, 1308, 1099, 3118, 1994, 553, 1310, 1099, 3117, 3833, 4123, 3151, 3822, 3796, 2863, 2239, 1308, 2456, 2863, 2456, 2874, 674, 1582, 1099, 829, 2261, 3822, 4190, 2541, 383, 4037, 3822, 3261, 4019, 2863, 2457, 2811, 1620, 2049, 1951, 1530, 2732, 3166, 829, 41, 3822, 4190, 3779, 3775, 1040, 591, 2863, 1751, 3304, 3261, 573, 2863, 3288, 2732, 3261, 573, 2651, 29, 2941, 1933, 138, 1473, 4008, 2467, 2802, 4090, 2962, 1763, 3971, 130, 829, 3261, 196, 3261, 63, 2467, 3363, 3796, 1933, 2286, 2751, 2732, 3261, 3358, 337, 1933, 4132, 3261, 1110, 2467, 3830, 97, 3261, 61, 1229, 1933, 138, 4145, 4008, 3085, 829, 2952, 2802, 4090, 2365, 2049, 3927, 1656, 138, 3629, 2732, 1809, 2365, 4190, 3822, 829, 718, 3374, 131, 3374, 1751, 3880, 1308, 2212, 3043, 2467, 3927, 1656, 138, 4090, 3785, 2732, 3261, 1521, 269, 3261, 63, 2365, 2192, 2863, 3374, 1308, 3261, 4132, 3785, 2467, 2212, 2863, 370, 1345, 1506, 1933, 1491, 3074, 3261, 3743, 1656, 2732, 3261, 1473, 1809, 1107, 1551, 2942, 2776, 3261, 1110, 2863, 1933, 138, 1006, 4008, 2467, 3363, 3796, 3261, 1095, 2863, 2318, 1763, 4173, 829, 4173, 529, 1117, 383, 1203, 1702, 3822, 4190, 1933, 379, 273, 1308, 1751, 2467, 1551, 2502, 2173, 2099, 3785, 2467, 3603, 671, 1308, 803, 829, 3267, 2094, 3801, 195, 1006, 3256, 4037, 1809, 2705, 1933, 88, 1006, 3822, 3261, 63, 2863, 3788, 3801, 3741, 1751, 3822, 3261, 1185, 856, 553, 2243, 1153, 3662, 1809, 4190, 2502, 2007, 2874, 1751, 3272, 2732, 290, 1562, 1809, 3785, 2467, 3234, 829, 3261, 4132, 2863, 1551, 829, 803, 2760, 1751, 1607, 2665, 2863, 3288, 3796, 3364, 1099, 2956, 3558, 1809, 88, 3121, 71, 50, 2732, 2110, 1099, 2956, 3558, 1809, 3121, 3880, 2317, 130, 3154, 1663, 3822, 3261, 63, 2863, 1753, 4090, 893, 2261, 1099, 1467, 3558, 4090, 2299, 1809, 2261, 4190, 3822, 3560, 2207, 4018, 2502, 3016, 829, 873, 4108, 2941, 1933, 3221, 383, 1467, 3558, 138, 3822, 3261, 63, 2863, 3788, 1933, 2110, 4190, 1107, 1551, 424, 3154, 4037, 3261, 3011, 4090, 550, 1994, 2863, 1973, 3785, 1117, 2952, 3374, 131, 829, 137, 3212, 196, 1639, 4090, 3221, 3733, 1751, 2467, 776, 829, 1443, 3796, 3971, 3261, 1110, 1607, 3261, 4145, 4090, 2365, 2239, 3261, 61, 2863, 424, 3432, 751, 829, 4161, 683, 3143, 2670, 803, 2741, 424, 3261, 63, 2863, 3261, 4148, 3733, 4167, 2094, 3110, 2767, 1933, 1216, 4090, 2002, 2822, 2863, 2944, 3261, 63, 1607, 1951, 3857, 4090, 2991, 269, 819, 130, 484, 803, 2863, 3261, 4132, 2467, 370, 2760, 138, 1469, 1809, 3785, 2467, 2502, 2534, 829, 3729, 2099, 3261, 1617, 3872, 3785, 102, 1551, 1620, 529, 2271, 674, 4049, 2202, 2801, 4190, 3477, 3373, 2863, 271, 2732, 3852, 1436, 4090, 127, 1620, 3043, 1772, 3118, 3706, 408, 3374, 3852, 52, 138, 899, 3962, 4084, 2715, 3785, 2863, 3560, 2294, 374, 3785, 2239, 1427, 2640, 3240, 4217, 3399, 751, 3261, 63, 3822, 2732, 1933, 2668, 2016, 3261, 2564, 1117, 1574, 1108, 1933, 2414, 10, 2229, 3785, 4057, 4008, 1117, 1551, 2952, 3852, 25, 3822, 4190, 1872, 2688, 3560, 1067, 829, 3839, 3852, 1907, 4090, 578, 2239, 1933, 379, 4090, 803, 3176, 2756, 368, 4090, 674, 4161, 3785, 1117, 2352, 553, 3261, 2210, 2863, 4010, 383, 2557, 3261, 3175, 988, 1647, 956, 829, 3496, 1108, 3796, 2705, 2100, 3166, 4090, 4212, 3822, 3261, 63, 3933, 2239, 803, 3581, 4190, 4028, 2925, 1902, 424, 3261, 1110, 829, 2557, 1427, 1751, 3357, 829, 1502, 3261, 915, 2874, 3261, 1110, 2467, 3229, 1229, 3261, 2365, 2863, 3085, 1551, 829, 2952, 977, 2760, 1751, 3288, 3796, 3364, 1647, 956, 1099, 368, 102, 3206, 3785, 451, 1099, 1620, 1467, 1725, 1702, 3822, 3261, 63, 1099, 3899, 3880, 343, 1231, 2863, 553, 1809, 1751, 2457, 337, 803, 16, 3364, 3421, 1933, 2519, 4090, 2587, 829, 3785, 3374, 1751, 1107, 2760, 2863, 3527, 3785, 1933, 1275, 3757, 424, 3261, 130, 4090, 1478, 2781, 3267, 1252, 829, 195, 379, 3566, 2863, 1466, 41, 819, 3151, 3813, 3151, 3743, 4057, 3785, 829, 3322, 3912, 3151, 3521, 3785, 706, 3666, 2732, 4008, 3261, 1110, 2863, 3261, 4132, 4185, 2323, 2323, 2323, 3733, 3261, 63, 4012, 3261, 294, 4033, 4090, 3261, 392, 1751, 640, 1142, 3261, 4132, 4062, 3373, 2863, 271, 2863, 3261, 218, 379, 953, 2343, 2760, 1809, 4190, 3880, 2425, 3759, 3261, 601, 1099, 3267, 1345, 829, 138, 3566, 1099, 1466, 41, 819, 3151, 3813, 1308, 3151, 1663, 1588, 2102, 3261, 3629, 819, 3151, 474, 3666, 2323, 2323, 2323, 4123, 383, 1863, 2210, 3785, 1933, 2611, 1427, 383, 4037, 3261, 63, 3822, 829, 4190, 332, 3261, 4132, 424, 803, 3374, 1751, 635, 1099, 690, 1574, 2863, 3839, 255, 829, 3091, 2665, 553, 3261, 572, 2863, 1751, 2729, 2478, 4090, 3261, 2587, 3261, 1110, 1948, 1933, 1488, 1500, 803, 3374, 1751, 3288, 2478, 2874, 3785, 2756, 4195, 803, 4190, 3504, 3261, 4132, 553, 3212, 1740, 3374, 3785, 2467, 1933, 1976, 379, 743, 2863, 1486, 2478, 2705, 7, 2863, 2026, 2732, 3154, 527, 2756, 4037, 1933, 3567, 1973, 4190, 3261, 218, 379, 953, 2467, 2266, 4037, 1933, 3012, 819, 1751, 3504, 3785, 2863, 640, 2155, 3281, 3373, 2863, 3547, 3281, 2478, 3364, 2760, 1809, 3819, 1308, 3261, 2094, 240, 102, 1350, 3785, 2467, 3374, 138, 3374, 1751, 3880, 2261, 829, 2190, 3785, 3374, 3964, 3374, 1751, 3660, 3580, 2478, 3261, 154, 1372, 4090, 337, 3785, 4008, 2467, 829, 2009, 3785, 3373, 2941, 1933, 2519, 4090, 1258, 2863, 3110, 4051, 570, 2190, 4090, 2705, 29, 4173, 2863, 1263, 2, 2760, 3374, 829, 1944, 2705, 2712, 3281, 1751, 374, 3785, 2478, 2941, 3261, 3693, 1521, 1427, 1099, 1467, 1502, 550, 16, 1468, 553, 1702, 1973, 4190, 1073, 2173, 829, 1401, 3785, 2732, 1933, 2210, 102, 1350, 4045, 3785, 2952, 496, 829, 4047, 3785, 3678, 1751, 3822, 3261, 1185, 601, 2478, 3216, 2863, 3261, 379, 953, 4025, 2732, 941, 3785, 3660, 1263, 2239, 2212, 2715, 550, 638, 1467, 862, 3822, 4190, 3788, 1551, 424, 3154, 1933, 154, 1372, 4090, 2863, 2316, 3261, 4132, 4025, 3364, 2863, 4190, 2902, 3560, 1902, 2941, 2705, 374, 829, 2557, 674, 2467, 3261, 1071, 553, 3785, 3043, 3880, 2952, 1951, 278, 1809, 3785, 3660, 1933, 3560, 924, 408, 138, 1863, 4037, 1933, 1760, 2229, 1933, 3815, 408, 4115, 2705, 2528, 2776, 2069, 536, 288, 1308, 1933, 4132, 3819, 4190, 1107, 1551, 4037, 3261, 3018, 4090, 3261, 953, 424, 3154, 2874, 558, 3785, 2467, 3743, 2603, 1751, 1973, 2863, 2902, 2941, 2705, 2528, 3364, 829, 2557, 1427, 3043, 2776, 2299, 1074, 1951, 3043, 2776, 1951, 1074, 1427, 4049, 3128, 829, 3496, 2941, 1933, 3741, 138, 2314, 3822, 4190, 1748, 2690, 873, 4034, 1863, 829, 2261, 553, 383, 2271, 2054, 3261, 218, 379, 953, 3668, 3364, 102, 4025, 3785, 2467, 2534, 829, 3729, 4008, 2863, 130, 3288, 3796, 1308, 3212, 3733, 2732, 3429, 4190, 2467, 2756, 2321, 829, 368, 829, 718, 2054, 674, 1582, 1099, 829, 2261, 553, 550, 743, 819, 1099, 3839, 3785, 320, 819, 3785, 4025, 3364, 2760, 4062, 1809, 1751, 2902, 271, 2941, 2705, 374, 2732, 3212, 3326, 550, 638, 3043, 3880, 2952, 1951, 1952, 1283, 3785, 3785, 2467, 540, 1863, 1429, 802, 2229, 1933, 3741, 2863, 1751, 2688, 1809, 3785, 1117, 2952, 2502, 1751, 1308, 803, 829, 3852, 3785, 2221, 2760, 1751, 751, 3261, 379, 743, 271, 2863, 2688, 2502, 3497, 829, 2557, 3785, 427, 1468, 2297, 2941, 3261, 1459, 1427, 3785, 3660, 1945, 3373, 1751, 3822, 829, 718, 3785, 1117, 873, 3580, 1933, 3171, 1765, 16, 2874, 3785, 2325, 2925, 1933, 1094, 3741, 1099, 368, 2863, 1751, 2457, 325, 97, 196, 1371, 1751, 101, 1872, 811, 2261, 3560, 131, 3374, 3167, 2863, 2467, 2756, 3278, 829, 718, 1427, 3971, 3743, 101, 3261, 29, 1372, 829, 1993, 2991, 819, 1751, 2467, 1933, 379, 1971, 2715, 3662, 3261, 88, 1006, 3363, 3796, 1933, 1231, 4090, 1933, 3494, 1933, 2886, 1051, 2239, 3261, 1006, 3743, 50, 819, 3785, 3272, 4190, 3785, 2902, 2189, 1751, 1973, 252, 3785, 3660, 3560, 3805, 3195, 2863, 1933, 4224, 2132, 532, 2760, 1751, 2688, 1809, 3785, 3224, 829, 2952, 2219, 553, 840, 88, 3609, 1751, 2457, 2925, 273, 3374, 1751, 1107, 1551, 424, 3154, 3558, 2099, 3785, 1117, 4037, 3261, 2202, 3371, 3785, 3743, 50, 1933, 379, 2112, 1163, 2705, 3016, 2760, 3237, 1973, 4190, 2863, 1751, 3288, 3796, 1117, 383, 1203, 1702, 529, 4008, 1372, 1099, 3224, 829, 1574, 1763, 4123, 1809, 364, 1933, 3603, 2414, 3796, 978, 383, 2980, 829, 3839, 829, 3822, 3261, 1006, 1099, 1467, 138, 2019, 978, 3822, 4190, 3110, 3785, 3221, 1071, 4008, 1372, 383, 1574, 3822, 3261, 1006, 2760, 3805, 3374, 1099, 3839, 2767, 4190, 2732, 3374, 3852, 1449, 1620, 4049, 2173, 829, 2261, 1809, 3822, 3261, 1006, 1427, 383, 3743, 1508, 3805, 2369, 4190, 2688, 1809, 550, 3880, 1551, 2952, 4065, 2760, 1751, 757, 290, 2706, 674, 2519, 4090, 2220, 2653, 1283, 4123, 2732, 1809, 4213, 3261, 1006, 3822, 1747, 2705, 29, 36, 1108, 2150, 1933, 1775, 2863, 2732, 1809, 4213, 1747, 3261, 196, 36, 2150, 1933, 2321, 2088, 3421, 2494, 383, 4037, 1073, 3278, 751, 2874, 1099, 1467, 2980, 829, 1574, 2860, 751, 2220, 4190, 3929, 1620, 383, 129, 2108, 1809, 3822, 3261, 1006, 2776, 3154, 751, 4123, 2952, 751, 4049, 751, 3726, 2261, 383, 3558, 2952, 751, 3822, 4190, 383, 690, 2952, 3822, 3261, 1006, 102, 383, 4045, 873, 1163, 4123, 4190, 2956, 368, 1809, 3697, 3785, 424, 3154, 3371, 1751, 3288, 3796, 2863, 3726, 2261, 383, 3558, 1809, 4049, 751, 829, 3557, 553, 3822, 3261, 1006, 1933, 2265, 1551, 751, 383, 2229, 1809, 1099, 3686, 2760, 3822, 4190, 131, 3110, 3261, 1006, 3288, 3796, 383, 2557, 1933, 1306, 1330, 819, 2705, 625, 2863, 797, 2705, 2044, 819, 2705, 3016, 2054, 1099, 2016, 819, 2952, 3016, 2863, 2889, 138, 2044, 819, 2952, 625, 3515, 2952, 751, 1099, 1845, 3785, 3783, 1551, 1238, 3822, 4190, 1845, 3785, 674, 383, 4037, 3822, 3261, 1006, 2261, 383, 3091, 2665, 553, 3261, 572, 2845, 1099, 3902, 4037, 3785, 3560, 138, 3822, 4190, 2874, 1099, 2326, 2229, 1932, 3894, 771, 2557, 1702, 3043, 3822, 3261, 1006, 2863, 2653, 4190, 2467, 1551, 138, 1560, 424, 550, 1751, 2467, 2069, 2760, 3786, 829, 2055, 1656, 2387, 3733, 1751, 2467, 3326, 424, 3261, 418, 978, 3785, 3660, 2229, 3785, 2354, 1256, 3364, 2595, 674, 3111, 4090, 3261, 4132, 3822, 3261, 1006, 1490, 2294, 3803, 829, 4116, 3785, 2519, 2941, 1933, 3741, 4190, 2297, 3822, 2756, 3374, 1427, 3785, 3660, 1163, 3543, 2732, 1933, 3838, 1372, 1099, 1973, 3785, 1117, 3822, 3261, 1006, 2863, 2653, 3364, 4190, 3460, 1933, 379, 2746, 1341, 829, 2557, 3785, 3364, 2874, 3785, 1107, 1551, 3537, 2863, 1500, 1933, 240, 102, 1350, 1751, 234, 3796, 2732, 3261, 4213, 2732, 4008, 3261, 2321, 2088, 2467, 3822, 829, 2653, 3202, 3123, 4136, 3723, 1751, 3822, 829, 718, 3261, 2321, 2088, 3573, 2952, 138, 3261, 1753, 472, 2863, 558, 3374, 550, 3206, 1863, 3785, 1587, 2952, 3062, 2754, 3271, 1551, 2760, 751, 3374, 3785, 2467, 2732, 2321, 3374, 1751, 3822, 550, 1751, 2902, 3373, 2863, 3043, 2467, 3261, 1006, 3364, 3363, 3796, 1933, 744, 4090, 1933, 3494, 1107, 383, 3729, 3741, 102, 455, 3822, 3261, 1006, 1099, 3822, 3741, 2459, 4190, 2863, 1099, 615, 383, 4045, 4051, 1633, 2863, 3003, 2760, 2354, 383, 2352, 3971, 2502, 1540, 3154, 29, 3822, 3261, 1006, 2863, 550, 638, 3785, 2653, 2502, 589, 2321, 553, 3261, 130, 4090, 3261, 2044, 2863, 2000, 553, 3261, 2317, 4008, 2408, 3212, 638, 1500, 3261, 403, 4090, 3785, 3660, 2440, 131, 3202, 1302, 3123, 1933, 1006, 1506, 1933, 2317, 1973, 4190, 2874, 1933, 2317, 1506, 1933, 1006, 2705, 3261, 1753, 2667, 953, 1099, 3056, 3272, 2732, 138, 1443, 1751, 3660, 1551, 2440, 138, 3923, 3723, 1751, 4167, 2732, 4194, 4090, 3261, 2734, 4090, 3261, 2321, 2088, 1751, 1973, 3785, 690, 2952, 3261, 29, 2734, 3912, 3261, 611, 2776, 1836, 4037, 2545, 2863, 3261, 2834, 2467, 1286, 553, 1693, 3785, 2467, 2760, 138, 1933, 2734, 1809, 1751, 1107, 1551, 4037, 829, 1574, 793, 2591, 1751, 3660, 1403, 3212, 1863, 4090, 3261, 1353, 2611, 4090, 2857, 2863, 25, 718, 829, 1283, 1350, 3166, 1617, 269, 3110, 1751, 234, 3373, 2541, 3785, 2925, 273, 3278, 829, 718, 3686, 3785, 3902, 2952, 3062, 751, 1500, 3154, 1099, 1338, 615, 1490, 2440, 829, 2557, 3261, 1775, 1393, 370, 1246, 1933, 751, 22, 3043, 2467, 1933, 2441, 751, 2478, 3146, 1933, 3494, 2732, 91, 4090, 3261, 2734, 2863, 3261, 2321, 2088, 2863, 3261, 1775, 2776, 1887, 2351, 424, 3785, 1933, 2942, 2467, 3363, 2900, 2991, 3238, 2673, 2863, 3261, 196, 1350, 2776, 118, 3785, 3374, 1933, 1297, 822, 4217, 253, 3796, 3785, 2863, 3166, 97, 2705, 3581, 3560, 4163, 1308, 3261, 2942, 1973, 4190, 3743, 3374, 2705, 2673, 1099, 3686, 3785, 3221, 2271, 3261, 2441, 2467, 1933, 138, 3971, 2874, 3261, 1881, 2776, 3154, 461, 1762, 424, 3971, 1507, 4090, 3785, 1951, 2587, 1951, 2587, 130, 2801, 2478, 819, 130, 3272, 4190, 3796, 2049, 1708, 4090, 2587, 3822, 4190, 2911, 2863, 1751, 3405, 271, 2732, 1933, 138, 4147, 424, 3971, 130, 4090, 3261, 2441, 873, 3212, 1562, 3261, 2321, 2088, 3822, 2732, 3852, 805, 3011, 4190, 2902, 3154, 1108, 3261, 2441, 2874, 3043, 2467, 4034, 3796, 3785, 2874, 2351, 1099, 1467, 2557, 2299, 1562, 1751, 3929, 3043, 87, 2299, 3822, 3261, 2321, 2088, 3110, 3785, 3640, 3560, 854, 4090, 383, 829, 2565, 3785, 3822, 4190, 3524, 3785, 3640, 3560, 854, 4090, 383, 829, 3833, 271, 1506, 3161, 1932, 3822, 3261, 2321, 2088, 1099, 2956, 3558, 3785, 2467, 195, 2441, 3822, 4190, 2705, 2086, 1308, 1933, 4224, 2132, 1863, 2229, 1881, 195, 706, 2191, 2742, 3822, 3261, 1775, 3151, 3660, 2229, 3326, 424, 4190, 1308, 3212, 638, 553, 4224, 1811, 2863, 550, 2467, 3118, 2094, 3578, 383, 3902, 375, 1551, 829, 2352, 133, 685, 4190, 3822, 553, 3212, 2266, 2705, 3560, 1370, 3261, 1775, 3304, 3118, 2528, 3560, 3940, 3796, 359, 550, 2874, 3154, 3151, 3822, 2467, 3801, 3206, 1933, 592, 4037, 1933, 1076, 1163, 3846, 3117, 873, 3212, 1554, 2054, 1973, 4190, 2952, 1067, 2836, 3250, 3285, 4123, 1536, 1099, 1663, 1530, 1809, 1751, 2732, 1015, 2261, 383, 3356, 1809, 383, 368, 383, 1663, 1747, 2478, 3261, 713, 829, 3785, 3822, 3261, 2321, 2088, 1230, 2760, 3822, 4190, 3110, 383, 3902, 3729, 674, 383, 3356, 3261, 2321, 2088, 3288, 3796, 1099, 2261, 4190, 4223, 2459, 424, 983, 3271, 1099, 3356, 674, 1099, 3160, 3261, 2232, 953, 383, 3558, 1551, 3261, 2232, 953, 1933, 2611, 3822, 3261, 1775, 383, 811, 2756, 3374, 131, 3729, 1809, 1099, 2557, 674, 1099, 3467, 3206, 3261, 2232, 953, 3374, 1099, 3467, 674, 1099, 2557, 383, 811, 2756, 3374, 131, 3729, 2732, 3261, 2321, 2088, 1809, 1099, 4037, 674, 1099, 3839, 3206, 3261, 2232, 953, 3374, 1099, 3839, 674, 1099, 4037, 383, 811, 2756, 3374, 131, 3729, 2732, 3261, 2942, 1872, 3085, 829, 2952, 3166, 2732, 3118, 29, 1809, 1099, 3275, 819, 1099, 29, 3206, 3261, 2232, 953, 3374, 1099, 29, 819, 1099, 3275, 3785, 3206, 3261, 2232, 953, 553, 383, 3822, 3261, 1775, 2863, 4123, 3261, 3221, 3395, 2863, 3261, 1920, 3405, 1535, 1308, 1933, 240, 3733, 4190, 1973, 97, 3154, 1751, 3880, 3040, 1283, 714, 2863, 767, 4008, 3640, 138, 3261, 1775, 2467, 3261, 2094, 829, 1357, 3261, 3429, 674, 2210, 4090, 3261, 3000, 3206, 3785, 3151, 3822, 602, 829, 4190, 3151, 3660, 118, 3118, 3428, 2478, 4090, 3118, 3854, 2863, 2467, 3326, 424, 3785, 2868, 3147, 3785, 1478, 2054, 2863, 3110, 2863, 2518, 3785, 829, 3118, 4173, 4190, 4039, 1933, 379, 2863, 3110, 3822, 3261, 327, 1350, 2456, 3033, 750, 3261, 1775, 1099, 353, 383, 1892, 4045, 1209, 3261, 4221, 3151, 2732, 3326, 3524, 424, 3261, 2321, 2088, 3785, 2467, 3261, 2728, 1892, 3261, 2321, 2088, 1045, 2459, 3360, 2874, 3212, 3565, 690, 873, 4108, 2732, 3374, 131, 3261, 1775, 3612, 383, 1918, 873, 1364, 3785, 2732, 553, 3261, 767, 3261, 2321, 2088, 1607, 3261, 3428, 2863, 2902, 424, 3785, 3828, 3110, 3151, 72, 3785, 2941, 3118, 993, 4090, 2351, 2863, 2902, 424, 3785, 3364, 2874, 3151, 3880, 368, 4090, 4034, 3296, 829, 3729, 2229, 3118, 2094, 1994, 3785, 2467, 3261, 2728, 1892, 383, 3558, 4190, 3660, 2229, 3326, 97, 3118, 3829, 553, 3212, 1811, 674, 1933, 3075, 3428, 1751, 3929, 3785, 2252, 3261, 2210, 4090, 3261, 3000, 2863, 3221, 1203, 674, 2840, 3785, 3206, 3801, 3902, 3785, 3956, 3261, 1775, 4057, 195, 3428, 1203, 383, 674, 3630, 3785, 3206, 4090, 67, 1551, 4190, 2459, 3560, 2658, 2874, 3788, 3912, 3785, 1373, 3261, 2232, 3630, 1308, 2243, 1933, 3805, 638, 1762, 4008, 3206, 2756, 3261, 2831, 553, 3958, 3822, 3261, 1775, 4190, 2688, 3171, 3246, 3261, 4136, 1994, 3085, 829, 873, 1951, 2519, 4090, 3143, 2732, 3785, 2863, 3894, 3785, 2467, 3927, 683, 1099, 1467, 2502, 2859, 383, 1751, 3822, 3374, 2207, 3374, 1751, 3880, 3261, 2942, 3206, 2673, 3364, 3822, 3261, 1775, 2863, 3151, 2685, 1933, 379, 3173, 2351, 464, 2705, 408, 3261, 2942, 1520, 2705, 3581, 3772, 2863, 3822, 1506, 4163, 2705, 2528, 4090, 67, 4090, 67, 2756, 674, 1099, 2467, 3128, 829, 1994, 2753, 873, 383, 3919, 3261, 3991, 3894, 3261, 1775, 3822, 602, 829, 4190, 3364, 1951, 1099, 306, 3785, 3373, 4190, 2459, 3686, 3261, 713, 1099, 2326, 3261, 2553, 1731, 3822, 3261, 1775, 1429, 1099, 3822, 3261, 2321, 2088, 4190, 750, 218, 1099, 368, 383, 811, 2261, 453, 3296, 553, 3261, 638, 1751, 3822, 2229, 1118, 3785, 2732, 3285, 526, 1809, 873, 1951, 3183, 1427, 383, 101, 638, 3374, 131, 3374, 1099, 2261, 3822, 3261, 1775, 383, 4045, 1585, 1283, 1137, 3785, 2705, 41, 1099, 1467, 3558, 674, 383, 3356, 3822, 4190, 4090, 67, 383, 1467, 3261, 1775, 3822, 1142, 3118, 3581, 4037, 1099, 1265, 3729, 383, 3899, 269, 635, 829, 638, 558, 1551, 4190, 2209, 2459, 2874, 1099, 3558, 1099, 873, 829, 1466, 638, 819, 1099, 375, 4031, 852, 1809, 1743, 1308, 3785, 3822, 3261, 1775, 3151, 1587, 1615, 2624, 2054, 1427, 383, 3743, 640, 3796, 3603, 2976, 553, 41, 629, 2261, 1338, 2541, 383, 1159, 553, 3261, 1745, 1308, 341, 3686, 3785, 2776, 3355, 2840, 2732, 3261, 519, 2756, 638, 829, 3557, 406, 2453, 3743, 873, 829, 1306, 1933, 915, 829, 638, 2863, 1108, 1772, 3261, 1745, 2732, 1933, 3586, 2715, 3971, 638, 1308, 998, 1099, 3743, 615, 3785, 2467, 3261, 2321, 2088, 3822, 829, 3281, 2732, 1933, 1306, 1809, 1117, 2952, 385, 3927, 3822, 4190, 1448, 2874, 1923, 1918, 2952, 1108, 1308, 3785, 383, 3558, 1551, 424, 2094, 558, 3822, 3261, 1775, 2874, 383, 3880, 4051, 3785, 829, 2715, 3971, 3374, 3805, 3374, 383, 1159, 3206, 1809, 3261, 1372, 383, 3876, 4190, 696, 3261, 1775, 1520, 3118, 3581, 1516, 1551, 1099, 3151, 2459, 3846, 1629, 1185, 1294, 3723, 3151, 3288, 751, 383, 3558, 1971, 553, 3118, 2351, 231, 424, 3261, 2321, 2088, 3785, 2467, 424, 3261, 4224, 3931, 352, 2715, 3261, 572, 4090, 529, 2863, 1099, 3660, 829, 3937, 972, 972, 379, 2421, 3726, 1099, 2325, 674, 4049, 424, 383, 3558, 3261, 392, 558, 3202, 317, 453, 4037, 3785, 3822, 4190, 3785, 1772, 3796, 383, 3558, 3261, 1775, 3143, 2732, 550, 1372, 3373, 3056, 3261, 2564, 383, 4174, 4037, 1933, 3772, 2732, 3261, 3013, 972, 972, 4123, 3261, 2942, 1520, 3281, 2863, 2457, 3421, 2732, 2705, 29, 972, 972, 972, 972, 2863, 3288, 3796, 2760, 3805, 1809, 130, 3660, 829, 1211, 3785, 829, 2352, 3785, 3978, 131, 1490, 2425, 2632, 3261, 2094, 4033, 3822, 3261, 1775, 819, 3261, 572, 2007, 3373, 2863, 1390, 2478, 3775, 4137, 3261, 638, 2239, 553, 3118, 3581, 3726, 3171, 506, 3146, 4190, 2863, 3056, 975, 1809, 3261, 1775, 3288, 3796, 2732, 1933, 1770, 3011, 3151, 1587, 2261, 1933, 953, 1099, 4116, 2705, 71, 950, 2840, 2054, 1933, 1896, 1731, 4167, 2941, 3856, 3581, 3206, 1809, 3261, 1739, 2760, 2132, 3174, 699, 1364, 2478, 4123, 1751, 696, 3360, 3788, 3785, 3822, 3261, 1775, 553, 1933, 1080, 2705, 71, 1759, 2863, 3421, 1951, 638, 829, 2422, 3261, 1656, 2900, 4125, 3110, 383, 4051, 1105, 1108, 1099, 3686, 3822, 4190, 1230, 2760, 3822, 3261, 1775, 3374, 3261, 1656, 3839, 3786, 3373, 2874, 674, 1706, 819, 383, 1163, 829, 3261, 2321, 3364, 4190, 2583, 829, 4116, 3686, 3846, 1993, 3261, 1639, 3261, 2321, 2088, 2409, 2051, 2952, 2069, 3852, 4090, 550, 1099, 4160, 3261, 765, 1492, 2252, 1374, 1933, 4129, 2952, 4118, 1099, 1467, 3558, 3971, 3822, 4190, 2925, 1522, 424, 3261, 560, 3110, 3261, 2942, 3117, 130, 3278, 2801, 2926, 3373, 2942, 2863, 130, 4185, 3785, 3796, 3278, 1955, 424, 3432, 3261, 2942, 589, 3304, 3118, 2528, 1099, 3640, 2673, 3151, 3822, 2732, 1933, 2668, 1084, 1717, 1099, 317, 1478, 856, 383, 3235, 2776, 3278, 1203, 1374, 1933, 4129, 3822, 3261, 2321, 2088, 3360, 529, 2261, 1708, 4190, 2863, 2952, 1973, 1283, 3785, 2732, 3261, 1775, 102, 771, 2952, 2673, 3364, 3723, 2705, 3454, 3432, 464, 1933, 638, 3043, 2776, 1881, 379, 2221, 3261, 2942, 2457, 2732, 1933, 4224, 197, 2863, 4217, 2296, 2776, 1429, 2970, 2863, 3868, 2863, 130, 2082, 424, 3261, 3416, 4090, 1933, 131, 674, 1107, 130, 2653, 3796, 3822, 4190, 1872, 71, 1607, 1933, 4224, 2655, 2732, 1900, 4090, 209, 2863, 2661, 130, 2082, 3796, 1511, 3822, 3261, 2942, 1500, 325, 1933, 240, 102, 1350, 130, 1747, 873, 3454, 1809, 383, 3558, 4190, 3901, 3929, 2898, 873, 2229, 2690, 2760, 130, 2776, 3822, 3261, 2942, 3560, 2690, 4190, 757, 829, 1883, 829, 718, 674, 2243, 3852, 3135, 356, 4090, 1202, 1117, 2952, 4037, 2874, 3785, 3246, 803, 1656, 138, 2760, 1751, 3288, 3796, 2874, 3801, 1107, 130, 2653, 424, 3261, 3416, 4090, 1933, 131, 1502, 3212, 1863, 2351, 3261, 2321, 2088, 3822, 829, 4190, 3560, 1353, 3202, 3660, 4034, 3894, 4190, 2459, 2732, 3852, 31, 3011, 2760, 1099, 129, 1502, 1863, 383, 3356, 383, 129, 1502, 802, 3822, 3261, 1775, 2705, 3560, 1275, 829, 1502, 1863, 2229, 4034, 796, 696, 195, 4132, 3822, 4190, 2135, 1268, 133, 685, 2054, 3261, 1775, 696, 583, 4190, 1107, 1551, 2502, 3558, 674, 829, 3729, 829, 550, 2760, 1751, 3067, 718, 829, 3212, 2351, 2863, 2919, 2863, 3110, 2519, 829, 3261, 2942, 2863, 3932, 803, 2706, 3801, 1107, 130, 2653, 424, 3261, 3416, 4090, 1933, 131, 3261, 2942, 3364, 1607, 1933, 240, 102, 1350, 829, 368, 1283, 3785, 2863, 3110, 3822, 3785, 2467, 1933, 4015, 2049, 1951, 2243, 953, 4190, 2467, 2321, 3560, 3524, 2874, 3261, 1775, 2863, 3261, 2321, 2088, 3288, 1899, 1899, 2863, 3261, 2942, 1506, 3929, 1427, 383, 129, 2952, 854, 2453, 3296, 2451, 3261, 4129, 1308, 2316, 1951, 529, 1574, 3796, 4190, 3822, 3560, 1344, 1099, 1587, 1432, 3364, 1099, 1265, 3729, 3043, 1863, 2952, 3971, 3971, 1107, 3822, 3261, 2942, 2911, 3371, 3151, 2700, 829, 1574, 3796, 2863, 2760, 760, 1881, 379, 3354, 2776, 762, 829, 2553, 383, 3558, 674, 1107, 130, 2553, 3822, 4190, 2502, 338, 803, 2037, 1511, 3822, 3261, 2942, 1506, 2503, 424, 3154, 550, 638, 1099, 2980, 1933, 549, 993, 2409, 3261, 1775, 3030, 3154, 463, 3971, 418, 3796, 3151, 2311, 3796, 3374, 3151, 635, 2863, 3261, 2942, 2767, 41, 3261, 2321, 2088, 2311, 2941, 3261, 3986, 418, 2863, 4190, 2925, 4066, 1607, 3261, 418, 4090, 3261, 2321, 2088, 3261, 1775, 2467, 3261, 3743, 3971, 1872, 4108, 2299, 25, 1763, 3261, 1993, 2863, 4190, 2467, 1933, 3603, 2414, 2665, 2239, 2229, 3723, 3374, 3261, 2321, 2088, 3660, 2756, 1834, 3261, 1505, 2941, 3118, 1069, 4190, 1107, 1551, 615, 829, 1550, 3261, 2942, 3364, 2760, 1751, 2457, 3560, 2209, 2874, 1099, 1467, 2859, 978, 1107, 130, 2553, 3261, 1511, 1763, 383, 1663, 2553, 1789, 2478, 4090, 1933, 1948, 3822, 3261, 1775, 2760, 1099, 3902, 368, 383, 3880, 2553, 1511, 2478, 4090, 1933, 1930, 2184, 2874, 130, 2776, 2732, 3261, 131, 4190, 3822, 829, 3261, 2942, 1551, 3826, 829, 3857, 550, 1185, 1994, 4090, 67, 130, 2776, 3822, 3261, 2942, 131, 2732, 550, 713, 2760, 3559, 218, 4190, 1809, 1751, 2328, 3261, 2942, 1574, 3796, 1308, 3212, 638, 1506, 3489, 3785, 130, 2776, 762, 829, 2553, 3261, 2942, 3288, 3796, 2051, 2863, 889, 2705, 2528, 1308, 3785, 2467, 2069, 3560, 2812, 2863, 130, 1365, 3154, 2972, 4090, 2514, 1809, 4161, 553, 3852, 3316, 3801, 553, 3852, 3316, 3822, 4190, 3801, 1551, 3822, 3261, 2321, 2088, 4190, 2467, 1535, 3261, 2942, 3660, 3761, 2705, 2528, 2715, 550, 638, 2863, 2467, 3128, 2239, 2941, 1933, 2359, 2874, 3796, 3161, 4185, 2715, 3261, 1775, 3785, 4073, 3373, 3364, 553, 1933, 379, 3907, 2863, 3288, 3796, 1809, 4161, 553, 3852, 3316, 2243, 3374, 1399, 2863, 3261, 4038, 2863, 2784, 2863, 2307, 3558, 383, 3729, 1656, 699, 138, 4090, 1933, 284, 383, 3056, 2557, 2243, 1933, 953, 3374, 1933, 2301, 4090, 1933, 2087, 1979, 2054, 383, 4116, 1702, 3822, 4190, 3560, 138, 3559, 1099, 1467, 368, 3110, 383, 1918, 1585, 3822, 3261, 1775, 550, 3750, 4090, 3574, 2467, 1863, 2229, 4190, 3880, 3581, 1751, 4108, 3373, 2732, 4224, 1346, 2863, 234, 2239, 3261, 2942, 410, 2673, 4034, 2863, 540, 4090, 3261, 3887, 1607, 3261, 3271, 3857, 4090, 803, 3128, 1938, 1751, 2902, 3543, 3432, 102, 1322, 2746, 2117, 1809, 130, 1117, 1845, 1500, 803, 3261, 1185, 638, 1751, 3272, 2991, 130, 2776, 776, 829, 1364, 3261, 2942, 2941, 3261, 1764, 424, 2299, 1789, 2690, 3899, 1574, 3043, 3364, 3822, 4190, 3374, 1751, 373, 803, 1372, 3260, 3261, 1459, 2705, 3261, 3621, 22, 1099, 3056, 2467, 424, 2732, 3154, 138, 1443, 2756, 3374, 1751, 3822, 550, 1751, 1140, 1809, 3971, 4090, 3261, 3831, 3660, 1933, 573, 1771, 29, 2941, 3785, 3788, 3560, 2667, 1751, 1973, 2874, 2653, 2667, 2845, 1099, 368, 1099, 1863, 3374, 131, 1574, 2732, 424, 3432, 2863, 2732, 1751, 3288, 3432, 1863, 1751, 3480, 718, 2732, 3261, 3805, 3640, 2863, 4084, 829, 3261, 379, 1417, 2441, 2054, 2690, 3876, 3296, 550, 638, 1751, 3822, 829, 718, 2863, 2457, 2715, 332, 3261, 379, 270, 632, 2863, 3111, 3261, 573, 1809, 2651, 2941, 3261, 218, 3110, 1751, 3288, 829, 4161, 3248, 424, 3261, 2857, 1751, 3660, 640, 1933, 3750, 4090, 3785, 2732, 803, 3854, 2591, 1751, 2467, 1283, 1933, 2, 1617, 3110, 1751, 234, 271, 3261, 379, 120, 2863, 1824, 3480, 718, 424, 1185, 2732, 3261, 1820, 218, 2860, 3261, 1896, 342, 2863, 3261, 3918, 2313, 370, 1519, 3261, 505, 2081, 1933, 138, 3760, 766, 3791, 3261, 4083, 4090, 3261, 218, 3261, 2133, 2169, 3796, 3785, 2776, 2001, 2874, 3043, 2776, 1881, 3126, 424, 3785, 3229, 2074, 2991, 2177, 4190, 1973, 550, 1933, 3560, 2667, 953, 2863, 1751, 3288, 793, 829, 3428, 2991, 2863, 2756, 3374, 1751, 4167, 3373, 829, 2991, 1751, 317, 3971, 4090, 2991, 3729, 3018, 2478, 2054, 4016, 1467, 1574, 472, 1941, 97, 1702, 4037, 1809, 1099, 1747, 2108, 3785, 3822, 4016, 2732, 1933, 2002, 3011, 3284, 3507, 138, 3633, 3796, 4008, 3284, 2902, 3373, 2863, 3822, 3788, 29, 4016, 71, 3554, 3261, 2578, 3796, 3887, 2453, 3296, 1551, 1585, 3822, 4016, 1099, 317, 3261, 572, 3729, 3743, 3912, 383, 3928, 829, 2952, 3914, 674, 1308, 3822, 3261, 3971, 1872, 3660, 1161, 2094, 3788, 3531, 4090, 195, 751, 1350, 3822, 3284, 3360, 3785, 3206, 3118, 751, 3822, 4016, 2863, 2690, 1203, 1456, 2467, 1308, 2346, 3261, 1110, 1459, 1393, 4090, 2436, 3284, 3413, 271, 3118, 3922, 2863, 3660, 2756, 3250, 131, 4090, 3154, 3261, 2212, 1656, 819, 3118, 3959, 3766, 829, 1917, 464, 4190, 3374, 1751, 766, 779, 2991, 2863, 3151, 3117, 684, 2354, 3261, 3887, 2902, 1108, 4115, 2863, 3154, 4090, 2991, 1169, 3644, 1117, 383, 1203, 1702, 3822, 4190, 1933, 379, 273, 3801, 383, 699, 2074, 3259, 2133, 4016, 2863, 3284, 3822, 4034, 2874, 2902, 424, 1350, 1350, 2457, 2732, 1933, 3644, 1717, 3801, 3261, 2110, 3206, 383, 2557, 543, 550, 4123, 3224, 829, 873, 2229, 1933, 2177, 3760, 2863, 3846, 1364, 1933, 2001, 3971, 2732, 2715, 1952, 2863, 1427, 3261, 572, 2467, 829, 1747, 3785, 2478, 3846, 3902, 3154, 873, 2829, 3405, 396, 2239, 383, 3558, 2760, 383, 2557, 543, 2776, 2202, 2829, 2728, 2897, 1751, 3272, 829, 424, 550, 1562, 4016, 1872, 3660, 2229, 1902, 3326, 3336, 3261, 218, 3010, 2478, 3261, 572, 3261, 572, 2863, 3261, 1881, 3126, 4034, 1948, 4151, 3396, 464, 4217, 2607, 3043, 2467, 1933, 2290, 4090, 2132, 2261, 2863, 4190, 2902, 1108, 619, 829, 2557, 3261, 572, 2094, 4167, 590, 3565, 4060, 171, 760, 2776, 3154, 1836, 4037, 3261, 1881, 3126, 3393, 2863, 3396, 553, 4217, 4143, 2863, 3166, 424, 3261, 3977, 1779, 3261, 590, 2656, 760, 2776, 3519, 3154, 97, 553, 1400, 2863, 234, 1350, 2863, 1350, 3374, 3261, 3565, 1107, 1500, 760, 4167, 3261, 3431, 1371, 3043, 2776, 590, 4090, 2991, 2863, 3261, 379, 2985, 4167, 3477, 1346, 2077, 711, 2732, 711, 2732, 1110, 130, 2776, 3154, 3519, 553, 529, 1779, 4167, 3261, 624, 2169, 1230, 2863, 505, 2863, 2860, 2991, 4190, 3721, 3261, 2001, 818, 3785, 2467, 3166, 2732, 1933, 2729, 1139, 2972, 2955, 424, 3143, 1809, 2467, 3822, 2863, 3288, 2715, 1506, 1362, 803, 3110, 2767, 3261, 3434, 4090, 529, 4060, 3261, 1230, 2768, 3796, 1933, 2170, 3434, 1297, 2863, 1185, 4090, 3154, 550, 385, 1424, 4167, 3261, 1317, 2863, 572, 4090, 529, 4190, 2467, 2925, 2162, 2099, 1751, 3224, 1551, 829, 3418, 271, 3796, 803, 374, 4037, 3261, 1881, 3126, 2874, 1751, 3880, 1551, 3040, 3056, 1887, 317, 4090, 2243, 1933, 235, 424, 3645, 2863, 3742, 674, 1117, 2952, 3261, 1530, 4090, 1933, 1424, 1973, 1751, 1427, 2220, 3660, 3154, 829, 3418, 271, 464, 4217, 2607, 2760, 1809, 130, 1747, 2557, 3785, 2760, 1751, 766, 252, 978, 1751, 2467, 2863, 3460, 819, 3261, 1424, 4167, 1377, 829, 4190, 130, 3154, 3052, 2863, 2902, 424, 803, 2863, 3261, 572, 3822, 1345, 1872, 3206, 550, 1751, 3822, 3785, 829, 3261, 3434, 4090, 529, 1872, 3743, 1169, 2863, 2965, 2732, 941, 32, 3822, 3261, 572, 1142, 803, 3581, 3772, 2863, 602, 829, 4190, 1751, 3288, 3796, 3686, 195, 2202, 16, 138, 2202, 3206, 4190, 2760, 529, 195, 2133, 3822, 4190, 3560, 2207, 2874, 1751, 2732, 829, 718, 3801, 1073, 3743, 1933, 4071, 4090, 3445, 1500, 3154, 1099, 4072, 2952, 4118, 4090, 2991, 2863, 1872, 699, 760, 3822, 3261, 572, 1971, 829, 3261, 1881, 3126, 1872, 2776, 1913, 1108, 3261, 3760, 1308, 383, 2557, 3374, 130, 2776, 1913, 3796, 4217, 2607, 2863, 3261, 1651, 3796, 4217, 1142, 2467, 3261, 2232, 3374, 3261, 403, 4090, 3261, 4071, 1751, 3880, 1551, 1203, 2099, 130, 2776, 3126, 102, 3565, 102, 2656, 102, 1881, 4090, 803, 3399, 1371, 3726, 3902, 1099, 3558, 3822, 4190, 1560, 424, 803, 3399, 2665, 2705, 1951, 751, 4090, 3958, 3261, 572, 2519, 2170, 553, 2639, 2863, 1500, 1707, 424, 803, 1308, 1933, 1562, 4037, 1933, 2069, 3169, 7, 2239, 553, 803, 3581, 2239, 2132, 3822, 4190, 3560, 827, 2863, 2730, 2863, 3261, 572, 2467, 1535, 3261, 1317, 2086, 3118, 711, 464, 803, 3191, 2863, 273, 3822, 1272, 138, 2314, 1751, 3206, 3743, 1933, 16, 3261, 572, 2519, 3524, 1468, 1763, 41, 2863, 3822, 829, 3261, 3434, 3496, 2991, 97, 3261, 3434, 1107, 2760, 3560, 1060, 553, 3971, 2, 3839, 3373, 3822, 3261, 572, 2732, 1933, 1070, 3216, 1717, 2863, 3261, 1881, 3126, 4034, 2007, 3373, 2863, 2457, 3928, 829, 3261, 1317, 3261, 572, 3261, 3431, 1371, 2863, 2640, 1020, 4047, 2239, 1809, 7, 3261, 572, 383, 2352, 1702, 1540, 2863, 3110, 602, 829, 3261, 3760, 1751, 3288, 3796, 674, 873, 383, 2229, 2202, 4123, 1863, 3785, 529, 195, 2133, 3822, 1350, 2732, 1933, 3560, 3784, 3011, 3128, 271, 3796, 3971, 1143, 3374, 3151, 635, 3846, 2776, 776, 1099, 2557, 3822, 3261, 572, 1872, 3660, 3205, 2229, 3114, 3261, 2133, 2239, 553, 4217, 3405, 2863, 3261, 1424, 2311, 3796, 1881, 4090, 3261, 3565, 3485, 3678, 829, 3883, 3261, 4091, 3126, 1872, 2927, 829, 4190, 1308, 517, 383, 3625, 2952, 3914, 3822, 4190, 2863, 1751, 1364, 2991, 2941, 1933, 138, 1679, 1809, 766, 3791, 3261, 1881, 3565, 3998, 1283, 1308, 1933, 240, 102, 1350, 3326, 1308, 2991, 2863, 3110, 2297, 2031, 2239, 1500, 3261, 3887, 699, 4217, 3405, 2239, 1611, 3261, 572, 4217, 3405, 699, 2440, 1427, 3785, 529, 195, 2133, 3261, 3565, 1611, 2732, 941, 3788, 29, 1611, 3261, 572, 1663, 383, 3091, 2665, 3261, 3565, 2776, 1535, 2863, 2902, 424, 4190, 3374, 3261, 2706, 2467, 2719, 3357, 1308, 803, 3360, 1611, 4190, 1163, 3796, 3110, 211, 3261, 572, 2863, 4190, 4185, 3261, 1424, 2900, 3560, 138, 674, 1117, 567, 1779, 52, 1933, 3560, 2944, 2210, 3822, 1933, 2366, 1717, 424, 803, 1347, 1751, 2467, 672, 2715, 3261, 2001, 818, 1872, 2467, 2543, 1902, 2941, 803, 374, 3560, 3822, 4190, 1912, 3261, 63, 258, 258, 3822, 3261, 818, 2732, 1933, 3644, 2729, 3011, 3151, 2902, 1902, 97, 3118, 3829, 3374, 3151, 635, 2863, 3110, 25, 684, 464, 3993, 1364, 3118, 1042, 4084, 829, 803, 4173, 2863, 248, 394, 3146, 2408, 4090, 647, 674, 1308, 3822, 4190, 1107, 383, 3729, 674, 1933, 3043, 3261, 818, 696, 1951, 1099, 2956, 3822, 4190, 1099, 1467, 368, 2705, 424, 3154, 1933, 3043, 1099, 3822, 674, 1308, 1751, 545, 3261, 505, 2545, 3261, 818, 2457, 4190, 299, 1933, 379, 989, 4090, 3632, 1620, 258, 3261, 818, 248, 2732, 1933, 3223, 3011, 3261, 572, 3573, 3759, 383, 383, 2557, 1751, 4167, 2925, 3199, 2863, 3261, 572, 3822, 3839, 829, 195, 3236, 1611, 3261, 572, 2732, 1933, 1717, 4090, 3458, 2863, 2220, 2457, 1766, 1283, 2732, 3154, 527, 2216, 3373, 3096, 3013, 196, 3371, 130, 4108, 3582, 271, 2732, 1933, 240, 102, 1350, 2863, 3261, 2382, 2457, 4190, 1973, 1751, 3660, 3899, 3123, 2243, 1933, 2667, 2081, 2732, 803, 1443, 3785, 2467, 3154, 3685, 2863, 1417, 3261, 27, 2776, 2653, 2163, 3261, 3752, 2653, 3981, 2863, 3261, 3565, 3660, 829, 3951, 4151, 3373, 2863, 829, 1615, 3796, 4217, 4143, 2863, 3166, 829, 2352, 3261, 4151, 3261, 53, 1740, 4190, 3480, 424, 2094, 2467, 2732, 1816, 803, 101, 1751, 2232, 2732, 2069, 2705, 2507, 3581, 1468, 534, 2369, 3146, 803, 3191, 553, 2705, 2026, 2589, 271, 2874, 3973, 2756, 3374, 1751, 3660, 4108, 2705, 2739, 3241, 2222, 2478, 2863, 2467, 3128, 829, 306, 3261, 1312, 1933, 923, 553, 2705, 3581, 3785, 1117, 2009, 3281, 1108, 2863, 3018, 3373, 2732, 803, 374, 553, 2243, 1933, 3246, 2814, 1809, 1751, 3880, 1551, 2108, 1735, 2478, 2952, 2863, 819, 1751, 3660, 4108, 2705, 3581, 271, 2863, 2467, 3128, 829, 3557, 3364, 3785, 2467, 3560, 3745, 829, 1747, 1809, 3261, 1312, 3660, 719, 3281, 2863, 2467, 2732, 3261, 2621, 4090, 2149, 1468, 3742, 3154, 550, 3043, 2467, 3973, 1933, 1896, 102, 2897, 2732, 3261, 1372, 3970, 1751, 3052, 829, 2259, 3261, 1312, 829, 2863, 3374, 3261, 1377, 3565, 2776, 71, 2069, 3373, 2863, 672, 2239, 829, 196, 3519, 4090, 3261, 1124, 4190, 3964, 4167, 829, 3261, 4128, 1809, 3785, 2467, 1933, 3560, 3579, 2382, 1107, 3261, 4040, 3154, 3830, 424, 3432, 1506, 3359, 1308, 3295, 3392, 3154, 3261, 3733, 2863, 2157, 1308, 3261, 2163, 2863, 2732, 1933, 3560, 768, 638, 3261, 572, 2467, 2732, 1933, 4210, 751, 2863, 3288, 979, 1283, 2863, 1747, 2239, 553, 3118, 3581, 102, 2239, 553, 803, 3581, 1283, 3432, 2732, 1933, 240, 4190, 2457, 829, 1467, 3560, 4161, 829, 2952, 2173, 1751, 3660, 1551, 3374, 3894, 3660, 2299, 1308, 553, 3261, 572, 2874, 1751, 101, 1809, 3785, 811, 567, 2299, 240, 2863, 3110, 1973, 1751, 674, 1117, 3433, 4090, 1702, 1073, 3171, 2449, 4090, 3355, 2220, 4123, 3261, 4224, 2325, 3206, 1809, 2049, 2299, 3971, 1263, 3087, 1751, 2467, 3326, 1283, 1308, 3212, 1372, 4090, 2619, 2863, 2900, 2099, 1751, 3880, 3839, 1468, 1506, 3161, 3123, 819, 1751, 1140, 1933, 2667, 220, 2732, 3261, 1521, 3785, 3246, 803, 3560, 138, 424, 2094, 2874, 1500, 779, 3785, 1933, 240, 102, 1350, 1751, 3580, 3785, 2478, 829, 2952, 1933, 2317, 2863, 1751, 3822, 829, 718, 2705, 3261, 88, 1006, 2054, 1099, 3117, 873, 3395, 829, 1585, 829, 3726, 699, 383, 2069, 3796, 3822, 3261, 1006, 3374, 3964, 3374, 3043, 2467, 1042, 2369, 1308, 3785, 829, 3267, 553, 4190, 3460, 2591, 3261, 2528, 1256, 2863, 3110, 1799, 2705, 1951, 1530, 2330, 829, 3785, 1751, 1973, 2591, 2705, 2545, 873, 1163, 102, 424, 3271, 3971, 4090, 2991, 2732, 290, 240, 3261, 1770, 3581, 1256, 2863, 3110, 4190, 1364, 271, 803, 101, 2863, 2457, 3852, 2893, 4090, 3261, 2382, 4018, 3560, 1067, 1751, 3660, 1742, 829, 3601, 829, 803, 3261, 1006, 3085, 829, 368, 1809, 3043, 2467, 2369, 4090, 3785, 2054, 2732, 4194, 2863, 1951, 1863, 4090, 3785, 1256, 1099, 1467, 368, 130, 3091, 424, 3154, 2717, 4190, 2457, 2732, 2925, 1933, 3922, 3011, 2863, 130, 3154, 234, 2760, 3171, 3971, 129, 3759, 3785, 1247, 130, 1467, 1281, 829, 873, 2299, 4155, 2732, 3168, 424, 3271, 1427, 3043, 699, 796, 3777, 829, 1503, 2622, 1951, 1731, 3726, 2570, 3785, 3206, 3154, 3261, 1656, 3161, 3087, 1308, 341, 2049, 3261, 2381, 3202, 4108, 829, 1574, 3260, 1779, 672, 1283, 424, 3261, 196, 130, 4090, 3261, 3213, 1099, 3902, 873, 2019, 3261, 505, 1312, 2756, 2054, 3743, 3785, 2927, 1468, 819, 3785, 3272, 3958, 3796, 3726, 2261, 383, 4037, 3261, 572, 3822, 3261, 1006, 2732, 1933, 3644, 1717, 1551, 424, 3154, 3822, 4190, 394, 2760, 536, 2756, 3110, 1751, 1140, 1809, 3261, 572, 2467, 4084, 3678, 803, 977, 2760, 1751, 3288, 3796, 1922, 829, 2269, 1809, 2705, 2425, 3433, 3733, 2162, 3261, 2382, 3261, 572, 2965, 2863, 3391, 3796, 1872, 699, 383, 3166, 829, 3822, 3261, 1317, 3128, 3373, 829, 4190, 2863, 3326, 424, 3261, 3121, 3581, 553, 4224, 1811, 2705, 1933, 2035, 4090, 3683, 88, 1006, 3822, 4190, 2912, 1702, 829, 137, 3785, 1099, 1467, 4037, 3261, 3018, 4090, 3785, 424, 3154, 3822, 3261, 1317, 3371, 3785, 1863, 2041, 138, 711, 1427, 3785, 379, 1490, 2925, 1551, 3261, 1006, 3929, 1467, 2952, 1103, 3822, 3261, 1317, 2863, 1467, 3018, 424, 1702, 4037, 1809, 3151, 4108, 3678, 4190, 3374, 3151, 635, 1933, 1006, 1863, 3018, 424, 1933, 1317, 3822, 4190, 3202, 3935, 1809, 2732, 3212, 4081, 2874, 1099, 1467, 3040, 978, 131, 3785, 690, 2952, 1357, 3822, 3261, 1317, 3560, 2730, 2863, 3151, 3010, 3261, 572, 1872, 2467, 2438, 424, 3261, 1562, 138, 2314, 1099, 615, 383, 1117, 873, 550, 1006, 1357, 3261, 572, 3660, 3743, 3971, 1372, 4090, 3534, 3154, 3541, 4224, 102, 288, 2239, 553, 3118, 3581, 1751, 3822, 1506, 269, 3326, 1108, 2690, 2326, 3261, 3737, 2753, 3822, 3261, 1317, 3016, 2863, 3151, 2729, 2239, 4190, 1973, 1751, 811, 3374, 131, 1574, 3543, 2863, 2557, 3726, 3261, 2382, 2467, 3128, 3796, 3374, 1751, 317, 3261, 505, 1717, 2732, 3261, 2289, 3106, 553, 751, 1751, 3660, 1469, 317, 803, 2408, 1881, 4090, 3261, 4040, 829, 2952, 2527, 1308, 1887, 4195, 4217, 3295, 2863, 1751, 1107, 1551, 4037, 3261, 3018, 4090, 1656, 424, 3154, 3374, 3261, 2382, 2467, 2732, 2243, 1810, 1809, 1751, 3899, 101, 2099, 3785, 2467, 803, 3496, 102, 1551, 2760, 1751, 3288, 2732, 1411, 4090, 803, 1312, 3261, 1312, 2467, 3758, 2732, 1933, 2113, 553, 290, 1312, 4008, 3085, 829, 4190, 3852, 2448, 1907, 1308, 361, 3971, 4090, 2991, 553, 3261, 196, 3261, 3743, 1740, 2467, 1809, 803, 101, 2467, 2440, 3336, 829, 3261, 196, 1347, 4090, 3261, 218, 978, 4190, 3880, 2557, 3785, 776, 2732, 1933, 3628, 2519, 4090, 1372, 829, 4174, 3373, 2941, 1933, 3494, 2715, 3261, 638, 1751, 3660, 3504, 3261, 101, 2863, 1717, 3785, 3543, 3261, 2113, 2467, 97, 2863, 3278, 3261, 2163, 2776, 2478, 4090, 4194, 2874, 3785, 3221, 1071, 138, 1973, 4190, 3374, 3154, 3261, 4151, 699, 2440, 1763, 550, 1347, 4090, 3261, 1124, 2760, 1751, 3581, 3785, 1468, 3146, 803, 3191, 1809, 3785, 811, 1551, 2619, 3364, 2863, 3288, 3543, 1308, 1933, 379, 1863, 3221, 553, 803, 2035, 819, 1751, 4108, 3543, 829, 3261, 88, 1006, 1751, 2467, 1560, 829, 1747, 2502, 1933, 138, 142, 1084, 1108, 3785, 3043, 2467, 1933, 1308, 3128, 3796, 2900, 3261, 3737, 3261, 1317, 2863, 3261, 572, 1872, 2776, 3154, 3166, 424, 3432, 3733, 3154, 3261, 403, 2776, 2502, 1535, 2863, 2902, 3560, 4163, 3261, 1562, 4190, 1256, 1751, 2467, 3081, 829, 2715, 3154, 1881, 829, 2479, 3261, 2706, 2863, 130, 3932, 4217, 1142, 829, 803, 1938, 3374, 130, 3154, 635, 424, 3432, 1751, 3480, 3785, 3560, 4066, 1107, 829, 2352, 2478, 1230, 674, 130, 3822, 3261, 1271, 609, 2467, 1809, 383, 1747, 396, 2239, 1933, 3581, 2505, 3043, 2467, 1933, 2507, 829, 396, 3785, 2239, 1763, 1809, 3151, 3660, 3899, 3660, 829, 2261, 2243, 1933, 953, 3723, 2863, 3151, 3640, 3128, 829, 3557, 424, 3118, 638, 4090, 1443, 3261, 1230, 609, 2467, 1809, 2541, 1809, 3660, 1933, 3581, 3880, 2952, 3914, 2863, 1809, 383, 1793, 829, 1585, 2132, 3261, 505, 609, 2467, 1809, 1427, 453, 3640, 3454, 1283, 3785, 2732, 802, 2229, 1951, 638, 355, 873, 2640, 2527, 3154, 1108, 3785, 2467, 550, 1185, 1994, 1809, 3660, 3580, 3261, 1770, 1920, 3018, 2760, 650, 2863, 1308, 4190, 3880, 368, 4090, 4034, 1020, 829, 3729, 2874, 3785, 605, 829, 3261, 63, 2453, 3296, 4116, 803, 1283, 3785, 394, 2732, 394, 3261, 572, 3822, 829, 3261, 3737, 2326, 803, 4123, 2863, 3261, 3737, 3288, 2239, 4037, 3852, 1636, 3261, 3121, 3581, 2457, 444, 1468, 3261, 1562, 3151, 2467, 2440, 2863, 2715, 3261, 638, 3151, 3660, 1163, 3543, 553, 3261, 63, 3785, 3660, 3069, 3812, 2760, 3261, 1317, 2863, 3261, 3737, 2927, 3457, 3373, 2863, 271, 3326, 1308, 3785, 3733, 3261, 403, 4090, 3261, 1920, 3288, 3543, 829, 3261, 2382, 370, 3713, 3261, 807, 913, 4129, 383, 129, 368, 3726, 1067, 1099, 1582, 829, 2557, 383, 3364, 383, 2314, 2594, 953, 3822, 3261, 63, 3374, 1751, 3581, 803, 3191, 2250, 2941, 3856, 2863, 130, 234, 2239, 1762, 4190, 2467, 3560, 1067, 829, 1747, 803, 2732, 2243, 1933, 1902, 2936, 2863, 1973, 829, 718, 1809, 558, 3785, 2467, 3743, 3261, 3629, 1809, 3660, 3580, 803, 2760, 506, 819, 130, 1607, 2732, 3261, 1473, 819, 2952, 1933, 63, 1751, 3822, 829, 718, 1551, 2732, 1933, 3560, 3244, 3011, 1938, 1099, 1587, 873, 2299, 3629, 2732, 138, 1473, 424, 3154, 2365, 4057, 3560, 131, 869, 2705, 71, 3629, 1809, 2325, 2220, 3175, 1751, 3288, 3796, 3560, 138, 3016, 424, 1887, 3480, 2478, 1933, 431, 3985, 4090, 235, 2863, 4214, 1809, 2325, 2991, 2179, 666, 1809, 2325, 2991, 3468, 1887, 2863, 2243, 1656, 1809, 2352, 1371, 3078, 1099, 3743, 615, 2220, 101, 1809, 3110, 130, 4045, 2952, 2760, 339, 1283, 3785, 383, 3558, 1751, 3660, 2502, 3803, 3261, 63, 2715, 550, 638, 2863, 2467, 1933, 379, 1971, 819, 1751, 317, 803, 1717, 4084, 829, 803, 4173, 4049, 325, 1283, 453, 138, 2314, 2863, 1809, 2325, 383, 1679, 829, 1585, 1099, 129, 1203, 383, 2756, 2054, 674, 3261, 196, 4090, 1809, 3206, 2874, 1099, 3117, 3040, 3785, 2732, 1933, 2611, 558, 3785, 1468, 3971, 4190, 2583, 829, 1994, 3141, 3141, 16, 3822, 3261, 63, 2653, 4108, 1933, 196, 1427, 3743, 383, 1663, 1747, 3785, 2863, 1751, 548, 718, 3373, 1683, 829, 3856, 1347, 3374, 1751, 635, 4190, 1107, 1551, 138, 4037, 2650, 2760, 4084, 829, 803, 2094, 3912, 3261, 63, 2467, 3560, 1765, 2863, 1845, 3912, 1751, 2467, 1230, 3261, 29, 375, 829, 403, 803, 4011, 464, 3856, 3829, 2863, 3785, 2467, 3852, 969, 2756, 4011, 3371, 1751, 1107, 1551, 4037, 829, 2952, 1370, 2760, 1751, 3715, 3785, 3374, 131, 3374, 1751, 3880, 3261, 3924, 3128, 3796, 2925, 3296, 2054, 1751, 3822, 2715, 1372, 4090, 2650, 3373, 3261, 3221, 1933, 379, 209, 2760, 3822, 3261, 63, 2863, 3261, 196, 4090, 1809, 1915, 209, 4135, 209, 4135, 1809, 2325, 3261, 2564, 1574, 1108, 3395, 3822, 4190, 248, 1809, 2705, 3454, 2715, 2640, 3237, 4217, 3399, 751, 852, 131, 3785, 3352, 138, 3261, 2232, 953, 3822, 3261, 63, 2058, 803, 2756, 379, 4011, 2941, 3856, 3829, 3374, 1751, 2732, 2863, 3261, 196, 4090, 1809, 2767, 2019, 4090, 3261, 2357, 2863, 3261, 105, 3573, 1502, 2019, 4090, 4151, 3726, 2449, 1751, 3206, 4090, 2106, 1033, 2732, 1656, 4190, 1973, 829, 718, 1099, 1265, 3729, 4049, 2900, 3801, 1099, 1467, 1364, 138, 3191, 1108, 195, 875, 3261, 63, 3822, 1500, 1933, 3074, 3261, 1739, 3206, 1809, 2952, 2162, 1283, 3261, 2936, 4090, 195, 101, 3117, 1099, 2004, 3261, 3918, 3151, 811, 2687, 4190, 2209, 2459, 1551, 4018, 424, 3154, 1308, 829, 873, 3261, 3918, 757, 3560, 1023, 3822, 3261, 63, 3981, 2863, 2956, 3278, 2687, 2863, 3261, 196, 4090, 1809, 2170, 4090, 1933, 2209, 3838, 1762, 3743, 2956, 87, 1933, 1889, 4190, 3929, 29, 3374, 2899, 3822, 3261, 63, 674, 1933, 4043, 1372, 383, 873, 4090, 3327, 1656, 2705, 1933, 2528, 1099, 368, 3822, 4190, 4090, 67, 3785, 3206, 3822, 3261, 63, 1872, 3085, 255, 829, 1410, 829, 3143, 1809, 4190, 3822, 2049, 1933, 138, 1221, 3791, 4123, 2863, 3261, 196, 4090, 1809, 2649, 1863, 3043, 3206, 4090, 3958, 3261, 802, 3043, 3206, 4090, 1765, 1620, 1099, 3558, 3146, 4190, 1872, 3660, 1551, 1426, 829, 550, 1185, 1994, 2705, 1933, 1796, 3785, 3221, 3018, 4037, 3971, 2874, 3785, 3206, 1099, 2502, 1410, 553, 383, 3822, 3261, 63, 2863, 3261, 196, 4090, 1809, 3323, 674, 383, 1117, 1281, 829, 524, 1427, 2453, 4037, 3785, 1364, 1863, 3181, 324, 2316, 1551, 829, 2952, 3736, 2229, 674, 3785, 811, 3537, 829, 3887, 1809, 674, 383, 2776, 102, 811, 873, 2229, 2467, 1551, 3736, 2229, 674, 383, 3660, 2229, 1117, 873, 1256, 829, 2991, 829, 2952, 3736, 1099, 368, 1099, 3902, 2859, 1809, 3296, 4190, 3822, 3560, 2207, 1427, 1099, 3660, 3785, 370, 271, 2874, 1099, 129, 2502, 1008, 3785, 3374, 383, 3729, 3785, 3788, 4034, 829, 674, 1099, 3880, 3729, 1427, 1099, 2631, 3261, 63, 2459, 2732, 1933, 3016, 3011, 1055, 1467, 840, 2316, 829, 3729, 3785, 2299, 1785, 2229, 1809, 3822, 4190, 1620, 1467, 1585, 1283, 840, 3822, 3261, 63, 1099, 2352, 383, 1933, 1361, 4090, 3143, 3202, 3822, 3374, 3894, 1933, 3709, 2519, 4090, 1361, 1973, 4190, 2952, 1067, 130, 1467, 306, 1304, 3046, 4037, 1809, 2874, 1751, 1107, 1551, 3270, 829, 3729, 3785, 2478, 3216, 325, 3364, 3261, 63, 696, 553, 290, 2842, 4090, 803, 2756, 379, 4011, 3202, 1933, 29, 829, 368, 3822, 4190, 282, 1308, 1751, 2467, 2321, 829, 1467, 1933, 379, 2543, 2756, 1283, 3374, 138, 29, 3822, 3261, 63, 3374, 3167, 873, 829, 4174, 2863, 3261, 3316, 2874, 4123, 829, 3856, 4224, 25, 3261, 3881, 1717, 2566, 1468, 269, 2732, 3261, 3358, 4090, 803, 231, 856, 196, 2863, 3261, 3191, 1809, 2467, 1405, 2941, 3676, 2457, 829, 3372, 4190, 2902, 3373, 2863, 3043, 766, 3261, 572, 2732, 91, 4090, 2991, 553, 803, 7, 2741, 2500, 4037, 1933, 3287, 1933, 2944, 2210, 195, 2133, 3261, 63, 2457, 2732, 1933, 3644, 197, 1717, 2054, 1099, 306, 383, 2482, 3612, 1611, 3261, 572, 979, 3796, 3261, 1124, 3374, 1751, 635, 2494, 383, 102, 195, 3581, 690, 2952, 2239, 2863, 1809, 2732, 1283, 2746, 1951, 638, 1502, 195, 3547, 3261, 63, 1607, 803, 3547, 2863, 2467, 2440, 2732, 1933, 1562, 3030, 1574, 3796, 553, 3261, 2382, 3261, 572, 3822, 829, 4190, 2863, 4190, 2467, 1656, 138, 3223, 829, 3729, 1933, 856, 2874, 589, 2767, 803, 3543, 829, 3261, 2081, 3261, 196, 624, 3660, 118, 25, 4090, 3261, 505, 929, 2863, 2776, 822, 2732, 3261, 1033, 3371, 3261, 1562, 130, 3272, 803, 130, 2729, 3543, 829, 3261, 2382, 3261, 572, 3124, 99, 1809, 1933, 1491, 366, 1117, 891, 2991, 4217, 2150, 3154, 3261, 638, 130, 2776, 1555, 3261, 572, 3899, 1263, 2239, 3392, 553, 3261, 196, 4040, 2863, 1747, 2239, 553, 3118, 3581, 102, 2239, 553, 803, 3581, 3259, 1042, 1751, 2380, 2776, 118, 2941, 3438, 2715, 3261, 3565, 1872, 4090, 67, 3660, 829, 4047, 2239, 3161, 4151, 829, 2261, 550, 2760, 1809, 2715, 3261, 130, 4090, 2746, 3852, 3192, 102, 2760, 3043, 2776, 1951, 4151, 1263, 2863, 3154, 3261, 4040, 976, 3261, 1317, 3261, 572, 2863, 4190, 2776, 2732, 3438, 2863, 3146, 2408, 4090, 647, 3110, 3261, 572, 1263, 2239, 2502, 2478, 4090, 3160, 2863, 3822, 829, 4190, 873, 383, 3123, 3261, 807, 2848, 3894, 1951, 3822, 4190, 1099, 1467, 269, 3558, 674, 1933, 807, 2848, 3206, 2705, 3261, 953, 807, 2848, 2365, 3206, 3580, 1763, 3822, 3261, 572, 1099, 3899, 3272, 3971, 102, 317, 4090, 3971, 3822, 4190, 1163, 3796, 3110, 3822, 3261, 572, 2863, 3151, 3117, 1203, 383, 3118, 1471, 3374, 130, 234, 2239, 1762, 4190, 317, 3261, 1317, 3729, 2732, 1933, 3644, 1717, 829, 3261, 3936, 3973, 383, 699, 3154, 2255, 1163, 3788, 1933, 3603, 953, 1751, 3822, 829, 718, 1308, 1751, 3660, 2688, 2502, 838, 424, 3261, 3330, 4090, 3987, 3261, 572, 3660, 3100, 130, 3560, 3964, 4167, 464, 1933, 128, 1913, 3238, 2673, 2732, 3261, 3336, 1427, 383, 1467, 3558, 674, 1933, 128, 3206, 3018, 424, 3261, 4056, 3373, 3750, 953, 3822, 3261, 572, 2863, 1502, 550, 765, 1492, 829, 2557, 3261, 807, 2848, 2863, 829, 3759, 3118, 1471, 1099, 690, 1574, 3543, 2863, 2557, 1500, 3212, 3987, 1099, 873, 3100, 2863, 1751, 234, 2239, 770, 4190, 3424, 553, 3261, 128, 4190, 1107, 1551, 2502, 4037, 3261, 3018, 4090, 3261, 743, 2874, 3796, 3261, 1770, 1751, 1973, 3785, 1117, 2952, 2502, 3374, 1462, 829, 1050, 553, 3785, 3374, 829, 1574, 1500, 1809, 506, 572, 2760, 1751, 3460, 3261, 128, 3405, 3373, 2863, 1486, 2705, 2528, 3110, 3785, 114, 3261, 572, 2591, 1751, 2467, 2478, 4090, 4194, 3110, 3785, 1987, 674, 1554, 3822, 3261, 128, 2746, 829, 3281, 2746, 829, 4190, 674, 3206, 3261, 1554, 3822, 4190, 3801, 1751, 3822, 3261, 128, 2705, 3154, 803, 1883, 1809, 130, 3899, 2849, 796, 383, 3558, 1163, 3796, 2640, 1272, 1163, 3796, 4123, 1973, 4190, 3374, 1751, 3288, 589, 1500, 3785, 1099, 3899, 2467, 2760, 3100, 1283, 2732, 3154, 138, 1443, 3899, 130, 3660, 1551, 2440, 3237, 3723, 130, 3272, 3261, 807, 2848, 2732, 3261, 2289, 3363, 3764, 2863, 4016, 3796, 1933, 379, 2448, 4090, 3637, 2863, 3374, 130, 4167, 793, 4190, 3880, 3759, 41, 784, 3374, 1427, 3118, 220, 1117, 1357, 1751, 3816, 41, 3195, 674, 3206, 3118, 1711, 1751, 696, 3261, 128, 2863, 3261, 128, 2164, 3560, 2294, 2732, 3261, 2232, 601, 3374, 3723, 2705, 3154, 3118, 1883, 1809, 3151, 1468, 4108, 1951, 1711, 383, 3558, 1163, 3796, 2760, 130, 3288, 3373, 829, 3261, 807, 2848, 1872, 2902, 424, 2991, 553, 138, 2528, 2802, 4090, 1074, 2874, 3822, 4034, 550, 4123, 765, 1492, 3822, 3261, 128, 1751, 2191, 1308, 829, 3558, 195, 1471, 1751, 2261, 2690, 1203, 3785, 803, 3822, 3261, 807, 2848, 2732, 1933, 3186, 548, 3011, 3833, 271, 3278, 4090, 383, 2863, 1467, 3267, 1933, 856, 2591, 3202, 2632, 2760, 130, 3405, 271, 2863, 796, 635, 1308, 3212, 2300, 4190, 1973, 829, 718, 1099, 1467, 2557, 3726, 3151, 1663, 269, 2451, 1427, 3151, 3221, 3557, 2874, 1751, 3460, 1800, 3432, 3822, 3261, 807, 2848, 424, 1185, 553, 1933, 3186, 1080, 1099, 2467, 1933, 3815, 2848, 760, 601, 2776, 2767, 2715, 1933, 3560, 3805, 3429, 3313, 3743, 2715, 3852, 2650, 677, 4090, 1291, 1763, 3261, 128, 2863, 3261, 2176, 1640, 2603, 4090, 3261, 807, 2848, 4190, 2467, 3560, 2294, 2069, 3373, 2863, 3278, 2072, 383, 4110, 1308, 195, 472, 4129, 2874, 1751, 3880, 1551, 2108, 325, 3043, 690, 2952, 1863, 829, 1163, 2760, 1751, 3405, 252, 2863, 3822, 4034, 819, 3846, 2776, 379, 3261, 807, 2848, 3288, 3796, 424, 1185, 1863, 206, 1938, 252, 2603, 1933, 379, 2054, 2863, 3110, 3846, 3288, 829, 1710, 2732, 3261, 1476, 3261, 710, 2467, 3852, 2594, 1602, 3786, 829, 1845, 41, 2763, 3801, 1107, 383, 1845, 41, 2763, 1427, 3151, 3640, 3971, 4190, 696, 3846, 3010, 41, 2763, 3912, 3151, 770, 1374, 3822, 3261, 807, 2848, 3524, 1979, 383, 699, 3560, 1305, 383, 3224, 829, 2952, 87, 4090, 2316, 1308, 3285, 2243, 1933, 3119, 2706, 2732, 3261, 128, 2863, 3110, 130, 3278, 3405, 1535, 2863, 2902, 424, 218, 4190, 1872, 2688, 255, 829, 3851, 2941, 3261, 3175, 424, 1185, 3261, 128, 3822, 829, 3261, 807, 2848, 3850, 3796, 2594, 1030, 1467, 2952, 3154, 2210, 1283, 3785, 2863, 3151, 3288, 3796, 2732, 760, 601, 3360, 3846, 3288, 829, 1710, 2732, 3261, 1476, 1938, 383, 1907, 1536, 3785, 1099, 3899, 3822, 1099, 2956, 2409, 4190, 383, 1107, 3822, 3261, 807, 2848, 2190, 195, 947, 2732, 3261, 128, 3723, 4190, 3880, 3267, 3364, 3261, 807, 2848, 3288, 3796, 3846, 3660, 3261, 2728, 4090, 3659, 2110, 3846, 3288, 829, 1710, 1478, 2210, 3202, 2229, 829, 1933, 1236, 1656, 3822, 4190, 383, 4072, 2952, 2760, 173, 3374, 3154, 1809, 553, 4084, 696, 3261, 807, 2848, 1933, 379, 1902, 3360, 3822, 4190, 3846, 1080, 2965, 2863, 4031, 2863, 92, 3822, 3261, 807, 2848, 3927, 1551, 3822, 4190, 2911, 852, 3110, 1765, 3640, 1933, 1979, 3603, 1710, 3822, 3261, 807, 2848, 2732, 1933, 3011, 4090, 4224, 2574, 2054, 424, 633, 130, 3660, 424, 3261, 130, 4090, 3261, 166, 2965, 4031, 2863, 1129, 383, 1747, 873, 3052, 3785, 138, 3822, 4190, 1202, 424, 3261, 3416, 4090, 3261, 1476, 1099, 1747, 1724, 829, 375, 3785, 3822, 3261, 807, 2848, 553, 1933, 1080, 1099, 3743, 1607, 3261, 3502, 67, 674, 2467, 1809, 2531, 4190, 3827, 2863, 3031, 4090, 67, 829, 3557, 553, 3261, 807, 2848, 2459, 2863, 3110, 3261, 833, 2720, 4090, 2487, 2779, 967, 2863, 619, 1099, 3899, 317, 4090, 967, 4190, 2583, 829, 3729, 674, 3206, 3785, 3261, 128, 4062, 3373, 3278, 2705, 2597, 2732, 25, 674, 3899, 317, 4090, 1234, 3785, 3146, 383, 3558, 674, 829, 756, 3206, 1099, 3686, 3360, 3822, 4190, 1351, 3785, 1928, 131, 3110, 3261, 128, 3288, 3796, 1427, 383, 1467, 3558, 674, 829, 1892, 3206, 383, 699, 1933, 1363, 4190, 1107, 1551, 1467, 3665, 829, 4116, 2299, 1863, 1900, 1283, 3785, 2760, 1751, 2519, 829, 3261, 807, 2848, 2863, 3822, 674, 1020, 3660, 383, 829, 375, 131, 3043, 2467, 410, 3261, 807, 2848, 2459, 3235, 2239, 3261, 3304, 3796, 3118, 2127, 410, 2483, 2863, 4195, 553, 1813, 3110, 2342, 1072, 2467, 3852, 2594, 2247, 1809, 3786, 829, 1163, 3432, 1933, 740, 3151, 770, 1374, 645, 928, 2863, 862, 2732, 3931, 674, 2467, 1809, 4037, 3822, 4190, 131, 1099, 129, 950, 3785, 383, 2753, 3261, 807, 2848, 3822, 2952, 1656, 2009, 2863, 3261, 128, 3899, 67, 3785, 2974, 638, 3822, 3261, 128, 1099, 3288, 829, 3261, 1234, 710, 1938, 3151, 2467, 3852, 2594, 3148, 3151, 2467, 1099, 3899, 3288, 829, 41, 3261, 807, 2848, 3822, 553, 1933, 1080, 3151, 770, 2952, 2863, 2888, 130, 3786, 829, 3729, 2760, 3151, 1107, 2760, 3151, 1107, 3822, 3261, 128, 784, 2732, 3118, 3496, 2863, 3278, 571, 3683, 4217, 2607, 2732, 4217, 2597, 2863, 3726, 2132, 956, 1933, 2210, 1107, 383, 2261, 406, 3822, 4190, 2732, 1933, 197, 829, 1993, 3261, 1639, 590, 956, 3261, 2094, 2210, 3822, 3261, 807, 2848, 3355, 3261, 1779, 2863, 2760, 3796, 674, 1933, 2667, 215, 3146, 4190, 3788, 3261, 1739, 1073, 3010, 406, 3261, 128, 3929, 3912, 130, 1045, 1763, 2210, 829, 2210, 550, 2467, 2502, 1933, 431, 1731, 829, 4190, 2863, 1751, 1973, 3785, 97, 1933, 379, 3723, 1751, 3580, 803, 1779, 1994, 3110, 3261, 3053, 2210, 690, 873, 2229, 1933, 100, 4090, 67, 3785, 2467, 3822, 3261, 807, 2848, 2863, 3726, 1107, 383, 3876, 3796, 3261, 2848, 4190, 3288, 3796, 3016, 3788, 2369, 1283, 406, 3261, 128, 2409, 2732, 1933, 3560, 619, 3011, 1203, 803, 453, 1283, 3261, 3924, 2054, 370, 2991, 3261, 2106, 1326, 3261, 807, 2848, 750, 3195, 2863, 1365, 3261, 3543, 4090, 3971, 3489, 3336, 3118, 2528, 3151, 2902, 424, 4190, 2863, 757, 829, 3267, 2874, 1308, 1933, 240, 102, 1350, 4097, 3120, 3118, 1717, 2232, 3374, 1427, 3151, 3660, 1933, 4018, 2732, 3118, 3915, 3822, 3261, 128, 2863, 3785, 751, 829, 4161, 3147, 41, 2863, 1475, 41, 2732, 3261, 3543, 424, 1185, 3261, 807, 2848, 2842, 3118, 1717, 2863, 553, 1074, 1766, 271, 3118, 1033, 3151, 3288, 3796, 3364, 383, 1863, 1551, 873, 2082, 138, 3146, 3261, 1476, 1099, 2326, 3822, 178, 558, 383, 2776, 3899, 269, 500, 829, 1933, 2106, 4190, 2457, 829, 3729, 1099, 3432, 2925, 2874, 3117, 718, 4223, 2863, 3822, 1951, 3899, 2760, 383, 1663, 873, 1951, 1731, 674, 1933, 3714, 953, 1933, 2106, 1326, 3206, 1951, 1107, 3822, 4190, 674, 2519, 4090, 1933, 1696, 3206, 3785, 3801, 3822, 3261, 128, 383, 2094, 1317, 2941, 1933, 2781, 2077, 3261, 3239, 1350, 3768, 2801, 3261, 807, 2848, 4129, 913, 3022, 2863, 2760, 3796, 3110, 819, 2622, 1955, 3154, 3261, 3026, 2478, 4090, 3261, 1372, 1809, 3973, 988, 3212, 638, 2409, 3261, 128, 383, 511, 1322, 3013, 553, 1933, 2106, 3374, 1933, 2137, 2801, 3261, 128, 4090, 67, 3261, 807, 2848, 3822, 511, 1322, 751, 829, 2170, 1993, 2436, 2863, 963, 2732, 2232, 2112, 3143, 3261, 128, 3110, 383, 3558, 3261, 807, 2848, 3288, 3796, 383, 2278, 3261, 3261, 2436, 1611, 3261, 128, 553, 1933, 2965, 2941, 3261, 1521, 3374, 3237, 2478, 829, 1476, 3374, 383, 1663, 1152, 1500, 2991, 7, 3261, 128, 3496, 1933, 316, 2732, 3261, 1476, 2801, 3261, 807, 2848, 2760, 3457, 1283, 1993, 2436, 3364, 3211, 3261, 128, 424, 3261, 871, 4090, 2705, 1717, 3543, 829, 3916, 3364, 2863, 3788, 3154, 3261, 2094, 1234, 3822, 3261, 807, 2848, 2354, 120, 3118, 1717, 2863, 3261, 1350, 571, 1872, 3660, 2229, 3477, 1283, 4037, 751, 1656, 3154, 550, 638, 3405, 271, 3364, 3560, 3143, 2863, 2297, 2863, 2902, 424, 4190, 3785, 690, 2952, 1933, 3560, 3811, 1696, 3822, 4190, 273, 1117, 383, 4037, 829, 2557, 1933, 379, 4090, 3785, 3822, 3261, 807, 2848, 3560, 138, 1107, 3822, 4190, 1163, 3030, 2004, 3261, 2094, 1234, 3822, 3261, 807, 2848, 829, 3261, 128, 3846, 1663, 2261, 1506, 2436, 383, 3558, 4008, 3117, 3937, 1620, 383, 3937, 3822, 3261, 128, 3202, 3803, 3261, 601, 2760, 130, 2457, 375, 3703, 1108, 2863, 1108, 4190, 1478, 2054, 2863, 3110, 1470, 3796, 803, 3830, 819, 130, 3391, 1656, 4084, 2863, 1747, 4217, 1623, 829, 1827, 3261, 638, 3733, 3261, 807, 2848, 4012, 550, 3560, 589, 2863, 3143, 3573, 383, 1508, 1933, 379, 10, 3822, 1933, 2685, 829, 1933, 3236, 2049, 1933, 3369, 4084, 3678, 1374, 2863, 3775, 1470, 3796, 138, 2044, 2557, 3726, 3016, 3261, 2436, 2863, 3261, 913, 3154, 511, 130, 699, 3359, 3796, 3261, 3425, 383, 1163, 2863, 1920, 3261, 1696, 3573, 383, 1587, 383, 3573, 383, 1587, 383, 3573, 383, 1920, 3261, 1696, 3573, 383, 1587, 383, 3573, 383, 1587, 383, 1587, 383, 1920, 3261, 1696, 383, 1663, 1979, 873, 1951, 1146, 3726, 3714, 3785, 3573, 2952, 819, 130, 1502, 1374, 3373, 2863, 2278, 1374, 553, 3261, 2436, 2478, 829, 1476, 2874, 3261, 3236, 2459, 1656, 3237, 1656, 3237, 2863, 299, 1933, 3018, 829, 3822, 3151, 320, 3261, 2685, 1615, 2874, 3151, 1117, 1551, 1920, 3261, 1696, 1117, 1551, 3880, 1551, 1117, 1551, 3880, 1551, 1117, 1551, 1920, 3261, 1696, 1117, 1551, 3880, 1551, 1117, 1551, 3880, 1551, 3880, 1551, 1920, 3261, 1696, 674, 1892, 3785, 3726, 3237, 3846, 1574, 3118, 1834, 2035, 2459, 3043, 3206, 290, 2815, 383, 3558, 464, 3261, 196, 1347, 3261, 2221, 2239, 1763, 1911, 3261, 793, 3206, 829, 487, 3110, 3496, 1551, 643, 2615, 3236, 2874, 1163, 2863, 1920, 3261, 1696, 3573, 383, 1587, 383, 3573, 383, 1587, 383, 3573, 383, 1920, 3261, 1696, 3573, 383, 1587, 383, 3573, 383, 1587, 383, 1587, 383, 1920, 3261, 1696, 2072, 383, 2705, 1933, 3560, 472, 1696, 829, 3428, 3822, 4190, 4018, 3560, 1067, 1809, 3785, 2467, 97, 424, 1185, 2863, 1099, 2261, 2760, 4037, 1809, 2667, 392, 1283, 3261, 2685, 1620, 3374, 829, 3261, 2685, 3822, 3261, 807, 2848, 2741, 3123, 2991, 4090, 67, 3360, 3822, 4190, 3202, 1302, 3123, 2991, 424, 57, 1751, 3117, 718, 4223, 1099, 1467, 3558, 978, 57, 1863, 2952, 3822, 3261, 807, 2848, 2874, 1427, 2622, 3123, 2991, 2760, 1302, 4090, 67, 383, 3558, 674, 1073, 4037, 1099, 1536, 2760, 4190, 2459, 1448, 130, 873, 4217, 2289, 2732, 4217, 2016, 1073, 3154, 97, 3565, 4049, 3033, 1283, 3261, 3565, 3822, 3261, 807, 2848, 3565, 1117, 3154, 2422, 2239, 2732, 3261, 1476, 2874, 130, 873, 4217, 2289, 2732, 4217, 3319, 2863, 3261, 1739, 3206, 4123, 3261, 807, 2848, 3156, 2863, 876, 3118, 427, 803, 1283, 3261, 1739, 2863, 3154, 1809, 3151, 3822, 829, 3261, 128, 3261, 1739, 3206, 3822, 3261, 128, 1809, 130, 1117, 1574, 553, 3261, 2436, 829, 3261, 1696, 2760, 130, 4108, 1987, 2478, 829, 1476, 2760, 130, 3660, 829, 1917, 1933, 3805, 1372, 2760, 130, 4108, 4217, 2289, 3238, 2732, 4217, 3319, 2760, 130, 1747, 3839, 2991, 2478, 3364, 3788, 3154, 2072, 383, 3822, 4190, 2705, 3560, 472, 1099, 3899, 101, 2760, 138, 1283, 1933, 2685, 3723, 1099, 1663, 1203, 383, 1863, 2229, 1809, 1427, 383, 4037, 3822, 3261, 128, 2261, 383, 3558, 3801, 2705, 3010, 1933, 2685, 1099, 3899, 1973, 1283, 3785, 3822, 4190, 3801, 3785, 4057, 3261, 3432, 2863, 3047, 3261, 128, 2459, 3560, 375, 4190, 2467, 1588, 3246, 4057, 3261, 3432, 2863, 3047, 1751, 3932, 2732, 1933, 2900, 3011, 3801, 674, 699, 195, 3047, 3454, 553, 3822, 3261, 128, 1099, 3356, 674, 2325, 2991, 2760, 307, 4190, 2902, 271, 424, 2991, 2863, 4039, 1933, 379, 3723, 1751, 299, 803, 713, 1073, 3454, 553, 2414, 1099, 1536, 3432, 2863, 3047, 3146, 3261, 1476, 3261, 128, 3288, 3796, 2732, 1933, 3186, 1717, 699, 3454, 553, 1933, 2685, 2054, 383, 3558, 2863, 674, 699, 130, 3580, 4090, 4190, 696, 2732, 1933, 3011, 4090, 4224, 1811, 3471, 2863, 1203, 4090, 67, 3261, 128, 2459, 2925, 3772, 2299, 1028, 3880, 873, 353, 383, 1809, 1427, 1490, 2229, 3261, 2685, 3822, 4190, 1484, 805, 2776, 252, 1766, 3796, 3261, 392, 1490, 873, 3822, 829, 3261, 3369, 4051, 3543, 529, 3846, 1467, 2980, 383, 553, 1374, 130, 2776, 487, 829, 873, 41, 553, 2991, 3261, 807, 2848, 3822, 1951, 3330, 2825, 1117, 1574, 2979, 1506, 1933, 3369, 4045, 3785, 1979, 3822, 4190, 2732, 1933, 3011, 4090, 4224, 25, 4090, 67, 1551, 3822, 3261, 807, 2848, 3801, 1427, 1933, 2825, 4167, 829, 1702, 2863, 353, 1702, 3151, 2467, 3128, 1933, 238, 1099, 3902, 3729, 553, 674, 3369, 1467, 383, 3356, 2207, 3822, 4190, 1099, 3356, 674, 1099, 3729, 3261, 807, 2848, 2459, 2732, 3852, 31, 3011, 2863, 3261, 128, 2732, 1163, 3030, 3759, 3212, 4090, 195, 3877, 1099, 3880, 1203, 383, 138, 4047, 1763, 550, 519, 3822, 4190, 1933, 379, 273, 2874, 2705, 1951, 1530, 3128, 3543, 829, 3912, 3912, 1099, 2467, 1933, 833, 2630, 3110, 3592, 3154, 1809, 3822, 3261, 807, 2848, 1951, 1951, 3261, 3877, 2094, 3822, 3261, 128, 2732, 3852, 698, 3011, 850, 1502, 2243, 1933, 4150, 638, 2760, 4190, 2457, 1470, 2991, 803, 3877, 1763, 3261, 638, 819, 1751, 2094, 3272, 3261, 2001, 818, 1751, 2467, 1933, 379, 1139, 1283, 3785, 2756, 424, 2094, 3261, 1350, 571, 4108, 2760, 4084, 829, 803, 3971, 3796, 3013, 1347, 2863, 3304, 4217, 2528, 2863, 3319, 2760, 3560, 3940, 2874, 1751, 1723, 2665, 3374, 1751, 3288, 3796, 803, 1889, 2776, 1040, 2758, 2591, 1751, 4108, 829, 3261, 1861, 1283, 803, 1099, 383, 699, 2594, 3334, 2855, 829, 3261, 2285, 2863, 3261, 601, 3154, 3796, 833, 2863, 3110, 3261, 807, 2848, 1365, 1933, 3805, 3160, 2863, 3822, 3788, 3560, 2667, 2705, 3154, 1283, 3374, 2667, 3374, 3785, 1663, 2952, 3822, 3261, 128, 3785, 3154, 4167, 833, 3261, 807, 2848, 3932, 1448, 1099, 3902, 4037, 829, 3759, 803, 2004, 2863, 3248, 453, 2054, 1203, 803, 829, 3557, 3151, 2902, 424, 3261, 128, 3374, 1427, 3151, 1973, 3785, 3660, 3212, 3985, 4090, 2849, 97, 4190, 1615, 3373, 2863, 3248, 209, 3261, 1717, 4090, 3261, 1430, 3822, 3261, 128, 3726, 3261, 571, 2112, 3971, 1283, 2863, 2352, 3971, 3248, 406, 1973, 4190, 1099, 811, 3374, 131, 2952, 424, 1710, 424, 3432, 3371, 1751, 4108, 3373, 2863, 2457, 829, 3248, 3785, 2874, 803, 3581, 2467, 2760, 2802, 4090, 3261, 2106, 1326, 1809, 1751, 2425, 101, 674, 1751, 2467, 3278, 2863, 3261, 601, 4167, 3560, 2055, 1107, 209, 3261, 1717, 4090, 3261, 2106, 1099, 317, 41, 3097, 383, 873, 2436, 1702, 1656, 2688, 1099, 690, 2655, 138, 706, 3374, 1933, 828, 553, 2705, 98, 2760, 3151, 553, 3118, 408, 1887, 3118, 3061, 2863, 3118, 3493, 2863, 3295, 2478, 3118, 3830, 649, 595, 3143, 3374, 4060, 819, 3261, 2291, 699, 3154, 2268, 3151, 3206, 4068, 3374, 1933, 4009, 2863, 3573, 1585, 2732, 3182, 1806, 4090, 3261, 2603, 2874, 819, 3261, 2331, 1172, 2863, 3731, 699, 2489, 3118, 1717, 769, 1933, 2366, 2863, 2705, 2290, 3788, 833, 1763, 674, 1099, 3786, 829, 3729, 819, 1099, 2467, 1933, 16, 3822, 3261, 128, 131, 1099, 3899, 317, 3785, 3723, 3822, 3261, 807, 2848, 2874, 3785, 105, 4209, 2132, 4190, 3822, 4034, 1751, 3660, 3405, 271, 553, 803, 374, 2732, 803, 4143, 2900, 1427, 2541, 1117, 3056, 567, 2732, 1933, 3838, 1372, 3364, 1099, 3902, 4037, 829, 873, 3785, 2038, 3822, 3261, 807, 2848, 1751, 129, 3592, 3785, 3822, 3261, 128, 4223, 1574, 3796, 553, 3261, 1779, 4033, 2874, 1283, 3118, 3830, 3261, 807, 2848, 263, 3726, 3880, 3151, 3496, 2991, 2478, 553, 3118, 408, 383, 3558, 2705, 3261, 2094, 3380, 2732, 3703, 4190, 3822, 2874, 2467, 3171, 3246, 2715, 3261, 1770, 953, 2863, 1872, 829, 1993, 3261, 1639, 1574, 3796, 553, 3261, 1779, 4033, 3261, 128, 3932, 3772, 3785, 4161, 1099, 3391, 2715, 3118, 218, 4190, 1107, 1551, 1265, 829, 1919, 1938, 1751, 2688, 2173, 3785, 1117, 3154, 1163, 3033, 2863, 1751, 3288, 3796, 2732, 1933, 1053, 1717, 1099, 3391, 2715, 3118, 218, 2863, 3151, 553, 3971, 3959, 3726, 3261, 3529, 2863, 3261, 2043, 2776, 973, 1933, 483, 649, 595, 3143, 3374, 4060, 3261, 2043, 1607, 1325, 2863, 3852, 2863, 1278, 3733, 3261, 3529, 3660, 3261, 797, 3374, 2705, 1926, 4090, 3261, 909, 819, 3261, 483, 2467, 3154, 2632, 3261, 3529, 3374, 1933, 2755, 2467, 1615, 1449, 829, 3854, 3261, 231, 3733, 3261, 2043, 829, 2437, 2863, 2052, 553, 1933, 2016, 2863, 821, 3261, 169, 674, 3206, 3261, 1530, 4090, 1099, 3154, 1809, 1162, 3261, 807, 2848, 2409, 1427, 383, 1467, 3592, 3785, 3374, 383, 1574, 3796, 2705, 2715, 3237, 3261, 1753, 2570, 953, 1099, 3056, 317, 3360, 1099, 368, 2453, 3296, 4047, 2239, 3822, 3261, 128, 2863, 4190, 2467, 3743, 1656, 1067, 829, 2261, 2760, 3117, 3846, 2004, 290, 1234, 4090, 3261, 2106, 1326, 3261, 128, 3288, 3796, 102, 1117, 383, 4037, 3261, 807, 2848, 829, 3937, 383, 1933, 392, 1620, 1933, 392, 529, 1427, 3261, 807, 2848, 1117, 2952, 2760, 3985, 4190, 2459, 2760, 3016, 1809, 3261, 128, 3822, 2732, 1933, 2925, 31, 3011, 1717, 1951, 3778, 1308, 903, 3937, 803, 2848, 2365, 3573, 383, 2594, 1030, 3261, 807, 2848, 750, 3195, 2863, 2457, 2732, 1933, 1717, 1282, 3120, 553, 4097, 829, 3937, 550, 1820, 2365, 2760, 3363, 2863, 15, 3359, 2732, 1933, 3173, 2241, 1872, 1308, 2243, 941, 1117, 1551, 3487, 2365, 4090, 3261, 3463, 1820, 2365, 2365, 4090, 3261, 3463, 1820, 2365, 3377, 4152, 3377, 4152, 4152, 4090, 3261, 1219, 1820, 1820, 2365, 1820, 2365, 1872, 83, 1308, 2825, 2382, 102, 2299, 196, 797, 1872, 1117, 1551, 306, 3154, 1020, 1308, 1350, 2045, 3743, 4090, 1820, 2365, 2045, 3743, 4090, 1820, 2365, 3377, 4152, 3377, 4152, 4152, 4090, 3261, 1219, 1820, 1820, 2365, 3666, 3364, 2801, 3261, 128, 2863, 3261, 807, 2848, 3660, 2756, 3250, 829, 3248, 3785, 819, 1933, 1300, 4090, 3261, 3786, 2321, 2467, 317, 2732, 3261, 2289, 1163, 3796, 2801, 3261, 128, 2863, 332, 4190, 2715, 3261, 711, 3785, 2729, 2239, 1506, 3359, 1308, 3261, 130, 4090, 3261, 392, 674, 2600, 3206, 3785, 4190, 607, 3374, 1751, 2927, 2874, 3261, 128, 3743, 2164, 1163, 3796, 2863, 2927, 3261, 10, 3733, 1863, 2863, 1863, 3653, 4167, 374, 3796, 3261, 3295, 1809, 2767, 2991, 3261, 1148, 601, 4152, 4090, 3261, 1219, 1820, 1820, 2365, 370, 3612, 1872, 3346, 3261, 829, 3261, 1317, 2863, 572, 4090, 529, 2776, 4070, 3796, 4217, 813, 819, 130, 1911, 553, 1933, 4224, 142, 3000, 1283, 2033, 2230, 4090, 379, 1459, 2863, 2580, 3374, 131, 3374, 3261, 1770, 4071, 4090, 3445, 3261, 3434, 2467, 3702, 3723, 2991, 2732, 689, 553, 1933, 2510, 3796, 3013, 1347, 829, 1662, 41, 2863, 3791, 3261, 1317, 2467, 3261, 2001, 818, 553, 1933, 811, 2732, 3971, 711, 2863, 1933, 1385, 4090, 261, 2732, 3261, 196, 2732, 3261, 3560, 3358, 4090, 3261, 769, 2467, 1933, 2441, 553, 1933, 138, 797, 4090, 829, 464, 3785, 130, 2902, 2760, 3603, 1809, 3785, 3580, 4190, 2502, 1108, 829, 3018, 424, 844, 615, 2898, 3839, 3261, 2600, 3454, 1751, 1973, 2863, 711, 1108, 3261, 503, 2874, 3043, 3085, 829, 2952, 1951, 62, 4090, 550, 2760, 1751, 2457, 3326, 424, 3143, 1283, 803, 829, 2943, 1468, 3261, 638, 4190, 3660, 3899, 2229, 2732, 1933, 769, 4090, 1663, 3723, 2874, 1751, 3660, 3935, 1283, 2991, 2732, 3006, 2863, 1751, 2467, 2502, 3016, 829, 1747, 1809, 1751, 101, 3261, 2202, 4090, 2294, 3143, 3043, 3788, 3261, 828, 1751, 3822, 829, 718, 3912, 4090, 3118, 4224, 887, 3261, 828, 2715, 3261, 1372, 2467, 3261, 1317, 2863, 3374, 3151, 1746, 3118, 2768, 97, 3261, 887, 3018, 424, 3261, 1232, 1427, 383, 2980, 829, 2557, 3726, 3151, 1107, 3785, 3151, 1107, 1551, 3018, 424, 3154, 1249, 2863, 3785, 2467, 3927, 1551, 1867, 2863, 3788, 3261, 4090, 1973, 4190, 2863, 3259, 451, 571, 1751, 2467, 487, 829, 3729, 571, 383, 2557, 3912, 3212, 4090, 2991, 2776, 80, 2863, 3212, 2776, 1459, 1099, 3686, 130, 699, 3261, 3699, 1751, 3822, 550, 1185, 856, 1350, 102, 1881, 1751, 97, 829, 718, 3161, 2925, 173, 4090, 3785, 1308, 1751, 1973, 2863, 3670, 1656, 1809, 3560, 2886, 379, 4058, 4090, 803, 2224, 101, 3261, 3143, 4090, 3785, 424, 3154, 3371, 2806, 1117, 873, 3454, 2756, 3374, 131, 3261, 451, 3699, 2776, 3154, 3950, 3560, 3229, 3796, 1867, 674, 699, 130, 2202, 4190, 248, 829, 3261, 128, 130, 129, 873, 2541, 829, 1364, 271, 3894, 3723, 3261, 3786, 3250, 1073, 3327, 271, 4217, 2296, 3261, 128, 248, 2732, 941, 1308, 4163, 130, 3902, 1679, 2991, 3723, 3261, 130, 4090, 3261, 2600, 2184, 1656, 4190, 2457, 2732, 1933, 3216, 3135, 1717, 2874, 1751, 3052, 4223, 1308, 3261, 2001, 818, 2801, 2478, 3429, 2732, 3261, 769, 2863, 3261, 1317, 1364, 3796, 3118, 1382, 2863, 2902, 1902, 1108, 829, 2352, 2478, 1872, 2467, 3166, 4190, 3880, 2557, 3374, 131, 3374, 1427, 1751, 2776, 3326, 97, 4217, 273, 1809, 3154, 3261, 3699, 2776, 3950, 271, 2184, 1656, 3796, 4217, 1867, 2863, 1751, 3880, 269, 2352, 2478, 1809, 3971, 4090, 2991, 2956, 3558, 3726, 829, 2346, 2184, 2863, 1809, 3151, 3660, 829, 4116, 3118, 3200, 829, 1203, 41, 1933, 1385, 3152, 4217, 530, 2952, 2732, 3723, 3261, 3786, 97, 1973, 4190, 3971, 4090, 3261, 3699, 3660, 1933, 2019, 1809, 2599, 550, 4090, 67, 4190, 3880, 1551, 1615, 2863, 1751, 3288, 1108, 3261, 769, 2863, 4108, 3678, 41, 2863, 3560, 3964, 3480, 3852, 1907, 4090, 332, 3785, 1468, 1751, 1107, 3785, 2760, 1104, 1809, 3261, 218, 379, 2197, 3785, 2467, 166, 3261, 4224, 3880, 1551, 2352, 2478, 424, 3154, 674, 3660, 3433, 4090, 3785, 2760, 1500, 2515, 3154, 1283, 1308, 3785, 3151, 2467, 487, 829, 1220, 553, 3971, 3583, 1308, 3261, 403, 4090, 3261, 2210, 2863, 550, 2467, 4090, 3560, 379, 1530, 3374, 3785, 1263, 1951, 1827, 3796, 3261, 874, 1220, 3935, 3261, 1177, 3822, 3261, 1317, 3796, 550, 3261, 2001, 818, 2507, 1881, 2927, 3796, 3261, 811, 2863, 3110, 719, 3261, 261, 1385, 2863, 3935, 3374, 4060, 3261, 572, 4090, 529, 1751, 3580, 3212, 829, 3154, 3796, 1933, 599, 2210, 3261, 3434, 4090, 529, 3151, 3346, 3259, 829, 2863, 1607, 2991, 2502, 1468, 1272, 195, 997, 3261, 1317, 3822, 829, 3261, 1839, 1551, 3894, 1551, 3894, 3261, 818, 4223, 2409, 2049, 1933, 4224, 2414, 829, 1163, 3723, 1809, 1845, 3261, 2094, 1521, 3822, 3261, 1317, 2863, 3261, 2001, 818, 2507, 1881, 2927, 3796, 3261, 811, 2863, 3010, 2478, 2094, 1521, 3261, 2094, 1521, 2467, 3261, 1775, 3151, 4167, 2732, 553, 1933, 3851, 2732, 3971, 711, 2863, 1933, 3750, 4090, 2919, 2732, 3261, 196, 1099, 3448, 3901, 195, 2133, 3151, 2457, 1308, 2346, 760, 2732, 2874, 1099, 2974, 2502, 2632, 138, 2351, 819, 1099, 2467, 2790, 1308, 383, 3224, 829, 873, 2632, 3822, 3261, 1317, 819, 1107, 383, 3557, 3261, 1775, 2902, 424, 3261, 2321, 2088, 1872, 3660, 2767, 41, 2941, 3261, 769, 4065, 553, 3261, 2942, 3839, 4090, 2321, 1099, 368, 3785, 2467, 3151, 3822, 3995, 3822, 3261, 2321, 2088, 3919, 2732, 3261, 2942, 1220, 1809, 271, 3261, 1317, 3822, 829, 3261, 1839, 2863, 3261, 1839, 3016, 3770, 271, 3154, 1881, 767, 3796, 4217, 1867, 2863, 3110, 2732, 2991, 3373, 2863, 955, 3261, 713, 829, 1599, 2863, 2330, 1502, 2239, 195, 2117, 3261, 1317, 3822, 829, 3261, 1775, 3785, 87, 3958, 3822, 3261, 1775, 1538, 3261, 1317, 3146, 602, 829, 3261, 1839, 1872, 4034, 3580, 1933, 1464, 4090, 3261, 2110, 1099, 4051, 2991, 829, 2377, 3261, 1775, 2732, 3374, 3852, 1449, 3202, 3531, 4090, 138, 3399, 2952, 1933, 1775, 4123, 3261, 572, 1364, 3796, 803, 1382, 2863, 2457, 1860, 424, 3261, 1775, 1872, 2519, 643, 2863, 2548, 306, 195, 3625, 3822, 3261, 1317, 2863, 1467, 2952, 1139, 102, 2690, 873, 383, 2527, 3796, 3261, 1470, 550, 1107, 1551, 1281, 829, 2445, 3261, 1521, 424, 3154, 3151, 640, 3074, 1763, 3971, 2, 829, 3261, 196, 3326, 2868, 424, 3261, 572, 2863, 2732, 3118, 1810, 3151, 2611, 1933, 138, 3750, 2478, 4090, 3118, 3851, 1393, 4090, 3261, 2919, 2756, 424, 550, 1562, 4190, 2688, 1933, 3560, 2667, 3158, 4008, 3246, 803, 1933, 3603, 2414, 2596, 1751, 3580, 2478, 674, 3785, 2467, 1751, 2467, 2321, 829, 1055, 2149, 3364, 2863, 1751, 1973, 424, 2094, 1751, 1117, 3839, 3373, 2863, 4047, 3261, 769, 2874, 3796, 294, 805, 1751, 619, 829, 232, 978, 1751, 2467, 3374, 3805, 3374, 3043, 2467, 2587, 1308, 803, 1099, 615, 383, 4045, 86, 2760, 3822, 3261, 2942, 1872, 2467, 3363, 1779, 829, 803, 1099, 1663, 2425, 3275, 1099, 129, 2108, 3785, 3822, 4190, 3560, 1045, 2952, 2169, 2622, 1951, 29, 829, 1055, 4123, 3822, 3261, 2942, 1467, 1585, 2132, 3822, 4190, 1863, 2817, 383, 3558, 4049, 2169, 1656, 3360, 2874, 1099, 1055, 424, 1933, 1660, 3196, 3822, 3261, 2942, 1551, 2732, 1809, 2213, 3154, 2863, 3151, 4108, 3373, 3560, 1506, 2863, 956, 97, 829, 3261, 196, 1347, 4090, 3261, 769, 3154, 550, 638, 3261, 572, 3660, 3899, 1263, 2239, 1860, 424, 3261, 1775, 2863, 2756, 3374, 3261, 2942, 956, 3261, 769, 1751, 3822, 829, 3971, 4090, 3261, 3146, 4090, 3261, 769, 2832, 1702, 3261, 3442, 4090, 3261, 1708, 2732, 3261, 1185, 3931, 3796, 4008, 3261, 3505, 1775, 139, 2760, 1809, 3151, 1520, 3278, 3118, 3047, 2239, 306, 195, 3625, 3261, 1317, 3932, 3524, 102, 2690, 873, 383, 2527, 2099, 4049, 1139, 102, 1551, 2952, 1933, 218, 899, 195, 2133, 3261, 1775, 2457, 2732, 1933, 1053, 1717, 2863, 1099, 2974, 3250, 138, 765, 3056, 1933, 740, 102, 2140, 674, 553, 3261, 2919, 2069, 2760, 3415, 3261, 3586, 4090, 3261, 2351, 3261, 3586, 4090, 3261, 674, 3822, 3261, 1317, 3785, 2457, 553, 3261, 2351, 3261, 1775, 2459, 4090, 67, 3586, 4161, 553, 1933, 258, 3822, 3261, 1317, 282, 2261, 383, 1502, 1702, 1308, 1933, 1117, 1574, 3796, 2952, 1933, 218, 899, 3261, 1775, 3288, 3796, 2863, 1753, 1656, 3199, 1500, 1426, 3261, 2321, 2088, 3822, 1099, 2956, 3261, 2321, 2088, 2409, 2732, 1933, 4224, 197, 383, 1107, 3822, 3261, 1775, 1099, 1435, 3785, 3822, 3261, 2321, 2088, 3151, 3242, 3785, 3822, 3261, 1317, 4047, 2478, 1809, 1861, 131, 424, 2299, 1789, 3261, 2942, 3822, 3261, 1775, 3288, 3796, 3326, 1902, 1108, 829, 2557, 1427, 3151, 1117, 1435, 3785, 1656, 2874, 3261, 2942, 4065, 4034, 3161, 3238, 2673, 1500, 1809, 3143, 3261, 1775, 1099, 396, 3212, 1863, 2919, 2874, 674, 1107, 3261, 2942, 3729, 3971, 4090, 3261, 1839, 696, 1809, 1099, 129, 3040, 3822, 3261, 1775, 383, 690, 3040, 3929, 3261, 1317, 102, 2690, 873, 383, 2527, 3261, 638, 1775, 3395, 3118, 3851, 2863, 2919, 2863, 3288, 271, 3796, 3971, 1143, 2952, 1933, 218, 899, 195, 2133, 3151, 2457, 4049, 1933, 3560, 218, 578, 3822, 3261, 1317, 4123, 3971, 4090, 3261, 3094, 806, 2863, 2467, 2926, 3867, 2715, 3261, 3146, 4090, 3261, 769, 3374, 1809, 3206, 2925, 1933, 4066, 856, 1099, 3573, 2756, 3592, 829, 383, 3726, 3785, 2467, 3454, 130, 3660, 1933, 138, 4120, 4139, 4008, 3225, 3373, 424, 3261, 1042, 553, 1831, 2941, 550, 130, 2001, 3261, 4134, 3581, 2094, 2863, 3110, 3405, 464, 3785, 2952, 1067, 3202, 3123, 1809, 3454, 1973, 4190, 3202, 2760, 1302, 3935, 2732, 3261, 2704, 424, 3261, 130, 4090, 3786, 3043, 2467, 3212, 4202, 424, 815, 4008, 2467, 2926, 3867, 2715, 3261, 3146, 4090, 3261, 769, 2863, 1099, 3899, 3810, 674, 3785, 3357, 2591, 2054, 1427, 3788, 3154, 383, 3558, 1283, 3785, 383, 1863, 1615, 271, 3143, 3261, 1317, 1099, 129, 1574, 1951, 275, 3822, 3261, 1775, 2952, 3796, 3261, 2439, 3374, 3785, 3206, 3110, 383, 1863, 3833, 271, 3261, 1317, 2459, 4123, 3261, 196, 4134, 806, 2863, 2467, 3867, 1163, 1809, 2632, 3261, 3094, 1973, 4190, 2054, 3846, 3117, 3839, 3796, 3296, 1490, 2925, 2451, 138, 2351, 3822, 3261, 1775, 553, 3852, 1308, 3018, 424, 3261, 572, 1872, 2467, 3823, 3261, 3442, 4090, 1708, 383, 1863, 1574, 3822, 3261, 1317, 2863, 3261, 1775, 4115, 1263, 3261, 769, 1506, 269, 3359, 829, 1364, 3118, 3047, 3796, 2863, 2756, 1502, 3118, 3581, 2239, 2087, 3261, 572, 2732, 829, 3971, 4090, 3261, 3146, 2874, 3261, 1775, 2467, 2478, 4090, 4194, 3723, 3261, 1085, 3880, 3839, 829, 3261, 573, 1845, 3261, 1779, 1521, 3822, 3261, 1317, 3261, 1779, 1521, 2467, 3261, 3881, 1110, 1751, 374, 3261, 3220, 2732, 803, 711, 2863, 4190, 3919, 1872, 3785, 2467, 269, 3723, 1751, 4108, 2941, 3261, 769, 2715, 3261, 1372, 3261, 2220, 3791, 3261, 573, 2457, 2212, 3154, 424, 3432, 306, 195, 3625, 3822, 3261, 1317, 3625, 3822, 3261, 1110, 3261, 1317, 2902, 1902, 424, 3261, 2001, 818, 1872, 3822, 2732, 1933, 3644, 1717, 195, 2133, 690, 1662, 550, 1521, 131, 1427, 1099, 690, 1099, 690, 3261, 1317, 3822, 553, 1933, 1148, 1521, 2863, 1500, 2030, 3118, 7, 2863, 2500, 424, 3261, 1110, 2591, 3118, 2528, 2776, 2294, 2478, 4090, 4194, 3151, 3822, 2732, 1933, 3186, 1717, 674, 699, 829, 3580, 4090, 3629, 2169, 3822, 3261, 1110, 1511, 3822, 1933, 2812, 1717, 3678, 803, 1483, 1809, 2942, 3261, 572, 1707, 2478, 1301, 1809, 2942, 3496, 1809, 2942, 2478, 4090, 769, 3429, 41, 1211, 41, 2239, 553, 3118, 3571, 1308, 3212, 2300, 3261, 1770, 769, 2467, 2732, 1810, 2069, 3261, 2942, 2519, 2478, 2863, 2715, 3261, 638, 130, 3660, 3582, 271, 3364, 3261, 1110, 3660, 3812, 3899, 2271, 3822, 3261, 1317, 553, 3852, 1521, 4090, 4224, 2574, 1845, 3261, 1779, 1521, 2863, 3151, 2732, 2732, 3852, 3535, 829, 3261, 572, 1979, 138, 2314, 383, 690, 1662, 3261, 1779, 1521, 3785, 2502, 2325, 138, 1219, 3615, 4190, 114, 3261, 2001, 818, 3374, 3151, 1636, 97, 3261, 3442, 4018, 3560, 2667, 829, 2557, 674, 3261, 1779, 1521, 1117, 2952, 4037, 1308, 130, 2326, 4108, 138, 3625, 3894, 1751, 3822, 829, 718, 324, 803, 25, 819, 3261, 2001, 818, 3935, 2478, 424, 3261, 871, 4090, 3118, 1070, 379, 1717, 3261, 2202, 4190, 370, 1788, 3856, 3625, 4123, 2801, 4190, 2502, 338, 2732, 3261, 2505, 4090, 3261, 1562, 3726, 138, 1751, 3660, 1945, 2732, 3261, 1185, 2886, 2300, 2863, 1751, 2007, 3373, 2732, 2243, 1933, 197, 1809, 1751, 2547, 97, 3261, 4090, 553, 3261, 3375, 4090, 803, 3586, 1559, 3154, 3261, 2806, 3796, 829, 3261, 3405, 4090, 3261, 142, 924, 2863, 3043, 130, 3554, 1254, 1283, 2351, 803, 3560, 138, 4090, 1933, 1461, 4090, 4198, 1751, 3660, 2829, 1834, 3261, 740, 3723, 1620, 1099, 3448, 195, 3901, 1751, 3146, 2732, 1933, 3011, 4090, 4224, 3296, 2863, 2457, 2765, 2991, 3373, 3364, 3374, 1104, 3374, 1751, 3880, 1308, 3261, 87, 4090, 3261, 4198, 640, 1766, 2732, 803, 3581, 2863, 1751, 3660, 1933, 4130, 2519, 4090, 1731, 1809, 130, 690, 2952, 1084, 424, 3432, 2863, 1364, 3543, 2941, 3261, 4090, 102, 130, 1117, 2289, 3261, 2600, 2060, 2671, 3822, 3261, 1317, 2732, 1933, 3560, 650, 1717, 2596, 3154, 3261, 2806, 699, 3543, 2732, 4217, 154, 2926, 3151, 3932, 553, 4224, 3268, 3326, 4066, 424, 4190, 3374, 3151, 3822, 2261, 4190, 2902, 424, 3261, 4090, 2863, 3272, 1809, 2732, 803, 1317, 1751, 3660, 1364, 3261, 4224, 2732, 3581, 3059, 2863, 3261, 218, 379, 953, 2467, 1747, 2705, 2044, 1283, 2732, 1933, 1148, 1372, 3161, 2502, 1995, 829, 463, 1751, 3964, 4108, 3785, 2478, 3364, 2863, 1364, 3785, 29, 1551, 1809, 3785, 2832, 138, 1751, 3822, 829, 718, 1099, 3902, 368, 3785, 1117, 2952, 2502, 3374, 138, 1530, 2732, 3261, 2600, 3971, 1372, 3373, 3374, 3261, 196, 3374, 3964, 3374, 3261, 1839, 3660, 1933, 379, 2842, 1763, 3261, 2079, 4090, 3161, 1834, 2863, 4217, 1867, 2863, 4043, 3660, 2229, 3480, 2863, 562, 3543, 829, 2991, 130, 751, 829, 4161, 3560, 26, 829, 1220, 2478, 1933, 1471, 4090, 3261, 87, 3154, 976, 3261, 4224, 1872, 3085, 1656, 138, 1240, 829, 2261, 2541, 2874, 3833, 553, 2705, 1042, 3693, 1918, 3373, 2941, 3261, 2834, 4090, 3261, 769, 674, 2261, 383, 3558, 1283, 550, 751, 3261, 1317, 3822, 829, 4190, 4034, 3822, 4190, 4034, 1077, 263, 3261, 1317, 4034, 1077, 3822, 4190, 3788, 3560, 1093, 3261, 1317, 3822, 602, 829, 3261, 1839, 130, 2776, 2756, 2321, 829, 1220, 550, 271, 3796, 4217, 1867, 819, 3261, 2001, 818, 2409, 625, 195, 2133, 3352, 4090, 67, 3151, 3822, 2732, 1933, 3560, 562, 3011, 2874, 2500, 2863, 1268, 2607, 424, 41, 3374, 3151, 635, 625, 4090, 67, 1099, 3357, 3261, 1317, 4223, 3822, 2863, 3288, 3796, 829, 684, 2732, 3852, 3535, 1706, 3374, 1427, 3151, 2776, 776, 4008, 856, 838, 2728, 3212, 4090, 3261, 1839, 3770, 3785, 271, 1093, 2863, 3212, 625, 4190, 3880, 2557, 550, 3374, 1751, 2467, 3791, 2369, 829, 3018, 97, 4217, 1867, 2874, 3785, 3221, 1071, 1933, 2611, 1751, 1973, 829, 718, 424, 550, 1562, 3261, 1317, 1872, 3660, 2229, 1308, 3212, 638, 3229, 3950, 2732, 3118, 3234, 2813, 2478, 3429, 2863, 3935, 2478, 1763, 3118, 4081, 235, 3964, 3154, 115, 1863, 2229, 1933, 1129, 1617, 829, 4047, 3261, 769, 2640, 2902, 424, 4190, 2952, 1551, 1933, 1129, 1617, 3822, 4190, 383, 699, 3822, 3261, 1317, 2294, 1350, 1888, 1617, 2732, 3261, 572, 131, 1099, 3625, 1574, 424, 2299, 1789, 3822, 4190, 3742, 3788, 1551, 1933, 3502, 235, 383, 3702, 3785, 2756, 2054, 2705, 3261, 3922, 235, 2732, 3261, 4081, 3822, 3261, 1317, 3110, 3785, 3224, 829, 2952, 3330, 3971, 3822, 4190, 3261, 1317, 2519, 643, 2863, 876, 3118, 3234, 4223, 1272, 195, 997, 3151, 3822, 829, 3261, 1839, 2732, 1933, 3644, 1053, 1717, 2049, 1863, 3625, 829, 1163, 3894, 529, 195, 2133, 3822, 3261, 2001, 818, 3477, 3373, 2732, 1933, 4224, 197, 550, 1968, 769, 2756, 2229, 373, 3373, 3686, 2732, 3785, 3822, 3261, 572, 1099, 2326, 3304, 3785, 3894, 3822, 3261, 2001, 818, 2874, 3785, 2773, 829, 2952, 1933, 459, 370, 2715, 3261, 3250, 1504, 3395, 3785, 690, 873, 2229, 1809, 3822, 3261, 1317, 2505, 3785, 2467, 370, 829, 796, 4008, 87, 2899, 383, 3558, 1872, 3206, 3785, 1679, 829, 3822, 3971, 4090, 3261, 2806, 3785, 87, 1679, 424, 3154, 3822, 3261, 2001, 818, 2732, 2110, 2049, 4034, 370, 3796, 3261, 2087, 3151, 485, 3261, 1968, 3374, 3151, 635, 2863, 2732, 3785, 87, 1933, 459, 1500, 3154, 2705, 1933, 751, 4090, 2896, 699, 130, 2732, 3261, 255, 3395, 696, 290, 4090, 3261, 2806, 1951, 1073, 1551, 3822, 3261, 2001, 818, 2863, 3788, 3261, 4099, 953, 1283, 3785, 3261, 1839, 3154, 2902, 3246, 3151, 690, 873, 1458, 3395, 493, 711, 3822, 3261, 1317, 3261, 1839, 3154, 1331, 3373, 3364, 529, 195, 2133, 3822, 3261, 3434, 1099, 2956, 1220, 3785, 2863, 130, 129, 2835, 1099, 1107, 2049, 1951, 2202, 1234, 424, 3261, 130, 1427, 383, 2956, 3774, 3785, 3822, 3261, 1317, 1809, 3743, 2325, 3261, 1071, 2665, 383, 690, 873, 3357, 3212, 1943, 102, 1020, 2453, 873, 1234, 195, 2202, 4037, 3852, 2893, 899, 3043, 2467, 1933, 3050, 2640, 4090, 4143, 424, 550, 3785, 2467, 3261, 2094, 1979, 569, 953, 3261, 1317, 3660, 3822, 1809, 2210, 1809, 2711, 3118, 1656, 3822, 3261, 572, 3785, 2711, 4034, 4090, 3261, 2519, 3822, 4190, 3801, 383, 1467, 269, 3558, 674, 1073, 1283, 3935, 2991, 3822, 3261, 1317, 3261, 2001, 818, 1364, 3796, 3118, 1382, 978, 3117, 1099, 3557, 529, 195, 2133, 3151, 696, 3557, 424, 3261, 2321, 3261, 1317, 3822, 3999, 2863, 1574, 3796, 2591, 383, 1163, 829, 3261, 130, 3110, 3978, 760, 2776, 3261, 2896, 3261, 2001, 818, 3935, 130, 353, 1702, 383, 3660, 2229, 829, 803, 2863, 356, 1702, 829, 41, 1751, 299, 1702, 1933, 3603, 1341, 2874, 3822, 1099, 3880, 1551, 1152, 3151, 2790, 2991, 856, 1099, 3660, 1551, 2440, 3846, 3558, 3785, 829, 2952, 1023, 1427, 1751, 3902, 1740, 3261, 1071, 3796, 674, 1117, 3433, 4090, 383, 1099, 299, 803, 3971, 130, 299, 41, 1350, 383, 299, 1374, 1881, 102, 1863, 130, 3154, 335, 1763, 41, 829, 383, 1938, 130, 2776, 3958, 3723, 1427, 1099, 102, 1751, 3902, 62, 829, 2952, 4114, 2732, 550, 2025, 3151, 3212, 829, 383, 829, 751, 2991, 1907, 1230, 3374, 3846, 2776, 138, 1146, 2467, 1809, 383, 3660, 2229, 3723, 1751, 3660, 550, 3544, 3852, 1022, 1809, 4167, 2900, 41, 2863, 3523, 2863, 3785, 1467, 2328, 41, 3558, 1751, 1159, 2991, 2728, 1308, 550, 690, 3056, 2952, 1933, 2465, 640, 1763, 3154, 3261, 403, 2900, 2316, 2863, 1702, 3788, 3261, 1753, 1093, 3750, 4090, 3625, 3421, 317, 3894, 3822, 3261, 1317, 889, 3118, 4143, 2760, 2054, 2328, 3261, 1839, 1427, 2299, 3971, 4090, 2991, 1663, 3592, 3785, 3822, 4190, 1751, 3660, 1945, 2760, 138, 2732, 3261, 1185, 2886, 2300, 1809, 1751, 3640, 1933, 2611, 4118, 4090, 3489, 41, 2690, 306, 41, 3818, 1099, 1467, 1536, 2049, 3852, 2391, 4090, 3143, 2732, 3785, 3261, 1839, 3154, 3770, 271, 3796, 4217, 1867, 1751, 3221, 1536, 2049, 3852, 2391, 4090, 3143, 2732, 3785, 2874, 3531, 4090, 2991, 3318, 829, 3592, 3261, 1968, 1427, 2049, 1951, 3143, 2732, 3785, 3822, 3261, 1317, 1809, 4132, 1933, 2564, 4090, 840, 383, 3558, 3374, 3846, 4072, 2004, 829, 1747, 2299, 2863, 3894, 1099, 1467, 3558, 3151, 3288, 3796, 2410, 2478, 3261, 2896, 3796, 3118, 1143, 2863, 3326, 424, 2991, 553, 3971, 3959, 1099, 1281, 829, 2557, 3212, 3143, 2732, 2991, 1500, 3154, 3822, 1099, 3880, 1551, 1152, 383, 129, 1152, 1663, 383, 3151, 2732, 602, 829, 3261, 3434, 3261, 3434, 1520, 3118, 3581, 3143, 2261, 1099, 3018, 4037, 3785, 3151, 3822, 4008, 3151, 3927, 1107, 1551, 3161, 3580, 3069, 4090, 696, 3154, 29, 2760, 3237, 3822, 3261, 1317, 2863, 3151, 3288, 3796, 3460, 97, 3261, 2896, 829, 684, 3846, 3558, 3785, 829, 2952, 1023, 3788, 3261, 1839, 4090, 3151, 299, 803, 3971, 130, 299, 41, 1350, 3801, 1809, 690, 2952, 674, 3151, 1107, 553, 3261, 829, 383, 3558, 2874, 3785, 1772, 3796, 130, 3154, 335, 1763, 41, 829, 383, 3822, 4190, 3801, 3043, 130, 699, 3822, 3261, 1317, 583, 1971, 829, 3261, 829, 3796, 3261, 2441, 4034, 1663, 2952, 1498, 2229, 1809, 3110, 3384, 1751, 3660, 550, 3544, 383, 3899, 3660, 1762, 138, 2314, 1099, 368, 3151, 3822, 829, 3261, 572, 3899, 3822, 3261, 572, 1224, 683, 3852, 995, 424, 3261, 4224, 3374, 1751, 635, 3261, 4091, 379, 166, 3660, 1263, 2239, 3950, 3796, 3118, 874, 553, 3971, 3583, 3374, 3151, 3480, 3785, 3580, 1951, 1827, 2874, 3151, 2054, 4223, 2457, 3364, 118, 3261, 2220, 1809, 2467, 1883, 271, 3118, 374, 3374, 3805, 3374, 3785, 2860, 3110, 3261, 601, 1467, 3544, 383, 3822, 3261, 1317, 3326, 1108, 3261, 769, 553, 1933, 1774, 3043, 2467, 1933, 4018, 3429, 2705, 1933, 3, 3261, 1317, 2732, 2732, 3852, 31, 3011, 2863, 2640, 2758, 2328, 3261, 1839, 1272, 4217, 997, 3261, 1317, 3822, 1308, 1283, 3261, 1909, 638, 1809, 2210, 1951, 1951, 3822, 3261, 572, 2408, 2023, 1634, 1162, 2863, 2132, 3822, 4190, 827, 3261, 1731, 4090, 1887, 3261, 2408, 2094, 2190, 195, 947, 3822, 3261, 572, 602, 1402, 1099, 1587, 3822, 4190, 2239, 553, 803, 3581, 3261, 572, 1611, 424, 3261, 871, 4090, 803, 1717, 796, 2311, 1872, 83, 1308, 383, 3822, 4190, 1751, 3660, 1945, 829, 803, 2802, 3060, 2715, 550, 638, 4049, 4034, 2874, 1933, 4071, 4090, 3445, 424, 550, 3261, 1770, 4071, 2335, 3373, 2941, 3261, 1521, 2863, 4167, 1709, 271, 464, 803, 1751, 299, 1933, 379, 989, 2746, 4090, 341, 2863, 2746, 4090, 4214, 2863, 757, 829, 1466, 2991, 2239, 2863, 3480, 718, 1913, 3796, 3261, 4054, 553, 803, 3581, 2732, 3261, 2955, 4090, 803, 2408, 1872, 2467, 3901, 2082, 1468, 3212, 4018, 3314, 1809, 3660, 2861, 271, 1763, 3261, 3831, 464, 803, 374, 2926, 3373, 4190, 2314, 3822, 803, 2408, 3801, 674, 1933, 3805, 29, 2622, 3660, 1620, 3202, 3660, 2243, 1933, 2667, 1310, 3822, 4190, 2863, 1751, 353, 803, 2408, 3374, 131, 3374, 1751, 3880, 3040, 2991, 3154, 760, 2021, 3877, 4090, 3676, 1809, 383, 873, 2756, 2229, 3823, 1283, 2863, 819, 1751, 3660, 2632, 803, 2408, 3867, 803, 2863, 3822, 3785, 2467, 1933, 2667, 1310, 2314, 3927, 2874, 2054, 4155, 2732, 829, 195, 2351, 2705, 2069, 3199, 2760, 4190, 4108, 3373, 2863, 2927, 2239, 325, 3733, 1751, 2927, 3374, 131, 1751, 811, 674, 1933, 278, 1310, 3785, 3660, 2229, 2874, 803, 2408, 3405, 252, 2756, 3374, 1751, 1263, 803, 3830, 803, 3581, 3796, 803, 711, 779, 3261, 2099, 3336, 2863, 325, 4090, 379, 4190, 2863, 3154, 803, 278, 3877, 2591, 1751, 1656, 2457, 3479, 1500, 1933, 3154, 2863, 550, 2467, 803, 1310, 2094, 1751, 253, 4090, 379, 4190, 718, 2863, 3432, 3364, 3261, 3838, 4143, 2776, 1897, 464, 803, 1143, 2863, 3261, 1896, 619, 2528, 2776, 3326, 3373, 2941, 4203, 3880, 3759, 3261, 3560, 1806, 4090, 803, 1717, 2863, 2557, 1809, 2055, 379, 1935, 4090, 803, 3581, 829, 4051, 3543, 3261, 539, 706, 1809, 1117, 71, 3839, 2941, 803, 1032, 252, 3374, 1751, 2457, 102, 3085, 829, 3601, 3261, 1770, 418, 2489, 803, 3111, 3087, 553, 3261, 2021, 571, 4090, 803, 379, 2221, 1310, 3261, 3805, 2166, 4105, 424, 803, 3166, 3374, 3261, 2001, 818, 2729, 2843, 3223, 2558, 4212, 3118, 1372, 3260, 3261, 528, 1492, 3880, 3759, 3261, 1510, 4090, 3261, 936, 3374, 3261, 2321, 2088, 2863, 3118, 1123, 897, 4217, 2542, 2031, 2863, 3261, 1070, 1717, 4090, 3261, 572, 4144, 2239, 803, 4091, 624, 829, 556, 1863, 3261, 2964, 2467, 2212, 3796, 3261, 3881, 1143, 3733, 2822, 2863, 2944, 3496, 2489, 440, 1863, 3261, 3907, 4090, 3261, 128, 3261, 2151, 4090, 3261, 2684, 3015, 2863, 3261, 3998, 4090, 3261, 3867, 3094, 3810, 3261, 1521, 2763, 3373, 553, 3261, 1730, 4097, 4090, 3261, 638, 807, 2848, 2760, 1751, 3405, 3796, 553, 3761, 2528, 2863, 2746, 259, 718, 2732, 4030, 1938, 1751, 101, 1751, 3660, 2874, 829, 3693, 2991, 3364, 2863, 3154, 1117, 1993, 829, 1305, 1672, 2166, 1117, 2952, 3743, 363, 2732, 3261, 2472, 2863, 3261, 1169, 3384, 829, 3261, 1747, 4090, 3261, 1907, 830, 936, 1117, 1993, 829, 111, 1451, 2863, 3261, 505, 1070, 3240, 829, 3261, 1717, 4090, 3261, 359, 562, 3261, 2942, 4090, 3261, 4132, 3261, 3907, 4090, 3261, 128, 2863, 3154, 3261, 196, 2055, 718, 1117, 1993, 1751, 101, 829, 3261, 3559, 1437, 4090, 3261, 1521, 3608, 3261, 3826, 4090, 3261, 3658, 2732, 3261, 2289, 1117, 1502, 3261, 418, 4090, 3261, 807, 913, 1640, 4097, 1836, 1751, 1924, 829, 718, 3726, 550, 2232, 379, 2408, 4090, 3676, 1117, 2732, 3261, 1075, 2952, 718, 1933, 1945, 3648, 2863, 3726, 1751, 1117, 4051, 3260, 3154, 803, 920, 3384, 3261, 3119, 2863, 2843, 220, 4090, 803, 3062, 2863, 3726, 1751, 1117, 2784, 1283, 803, 196, 379, 1371, 2863, 2352, 4217, 2528, 1896, 2863, 619, 553, 2132, 1933, 2021, 1999, 558, 269, 553, 3261, 1310, 4090, 4030, 4090, 3805, 3058, 2863, 3726, 1751, 1117, 1467, 553, 3154, 4217, 3119, 1729, 2863, 1747, 1933, 2085, 2732, 3154, 4217, 3119, 2000, 3239, 803, 3399, 543, 2863, 3261, 3626, 599, 2456, 3261, 130, 130, 4090, 2379, 790, 3856, 3877, 2732, 4030, 2715, 34, 1807, 130, 4090, 550, 2379, 543, 813, 3856, 3877, 2732, 4030, 550, 3462, 3902, 2952, 1102, 1844, 102, 569, 550, 2863, 3154, 3236, 559, 4090, 2, 566, 3573, 2952, 3480, 2732, 1511, 960, 595, 3573, 3558, 3261, 1, 1474, 2594, 595, 3573, 2952, 2642, 3445, 3261, 4221, 1763, 1579, 2479, 391, 595, 3352, 1809, 1951, 3971, 3448, 1933, 2556, 3234, 1239, 2732, 760, 4221, 2760, 3261, 21, 2863, 383, 1663, 3271, 2863, 1415, 3785, 2732, 3261, 2556, 3234, 1506, 2081, 2863, 1506, 2705, 1239, 2969, 329, 4155, 751, 4037, 2732, 3261, 3050, 2976, 4090, 1530, 1861, 4090, 550, 3812, 1193, 829, 3768, 2863, 767, 2379, 2323, 2307, 4221, 829, 9, 3261, 2379, 2323, 1254, 2863, 3671, 2379, 543, 3206, 1933, 814, 3671, 2863, 1863, 1551, 2952, 3786, 1427, 383, 3751, 1308, 3261, 2636, 2505, 383, 2561, 3196, 2081, 1427, 383, 2261, 1551, 3751, 2541, 1308, 4152, 4090, 550, 813, 1742, 553, 3261, 4155, 3206, 3560, 1275, 383, 1863, 1530, 550, 813, 1308, 2294, 2299, 2207, 2243, 3374, 1968, 4090, 1109, 4221, 399, 2879, 2863, 2350, 130, 1863, 2952, 3618, 2863, 824, 2863, 352, 1642, 1863, 2261, 2229, 2541, 553, 1579, 2479, 2636, 2377, 3206, 1639, 829, 3261, 3671, 3812, 2027, 2911, 2377, 829, 2802, 3812, 3261, 2802, 2379, 543, 3812, 529, 3935, 550, 3723, 383, 1415, 102, 1530, 550, 4161, 829, 9, 3261, 2379, 2323, 2832, 4090, 3000, 3261, 1907, 1957, 4090, 2307, 4221, 2715, 118, 102, 767, 550, 4161, 102, 2299, 196, 4161, 3236, 2732, 2299, 1372, 553, 3261, 318, 2379, 543, 383, 1410, 829, 245, 553, 3154, 3261, 2976, 4090, 3261, 2802, 2379, 2323, 3812, 3203, 553, 550, 3462, 102, 2957, 424, 244, 386, 3995, 3050, 2976, 4090, 1530, 2863, 3867, 2379, 2323, 2307, 4221, 1608, 2715, 3823, 102, 118, 2299, 1861, 4090, 550, 2379, 2323, 2307, 4161, 383, 3794, 1809, 383, 873, 3935, 2859, 1410, 829, 2863, 895, 3154, 3261, 2976, 4090, 550, 3812, 2863, 3154, 1243, 2381, 1133, 1427, 383, 2261, 1551, 1410, 829, 343, 2715, 3154, 3261, 2976, 4090, 550, 1133, 383, 690, 3024, 118, 2863, 3853, 102, 3618, 3154, 4152, 4090, 2379, 2323, 2307, 4221, 2732, 195, 1180, 1427, 383, 1760, 1933, 1490, 1308, 891, 1933, 3271, 4090, 102, 3477, 829, 1933, 2379, 2323, 2307, 4161, 2863, 383, 2261, 1551, 1410, 829, 2952, 2965, 2715, 3261, 2976, 4090, 550, 1133, 383, 1863, 2552, 1933, 1469, 1763, 3261, 2630, 102, 3203, 829, 1042, 383, 1760, 3261, 1490, 3374, 751, 4037, 2732, 1556, 2639, 56, 2379, 543, 3206, 1933, 814, 3671, 3785, 1863, 3743, 2952, 3786, 3796, 102, 3236, 2732, 2299, 1372, 553, 3852, 2307, 4161, 2715, 2220, 1872, 1410, 829, 2952, 2965, 2715, 3261, 2976, 4090, 550, 1133, 3043, 699, 1933, 2886, 1656, 1809, 383, 1663, 2261, 553, 1753, 2379, 2323, 2307, 4221, 269, 1506, 1742, 553, 3261, 2802, 2976, 4090, 550, 1133, 2557, 1556, 2267, 924, 3043, 699, 1933, 3842, 4090, 1656, 383, 1663, 2261, 553, 2379, 2323, 2307, 4221, 1427, 383, 1008, 3261, 2976, 4090, 550, 1133, 2863, 2108, 2074, 1907, 2124, 3477, 829, 2379, 2323, 2307, 4221, 2557, 1556, 2350, 924, 2267, 3261, 2379, 543, 2713, 2771, 21, 3261, 21, 102, 3107, 3448, 1933, 2179, 1239, 2732, 3261, 1000, 4090, 2379, 2323, 2307, 4221, 2294, 3154, 3261, 1296, 4221, 2732, 3261, 1000, 699, 2732, 3261, 1579, 2479, 2732, 3261, 2556, 3234, 1427, 3852, 1296, 4161, 3206, 2732, 3261, 1579, 2479, 2732, 3261, 2556, 3234, 2863, 383, 699, 2636, 2732, 3261, 2556, 3234, 3846, 2261, 1551, 3215, 1933, 29, 829, 1944, 383, 1763, 3768, 767, 2067, 2831, 102, 3445, 1109, 4221, 3724, 3796, 3261, 4161, 3374, 3805, 3374, 3154, 3900, 829, 2379, 543, 699, 1357, 4090, 67, 3846, 3297, 1809, 383, 3573, 2701, 3261, 2379, 2323, 2832, 4090, 3000, 1907, 3477, 829, 2307, 4221, 2715, 602, 973, 2379, 2323, 4221, 2732, 1945, 553, 3261, 2976, 4090, 550, 1133, 1308, 2650, 3261, 2379, 2323, 2202, 3236, 553, 3261, 4161, 383, 1663, 986, 245, 553, 3261, 2976, 4090, 550, 1133, 2715, 2650, 550, 4161, 2732, 3261, 2232, 3484, 553, 2705, 1617, 2802, 2379, 2323, 3812, 819, 383, 1926, 3785, 1506, 3751, 553, 3887, 2415, 3261, 1239, 4093, 4090, 3261, 418, 978, 383, 699, 2636, 4115, 2676, 674, 383, 1663, 2261, 553, 550, 4161, 1239, 4093, 2732, 1753, 3451, 699, 2732, 1933, 2176, 2114, 4090, 1993, 1427, 383, 699, 2087, 3261, 2556, 3234, 4024, 3261, 4093, 4090, 195, 2535, 2732, 591, 829, 3261, 2976, 4090, 550, 1133, 3723, 3723, 3768, 2831, 2067, 767, 102, 3445, 1109, 4221, 3724, 3796, 550, 4161, 102, 2299, 196, 2379, 2323, 4161, 3261, 21, 2325, 1951, 3447, 3806, 3261, 1239, 157, 4090, 2299, 4161, 2732, 2299, 2535, 2087, 3261, 2556, 3234, 2350, 2505, 383, 873, 1357, 3154, 3900, 829, 2379, 543, 1069, 3261, 3039, 2408, 553, 2931, 2759, 829, 102, 196, 3968, 3477, 829, 3261, 2802, 2379, 2323, 3812, 690, 3537, 1316, 1882, 2299, 3271, 4090, 1933, 2379, 2323, 4161, 2299, 4161, 3796, 4008, 3261, 318, 2379, 543, 1131, 102, 553, 4008, 3261, 318, 2379, 543, 3206, 3236, 3206, 1810, 1790, 1688, 2758, 4113, 102, 2127, 550, 813, 3206, 1308, 3261, 1530, 4090, 2942, 2979, 424, 1951, 891, 2863, 553, 1338, 1951, 3653, 3698, 383, 1863, 3271, 3785, 306, 3785, 1468, 102, 4030, 3785, 3146, 3261, 2976, 4090, 3261, 2379, 543, 3812, 3099, 553, 550, 813, 102, 2957, 424, 2498, 486, 1427, 3852, 1296, 2379, 2323, 2307, 4161, 3206, 1873, 1763, 3261, 1579, 2479, 4057, 1551, 268, 1933, 3857, 1738, 1809, 3785, 3206, 3915, 553, 2081, 4090, 3261, 1239, 2435, 3261, 4161, 1663, 2952, 4113, 2863, 2127, 829, 2942, 2732, 3261, 2556, 3234, 1506, 2705, 2299, 2577, 102, 2953, 1427, 383, 699, 3867, 102, 2219, 3477, 829, 1933, 4161, 553, 3261, 318, 2379, 543, 3236, 553, 102, 1633, 3796, 3261, 4161, 383, 690, 245, 2494, 553, 3261, 3954, 4090, 1886, 1069, 3260, 835, 102, 2552, 2081, 1308, 3261, 1530, 4090, 3261, 4161, 2863, 3261, 2379, 2323, 3671, 3374, 751, 4037, 2732, 1886, 2639, 102, 451, 2087, 1427, 3852, 1296, 2379, 2323, 2307, 4161, 3206, 3915, 553, 3261, 2081, 4090, 3261, 1239, 2435, 195, 1530, 2863, 1957, 690, 245, 553, 3278, 1886, 1069, 3260, 835, 2863, 2299, 1346, 2976, 790, 2715, 3261, 1239, 2435, 1346, 2976, 3573, 2952, 1405, 829, 3261, 2379, 2323, 3812, 1308, 3154, 4221, 3915, 553, 3261, 2081, 4090, 3261, 1239, 2435, 3480, 424, 3261, 2321, 4090, 550, 4161, 1862, 2261, 1551, 2682, 102, 4198, 102, 3247, 3261, 2802, 2379, 2323, 3812, 2976, 1763, 550, 4161, 102, 2299, 559, 2829, 1933, 1861, 4090, 550, 4161, 102, 2299, 196, 4161, 3236, 553, 2379, 2323, 4019, 2261, 1551, 3271, 1232, 1971, 1415, 102, 3398, 550, 2307, 4161, 102, 2299, 1861, 4090, 550, 2307, 4161, 1506, 1316, 2831, 3261, 2408, 751, 4037, 2732, 1556, 1069, 553, 2931, 2759, 102, 3968, 3477, 829, 3261, 2802, 2976, 4090, 3261, 2379, 2323, 3812, 4199, 383, 1863, 769, 829, 2863, 1415, 550, 4161, 2732, 2299, 804, 3072, 3151, 3373, 3397, 102, 1291, 1317, 4027, 2299, 856, 561, 102, 1593, 1317, 3371, 1427, 383, 1144, 3477, 829, 102, 1415, 4152, 4090, 1933, 2379, 2323, 4161, 2732, 1933, 3484, 196, 2229, 1328, 3345, 615, 102, 196, 3484, 3786, 2732, 3261, 3530, 3882, 3915, 3796, 3261, 3530, 2379, 2323, 1297, 71, 2498, 383, 690, 424, 1951, 1346, 891, 1490, 102, 387, 829, 3261, 3259, 1144, 1933, 3271, 1933, 3352, 4090, 178, 1933, 3271, 102, 1933, 3352, 4090, 891, 1933, 3271, 464, 2127, 4090, 3261, 4161, 2732, 2705, 1547, 1328, 3345, 615, 102, 196, 1317, 2299, 2171, 3484, 690, 4004, 3261, 2802, 2379, 2323, 3812, 3374, 2877, 2732, 1556, 1069, 835, 2261, 1551, 3751, 1933, 1490, 1308, 3477, 829, 428, 2831, 2067, 3768, 102, 767, 2299, 2379, 2323, 4221, 2505, 383, 245, 553, 1556, 2639, 102, 451, 2639, 383, 1863, 3751, 1933, 1660, 1490, 1308, 4152, 4090, 102, 2219, 3477, 829, 102, 767, 2379, 2323, 2307, 4221, 2974, 1809, 383, 3070, 1933, 3453, 1490, 4090, 854, 4090, 3261, 2605, 2529, 383, 4215, 1763, 3261, 1530, 4090, 2379, 2323, 4221, 4022, 118, 3261, 1744, 383, 1469, 1530, 829, 2930, 195, 471, 2779, 3261, 1490, 3206, 3741, 829, 3261, 1090, 4090, 3261, 2379, 2323, 3671, 2874, 3151, 769, 277, 829, 1310, 2969, 3146, 550, 1556, 829, 3261, 2379, 543, 2713, 2771, 21, 3453, 3254, 690, 2952, 1760, 2670, 647, 2456, 3039, 3013, 2192, 3796, 4008, 383, 2954, 102, 699, 370, 1887, 829, 2954, 195, 452, 3636, 1821, 3453, 3254, 3902, 2952, 2697, 3151, 3374, 2243, 2863, 2790, 829, 3261, 2379, 543, 2713, 2771, 21, 424, 3261, 3632, 2877, 2732, 386, 1923, 1383, 1283, 3920, 829, 3261, 2379, 543, 2713, 2771, 21, 383, 1144, 1933, 2802, 1469, 4090, 2299, 675, 1760, 2715, 1933, 3259, 1872, 1584, 383, 2732, 3950, 102, 2715, 3758, 2670, 3526, 2456, 4090, 3140, 1809, 1751, 4057, 1551, 1410, 829, 3261, 2976, 4090, 3261, 2802, 2379, 2323, 3812, 383, 690, 2604, 2243, 1933, 3259, 829, 3853, 102, 3618, 3154, 4152, 4090, 3261, 4221, 4157, 2732, 1933, 2930, 1500, 2863, 4150, 3154, 1530, 4090, 2863, 3154, 3477, 829, 196, 4152, 4090, 2379, 2323, 4221, 383, 1144, 2732, 1804, 553, 1556, 3348, 1933, 2802, 1469, 4090, 2299, 675, 1760, 1308, 1933, 4161, 102, 1933, 3204, 3271, 1427, 1933, 1304, 2732, 3261, 2307, 4161, 3206, 3299, 2863, 818, 829, 383, 2670, 141, 2456, 4090, 3140, 4090, 3261, 4161, 383, 245, 553, 3154, 196, 2976, 4090, 550, 1133, 1308, 1907, 1957, 4090, 2379, 2323, 4221, 451, 1427, 383, 615, 829, 3751, 1933, 1490, 102, 1415, 1933, 2379, 2323, 2307, 4161, 102, 2910, 4090, 4221, 3796, 833, 2976, 2229, 699, 751, 4037, 2732, 550, 1133, 383, 690, 2552, 2081, 2732, 3950, 1763, 3278, 3261, 2379, 543, 2713, 2771, 21, 2863, 4119, 415, 3261, 1090, 4090, 3261, 2379, 2323, 3671, 3598, 3261, 21, 3374, 751, 4037, 2732, 386, 1485, 924, 381, 622, 2379, 543, 3479, 2863, 2876, 626, 566, 380, 829, 2033, 2261, 1239, 2350, 3796, 15, 2863, 982, 1579, 2479, 4221, 2732, 3445, 3261, 2379, 2323, 1000, 2188, 760, 3374, 2379, 2323, 2307, 4221, 2863, 3261, 1500, 3796, 4008, 130, 1863, 2952, 881, 1863, 268, 1477, 2243, 3374, 2874, 1551, 1747, 829, 268, 3738, 102, 2192, 694, 1380, 3940, 1933, 1239, 102, 196, 3154, 1243, 1365, 1933, 641, 102, 1817, 461, 102, 196, 1500, 1933, 4211, 2028, 102, 4211, 983, 1809, 2786, 102, 2060, 2952, 3935, 2715, 195, 1542, 2508, 1747, 3752, 3836, 4090, 3563, 976, 1308, 3261, 29, 4090, 3204, 102, 1469, 2995, 2732, 1556, 3348, 3261, 2379, 543, 2713, 2771, 21, 3261, 1090, 4090, 3261, 2379, 2323, 3671, 2863, 2299, 196, 1920, 767, 1933, 2379, 2323, 2307, 4161, 3146, 550, 1133, 3231, 3154, 1571, 829, 383, 1308, 3563, 3003, 2863, 2530, 4027, 1342, 2577, 383, 1410, 1809, 383, 873, 1951, 3696, 1308, 3900, 1105, 1571, 1915, 4090, 3752, 102, 1915, 4090, 3963, 976, 3259, 2974, 2732, 1556, 2147, 383, 1410, 1809, 3261, 21, 3261, 3671, 1090, 2863, 2299, 295, 3146, 550, 1133, 3573, 1551, 2952, 2353, 829, 383, 1308, 3064, 4, 3234, 3182, 751, 102, 994, 3563, 269, 1427, 383, 306, 3857, 4090, 3261, 3595, 4090, 2243, 2786, 3348, 1747, 29, 4090, 3204, 102, 1469, 1427, 383, 3698, 1933, 1304, 2732, 550, 2307, 4161, 2670, 141, 2456, 4090, 2080, 3785, 383, 1663, 2561, 1933, 1469, 4090, 3261, 675, 1427, 2299, 383, 1760, 1308, 3785, 2715, 1786, 1933, 370, 1449, 829, 3261, 2630, 383, 829, 3261, 4161, 1763, 1427, 383, 829, 3261, 4161, 3796, 1933, 2930, 1500, 383, 690, 3853, 3261, 1500, 553, 195, 370, 1449, 3261, 2630, 102, 3203, 1809, 2974, 383, 553, 3261, 641, 4161, 1863, 3510, 829, 1144, 1933, 3204, 3271, 2732, 338, 4090, 1933, 1469, 1427, 383, 829, 3261, 4161, 1399, 3261, 2630, 102, 3203, 2219, 3785, 829, 383, 1863, 1960, 829, 306, 383, 1933, 294, 1907, 829, 2561, 3261, 4161, 1399, 2732, 338, 4090, 1933, 1469, 1427, 3261, 294, 3271, 3206, 4115, 641, 383, 1863, 2949, 1933, 1469, 2732, 3950, 1506, 2221, 196, 829, 1443, 3261, 2553, 3198, 976, 1308, 3261, 1747, 29, 4090, 3204, 102, 1469, 751, 4037, 2732, 1556, 3348, 550, 4161, 3206, 2974, 829, 383, 2895, 553, 1951, 196, 2564, 4090, 2299, 3985, 3513, 102, 2926, 4027, 2874, 1551, 1747, 829, 2564, 4090, 1304, 102, 3360, 1308, 2299, 2207, 3101, 3212, 3234, 2261, 1551, 2912, 2775, 4090, 3667, 2926, 2564, 102, 3261, 2368, 102, 2297, 4090, 3667, 2450, 4090, 3563, 1427, 2299, 3836, 102, 2297, 751, 4037, 2732, 550, 1133, 3637, 3261, 2648, 4090, 3261, 2114, 471, 829, 550, 1133, 3261, 1133, 3117, 2952, 623, 829, 2352, 3261, 2635, 3836, 102, 2297, 1449, 2715, 3261, 471, 2114, 2648, 3261, 4213, 102, 4182, 4090, 2299, 2704, 4090, 550, 1133, 3117, 1551, 2681, 3261, 3485, 782, 2807, 3531, 383, 1410, 829, 1151, 2863, 2190, 3261, 21, 3261, 3671, 1090, 2299, 3043, 102, 1968, 4090, 3261, 21, 2942, 2219, 4152, 4090, 2379, 2323, 2307, 4221, 2732, 1804, 553, 550, 1133, 2863, 2299, 3479, 3236, 553, 3261, 2981, 2814, 2863, 1957, 4090, 2379, 2323, 2307, 4221, 457, 1763, 3154, 1571, 3003, 2863, 2530, 4027, 1342, 2577, 1809, 2009, 146, 102, 1033, 1763, 2299, 4090, 3261, 3039, 4008, 383, 2261, 102, 3757, 829, 3892, 1933, 1957, 4090, 550, 102, 2299, 2379, 2323, 4161, 489, 3609, 4126, 102, 4103, 102, 366, 829, 2299, 2379, 2323, 4161, 2863, 3080, 2299, 1304, 383, 3757, 386, 1491, 1383, 1283, 3261, 2832, 4090, 2379, 2323, 2379, 2323, 3206, 2432, 553, 3261, 1907, 1957, 4090, 2307, 4221, 2732, 566, 4198, 2715, 3261, 2872, 3976, 4090, 2104, 4027, 4152, 2594, 3778, 2863, 431, 2104, 3785, 512, 3912, 4090, 3261, 3374, 4090, 1135, 4090, 3479, 2863, 3920, 1763, 2220, 2732, 3154, 3292, 4090, 1443, 3479, 2863, 3578, 2701, 829, 1144, 3479, 553, 3261, 388, 130, 1006, 3206, 2835, 829, 585, 2379, 1417, 1878, 2863, 3174, 1809, 3261, 2379, 2323, 1000, 3573, 232, 602, 3203, 1308, 1779, 829, 1163, 2732, 951, 3261, 2379, 543, 2713, 2771, 21, 2467, 1987, 829, 1144, 1933, 3709, 2863, 2982, 2124, 1308, 2379, 2323, 2863, 2124, 1779, 829, 375, 1863, 1283, 3261, 2379, 543, 2713, 2771, 21, 2863, 3726, 195, 3374, 2863, 3920, 1663, 2108, 2557, 2279, 1485, 2863, 1923, 2863, 3261, 21, 1297, 280, 424, 635, 386, 1485, 1383, 1283, 3261, 2379, 543, 2713, 2771, 21, 3261, 2379, 543, 2713, 2771, 21, 3206, 1933, 3744, 2542, 669, 2324, 3946, 3356, 3146, 3261, 4093, 4090, 3261, 2114, 4090, 2637, 2863, 2483, 3636, 3211, 157, 2715, 3261, 3668, 1604, 2815, 3261, 3062, 3754, 102, 1492, 3636, 1712, 3330, 3206, 1724, 2705, 669, 459, 3206, 3915, 424, 2542, 2267, 829, 3261, 2379, 543, 2713, 2771, 21, 699, 3636, 3349, 829, 3261, 2802, 288, 1449, 2715, 1374, 1492, 4093, 2863, 195, 3234, 4093, 3261, 3062, 3759, 983, 3206, 2636, 424, 2649, 1859, 1117, 217, 1289, 1373, 1865, 2874, 2705, 3479, 2863, 2876, 699, 2097, 4072, 1493, 3412, 2705, 751, 983, 3206, 2636, 424, 1921, 1988, 1290, 265, 1371, 1439, 3692, 4074, 3195, 1043, 227, 3758, 1421, 3758, 3598, 2759, 2863, 3373, 829, 2192, 3598, 1383, 1663, 2952, 3480, 424, 3261, 3062, 1297, 71, 2863, 3530, 280, 424, 3723, 1308, 1346, 3598, 1383, 1117, 1338, 489, 1926, 53, 637, 2863, 2514, 3080, 386, 1923, 1383, 1283, 3920, 829, 3261, 2379, 543, 2713, 2771, 21, 2379, 2323, 364, 464, 2863, 2060, 24, 1506, 3940, 1034, 1579, 2701, 2863, 3920, 829, 3852, 2478, 2705, 2832, 4090, 3274, 3261, 3330, 4090, 1579, 2479, 2863, 2950, 4221, 1809, 1663, 2952, 602, 2127, 2732, 42, 4198, 1317, 18, 2715, 3261, 2872, 3445, 4090, 1542, 4027, 2327, 1542, 2132, 288, 3920, 3995, 829, 4188, 699, 2014, 1093, 829, 2341, 3636, 3211, 157, 553, 3261, 50, 3261, 21, 3206, 2903, 829, 1742, 553, 3261, 4093, 2787, 2625, 2863, 2347, 3920, 2732, 3154, 302, 3234, 4090, 3261, 2556, 3234, 1945, 3954, 699, 1551, 3701, 2863, 3785, 988, 1933, 566, 380, 138, 915, 2863, 2132, 2577, 829, 1498, 2863, 4051, 3373, 553, 760, 3954, 3846, 2261, 1551, 1773, 3920, 2732, 3412, 978, 3846, 873, 1551, 829, 370, 11, 4090, 1945, 829, 2259, 3920, 102, 322, 3261, 157, 4090, 1945, 1308, 2299, 3168, 2114, 3421, 3723, 3733, 3846, 2060, 2863, 2261, 1551, 1773, 2267, 1763, 3234, 978, 3846, 873, 1551, 1607, 3261, 2571, 3954, 3846, 3558, 4090, 1951, 1394, 3096, 1065, 3658, 3920, 1763, 2788, 2732, 2243, 3234, 1872, 1182, 1374, 553, 1933, 829, 1310, 3027, 3920, 699, 1155, 2039, 2874, 3846, 2060, 2352, 2299, 4000, 3806, 3636, 482, 4090, 3920, 829, 1763, 2087, 3261, 2556, 3234, 1374, 4093, 3424, 3559, 2829, 288, 355, 529, 4024, 3261, 2379, 543, 1297, 1227, 1308, 2559, 2536, 3799, 2863, 3895, 3920, 699, 2039, 2732, 1933, 3330, 4090, 196, 356, 4027, 1173, 2957, 3254, 2863, 1827, 817, 3920, 829, 1310, 529, 3421, 1453, 386, 1593, 3050, 1383, 1283, 2379, 2323, 2307, 4221, 1088, 4119, 217, 415, 3206, 3261, 614, 4090, 3261, 2379, 2323, 1254, 4090, 1933, 3835, 4090, 2307, 4221, 1809, 3880, 2952, 602, 897, 553, 2942, 1308, 556, 3384, 3151, 591, 2863, 2127, 2379, 2323, 2636, 553, 3743, 1933, 240, 2095, 4090, 809, 2701, 2379, 2323, 2636, 699, 1302, 1987, 1763, 2391, 824, 595, 3154, 4090, 4008, 699, 847, 3374, 1579, 2479, 2732, 3261, 1374, 2505, 1933, 1239, 3857, 3206, 3099, 2343, 3846, 2261, 1551, 286, 4051, 2636, 2732, 1945, 553, 2299, 3168, 1968, 2561, 1753, 2220, 829, 424, 2829, 1297, 71, 4008, 769, 3261, 209, 811, 1411, 3308, 2488, 550, 1297, 71, 3012, 1383, 1283, 2379, 2323, 4027, 3726, 829, 2352, 3920, 829, 3261, 2379, 543, 2713, 2771, 21, 3726, 829, 2108, 2644, 2829, 431, 2636, 2863, 3726, 829, 3529, 829, 2829, 3758, 477, 829, 3759, 1283, 431, 2636]\n"
          ],
          "name": "stdout"
        }
      ]
    },
    {
      "cell_type": "code",
      "metadata": {
        "id": "NH07PWxxpX7B",
        "colab_type": "code",
        "colab": {}
      },
      "source": [
        "# reshape X to be [samples, time steps, features]\n",
        "X1 = numpy.reshape(dataX1, (n_patterns1, seq_length, 1))\n",
        "# normalize\n",
        "X1 = X1 / float(n_vocab1)\n",
        "# one hot encode the output variable\n",
        "y1 = np_utils.to_categorical(dataY1)"
      ],
      "execution_count": 0,
      "outputs": []
    },
    {
      "cell_type": "code",
      "metadata": {
        "id": "nhBcoLqfpv8k",
        "colab_type": "code",
        "outputId": "a17a87ff-bcde-4e63-8b4b-e60bdc499524",
        "colab": {
          "base_uri": "https://localhost:8080/",
          "height": 122
        }
      },
      "source": [
        "# define other LSTM model with dropout at input layer and reducing dropout to 0.1\n",
        "model1 = Sequential()\n",
        "model1.add(Dropout(0.1))\n",
        "model1.add(LSTM(256, input_shape=(X1.shape[1], X1.shape[2]), return_sequences=True))\n",
        "model1.add(Dropout(0.1))\n",
        "model1.add(LSTM(256))\n",
        "model1.add(Dense(y1.shape[1], activation='softmax'))\n",
        "model1.compile(loss='categorical_crossentropy', optimizer='adam')\n",
        "#model1.summary()"
      ],
      "execution_count": 0,
      "outputs": [
        {
          "output_type": "stream",
          "text": [
            "WARNING: Logging before flag parsing goes to stderr.\n",
            "W0731 01:50:36.916958 140067935790976 deprecation_wrapper.py:119] From /usr/local/lib/python3.6/dist-packages/keras/backend/tensorflow_backend.py:74: The name tf.get_default_graph is deprecated. Please use tf.compat.v1.get_default_graph instead.\n",
            "\n",
            "W0731 01:50:36.953404 140067935790976 deprecation_wrapper.py:119] From /usr/local/lib/python3.6/dist-packages/keras/optimizers.py:790: The name tf.train.Optimizer is deprecated. Please use tf.compat.v1.train.Optimizer instead.\n",
            "\n"
          ],
          "name": "stderr"
        }
      ]
    },
    {
      "cell_type": "code",
      "metadata": {
        "id": "5eXuVdlyqTst",
        "colab_type": "code",
        "colab": {}
      },
      "source": [
        "# define the checkpoint\n",
        "filepath=os.path.join(corpus, \"new-weights-improvement-{epoch:02d}-{loss:.4f}-bigger.hdf5\")\n",
        "#\"weights-improvement-{epoch:02d}-{loss:.4f}-bigger.hdf5\"\n",
        "checkpoint = ModelCheckpoint(filepath, monitor='loss', verbose=1, save_best_only=True, mode='min')\n",
        "callbacks_list = [checkpoint]"
      ],
      "execution_count": 0,
      "outputs": []
    },
    {
      "cell_type": "code",
      "metadata": {
        "id": "FQ3T89GfqerM",
        "colab_type": "code",
        "outputId": "d493b8d3-b60f-415f-f7f0-defc97c08a06",
        "colab": {
          "base_uri": "https://localhost:8080/",
          "height": 1000
        }
      },
      "source": [
        "# fit the model1 for 100 epoch\n",
        "model1.fit(X1, y1, epochs=100, batch_size=256, callbacks=callbacks_list)"
      ],
      "execution_count": 0,
      "outputs": [
        {
          "output_type": "stream",
          "text": [
            "W0730 14:23:07.864768 139881456039808 deprecation_wrapper.py:119] From /usr/local/lib/python3.6/dist-packages/keras/backend/tensorflow_backend.py:517: The name tf.placeholder is deprecated. Please use tf.compat.v1.placeholder instead.\n",
            "\n",
            "W0730 14:23:07.868364 139881456039808 deprecation_wrapper.py:119] From /usr/local/lib/python3.6/dist-packages/keras/backend/tensorflow_backend.py:133: The name tf.placeholder_with_default is deprecated. Please use tf.compat.v1.placeholder_with_default instead.\n",
            "\n",
            "W0730 14:23:07.886922 139881456039808 deprecation.py:506] From /usr/local/lib/python3.6/dist-packages/keras/backend/tensorflow_backend.py:3445: calling dropout (from tensorflow.python.ops.nn_ops) with keep_prob is deprecated and will be removed in a future version.\n",
            "Instructions for updating:\n",
            "Please use `rate` instead of `keep_prob`. Rate should be set to `rate = 1 - keep_prob`.\n",
            "W0730 14:23:07.905755 139881456039808 deprecation_wrapper.py:119] From /usr/local/lib/python3.6/dist-packages/keras/backend/tensorflow_backend.py:4138: The name tf.random_uniform is deprecated. Please use tf.random.uniform instead.\n",
            "\n",
            "W0730 14:23:08.891643 139881456039808 deprecation_wrapper.py:119] From /usr/local/lib/python3.6/dist-packages/keras/backend/tensorflow_backend.py:3295: The name tf.log is deprecated. Please use tf.math.log instead.\n",
            "\n",
            "W0730 14:23:09.020957 139881456039808 deprecation.py:323] From /usr/local/lib/python3.6/dist-packages/tensorflow/python/ops/math_grad.py:1250: add_dispatch_support.<locals>.wrapper (from tensorflow.python.ops.array_ops) is deprecated and will be removed in a future version.\n",
            "Instructions for updating:\n",
            "Use tf.where in 2.0, which has the same broadcast rule as np.where\n"
          ],
          "name": "stderr"
        },
        {
          "output_type": "stream",
          "text": [
            "Epoch 1/100\n",
            "154761/154761 [==============================] - 169s 1ms/step - loss: 2.8382\n",
            "\n",
            "Epoch 00001: loss improved from inf to 2.83820, saving model to /content/gdrive/My Drive/LSTM_exploration/new-weights-improvement-01-2.8382-bigger.hdf5\n",
            "Epoch 2/100\n",
            "154761/154761 [==============================] - 163s 1ms/step - loss: 2.6752\n",
            "\n",
            "Epoch 00002: loss improved from 2.83820 to 2.67524, saving model to /content/gdrive/My Drive/LSTM_exploration/new-weights-improvement-02-2.6752-bigger.hdf5\n",
            "Epoch 3/100\n",
            "154761/154761 [==============================] - 161s 1ms/step - loss: 2.5500\n",
            "\n",
            "Epoch 00003: loss improved from 2.67524 to 2.55003, saving model to /content/gdrive/My Drive/LSTM_exploration/new-weights-improvement-03-2.5500-bigger.hdf5\n",
            "Epoch 4/100\n",
            "154761/154761 [==============================] - 160s 1ms/step - loss: 2.4287\n",
            "\n",
            "Epoch 00004: loss improved from 2.55003 to 2.42870, saving model to /content/gdrive/My Drive/LSTM_exploration/new-weights-improvement-04-2.4287-bigger.hdf5\n",
            "Epoch 5/100\n",
            "154761/154761 [==============================] - 159s 1ms/step - loss: 2.3384\n",
            "\n",
            "Epoch 00005: loss improved from 2.42870 to 2.33836, saving model to /content/gdrive/My Drive/LSTM_exploration/new-weights-improvement-05-2.3384-bigger.hdf5\n",
            "Epoch 6/100\n",
            "154761/154761 [==============================] - 159s 1ms/step - loss: 2.2703\n",
            "\n",
            "Epoch 00006: loss improved from 2.33836 to 2.27033, saving model to /content/gdrive/My Drive/LSTM_exploration/new-weights-improvement-06-2.2703-bigger.hdf5\n",
            "Epoch 7/100\n",
            "154761/154761 [==============================] - 157s 1ms/step - loss: 2.2121\n",
            "\n",
            "Epoch 00007: loss improved from 2.27033 to 2.21211, saving model to /content/gdrive/My Drive/LSTM_exploration/new-weights-improvement-07-2.2121-bigger.hdf5\n",
            "Epoch 8/100\n",
            "154761/154761 [==============================] - 157s 1ms/step - loss: 2.1657\n",
            "\n",
            "Epoch 00008: loss improved from 2.21211 to 2.16571, saving model to /content/gdrive/My Drive/LSTM_exploration/new-weights-improvement-08-2.1657-bigger.hdf5\n",
            "Epoch 9/100\n",
            "154761/154761 [==============================] - 157s 1ms/step - loss: 2.1255\n",
            "\n",
            "Epoch 00009: loss improved from 2.16571 to 2.12554, saving model to /content/gdrive/My Drive/LSTM_exploration/new-weights-improvement-09-2.1255-bigger.hdf5\n",
            "Epoch 10/100\n",
            "154761/154761 [==============================] - 157s 1ms/step - loss: 2.0850\n",
            "\n",
            "Epoch 00010: loss improved from 2.12554 to 2.08497, saving model to /content/gdrive/My Drive/LSTM_exploration/new-weights-improvement-10-2.0850-bigger.hdf5\n",
            "Epoch 11/100\n",
            "154761/154761 [==============================] - 157s 1ms/step - loss: 2.0496\n",
            "\n",
            "Epoch 00011: loss improved from 2.08497 to 2.04963, saving model to /content/gdrive/My Drive/LSTM_exploration/new-weights-improvement-11-2.0496-bigger.hdf5\n",
            "Epoch 12/100\n",
            "154761/154761 [==============================] - 157s 1ms/step - loss: 2.0210\n",
            "\n",
            "Epoch 00012: loss improved from 2.04963 to 2.02103, saving model to /content/gdrive/My Drive/LSTM_exploration/new-weights-improvement-12-2.0210-bigger.hdf5\n",
            "Epoch 13/100\n",
            "154761/154761 [==============================] - 156s 1ms/step - loss: 1.9902\n",
            "\n",
            "Epoch 00013: loss improved from 2.02103 to 1.99018, saving model to /content/gdrive/My Drive/LSTM_exploration/new-weights-improvement-13-1.9902-bigger.hdf5\n",
            "Epoch 14/100\n",
            "154761/154761 [==============================] - 157s 1ms/step - loss: 1.9696\n",
            "\n",
            "Epoch 00014: loss improved from 1.99018 to 1.96964, saving model to /content/gdrive/My Drive/LSTM_exploration/new-weights-improvement-14-1.9696-bigger.hdf5\n",
            "Epoch 15/100\n",
            "154761/154761 [==============================] - 157s 1ms/step - loss: 1.9431\n",
            "\n",
            "Epoch 00015: loss improved from 1.96964 to 1.94308, saving model to /content/gdrive/My Drive/LSTM_exploration/new-weights-improvement-15-1.9431-bigger.hdf5\n",
            "Epoch 16/100\n",
            "154761/154761 [==============================] - 158s 1ms/step - loss: 1.9193\n",
            "\n",
            "Epoch 00016: loss improved from 1.94308 to 1.91929, saving model to /content/gdrive/My Drive/LSTM_exploration/new-weights-improvement-16-1.9193-bigger.hdf5\n",
            "Epoch 17/100\n",
            "154761/154761 [==============================] - 157s 1ms/step - loss: 1.9008\n",
            "\n",
            "Epoch 00017: loss improved from 1.91929 to 1.90084, saving model to /content/gdrive/My Drive/LSTM_exploration/new-weights-improvement-17-1.9008-bigger.hdf5\n",
            "Epoch 18/100\n",
            "154761/154761 [==============================] - 157s 1ms/step - loss: 1.8826\n",
            "\n",
            "Epoch 00018: loss improved from 1.90084 to 1.88264, saving model to /content/gdrive/My Drive/LSTM_exploration/new-weights-improvement-18-1.8826-bigger.hdf5\n",
            "Epoch 19/100\n",
            "154761/154761 [==============================] - 156s 1ms/step - loss: 1.8618\n",
            "\n",
            "Epoch 00019: loss improved from 1.88264 to 1.86184, saving model to /content/gdrive/My Drive/LSTM_exploration/new-weights-improvement-19-1.8618-bigger.hdf5\n",
            "Epoch 20/100\n",
            "154761/154761 [==============================] - 156s 1ms/step - loss: 1.8460\n",
            "\n",
            "Epoch 00020: loss improved from 1.86184 to 1.84600, saving model to /content/gdrive/My Drive/LSTM_exploration/new-weights-improvement-20-1.8460-bigger.hdf5\n",
            "Epoch 21/100\n",
            "154761/154761 [==============================] - 156s 1ms/step - loss: 1.8276\n",
            "\n",
            "Epoch 00021: loss improved from 1.84600 to 1.82758, saving model to /content/gdrive/My Drive/LSTM_exploration/new-weights-improvement-21-1.8276-bigger.hdf5\n",
            "Epoch 22/100\n",
            "154761/154761 [==============================] - 156s 1ms/step - loss: 1.8087\n",
            "\n",
            "Epoch 00022: loss improved from 1.82758 to 1.80874, saving model to /content/gdrive/My Drive/LSTM_exploration/new-weights-improvement-22-1.8087-bigger.hdf5\n",
            "Epoch 23/100\n",
            "154761/154761 [==============================] - 155s 1000us/step - loss: 1.7951\n",
            "\n",
            "Epoch 00023: loss improved from 1.80874 to 1.79512, saving model to /content/gdrive/My Drive/LSTM_exploration/new-weights-improvement-23-1.7951-bigger.hdf5\n",
            "Epoch 24/100\n",
            "154761/154761 [==============================] - 156s 1ms/step - loss: 1.7853\n",
            "\n",
            "Epoch 00024: loss improved from 1.79512 to 1.78533, saving model to /content/gdrive/My Drive/LSTM_exploration/new-weights-improvement-24-1.7853-bigger.hdf5\n",
            "Epoch 25/100\n",
            "154761/154761 [==============================] - 155s 1ms/step - loss: 1.7692\n",
            "\n",
            "Epoch 00025: loss improved from 1.78533 to 1.76920, saving model to /content/gdrive/My Drive/LSTM_exploration/new-weights-improvement-25-1.7692-bigger.hdf5\n",
            "Epoch 26/100\n",
            "154761/154761 [==============================] - 155s 1ms/step - loss: 1.7553\n",
            "\n",
            "Epoch 00026: loss improved from 1.76920 to 1.75527, saving model to /content/gdrive/My Drive/LSTM_exploration/new-weights-improvement-26-1.7553-bigger.hdf5\n",
            "Epoch 27/100\n",
            "154761/154761 [==============================] - 156s 1ms/step - loss: 1.7387\n",
            "\n",
            "Epoch 00027: loss improved from 1.75527 to 1.73872, saving model to /content/gdrive/My Drive/LSTM_exploration/new-weights-improvement-27-1.7387-bigger.hdf5\n",
            "Epoch 28/100\n",
            "154761/154761 [==============================] - 155s 1ms/step - loss: 1.7261\n",
            "\n",
            "Epoch 00028: loss improved from 1.73872 to 1.72613, saving model to /content/gdrive/My Drive/LSTM_exploration/new-weights-improvement-28-1.7261-bigger.hdf5\n",
            "Epoch 29/100\n",
            "154761/154761 [==============================] - 155s 1ms/step - loss: 1.7183\n",
            "\n",
            "Epoch 00029: loss improved from 1.72613 to 1.71827, saving model to /content/gdrive/My Drive/LSTM_exploration/new-weights-improvement-29-1.7183-bigger.hdf5\n",
            "Epoch 30/100\n",
            "154761/154761 [==============================] - 155s 1ms/step - loss: 1.7102\n",
            "\n",
            "Epoch 00030: loss improved from 1.71827 to 1.71016, saving model to /content/gdrive/My Drive/LSTM_exploration/new-weights-improvement-30-1.7102-bigger.hdf5\n",
            "Epoch 31/100\n",
            "154761/154761 [==============================] - 155s 999us/step - loss: 1.6971\n",
            "\n",
            "Epoch 00031: loss improved from 1.71016 to 1.69710, saving model to /content/gdrive/My Drive/LSTM_exploration/new-weights-improvement-31-1.6971-bigger.hdf5\n",
            "Epoch 32/100\n",
            "154761/154761 [==============================] - 155s 1ms/step - loss: 1.6900\n",
            "\n",
            "Epoch 00032: loss improved from 1.69710 to 1.69001, saving model to /content/gdrive/My Drive/LSTM_exploration/new-weights-improvement-32-1.6900-bigger.hdf5\n",
            "Epoch 33/100\n",
            "154761/154761 [==============================] - 155s 1ms/step - loss: 1.6789\n",
            "\n",
            "Epoch 00033: loss improved from 1.69001 to 1.67890, saving model to /content/gdrive/My Drive/LSTM_exploration/new-weights-improvement-33-1.6789-bigger.hdf5\n",
            "Epoch 34/100\n",
            "154761/154761 [==============================] - 155s 1ms/step - loss: 1.6683\n",
            "\n",
            "Epoch 00034: loss improved from 1.67890 to 1.66833, saving model to /content/gdrive/My Drive/LSTM_exploration/new-weights-improvement-34-1.6683-bigger.hdf5\n",
            "Epoch 35/100\n",
            "154761/154761 [==============================] - 155s 1ms/step - loss: 1.6559\n",
            "\n",
            "Epoch 00035: loss improved from 1.66833 to 1.65588, saving model to /content/gdrive/My Drive/LSTM_exploration/new-weights-improvement-35-1.6559-bigger.hdf5\n",
            "Epoch 36/100\n",
            "154761/154761 [==============================] - 155s 1ms/step - loss: 1.6545\n",
            "\n",
            "Epoch 00036: loss improved from 1.65588 to 1.65450, saving model to /content/gdrive/My Drive/LSTM_exploration/new-weights-improvement-36-1.6545-bigger.hdf5\n",
            "Epoch 37/100\n",
            "154761/154761 [==============================] - 155s 999us/step - loss: 1.6392\n",
            "\n",
            "Epoch 00037: loss improved from 1.65450 to 1.63918, saving model to /content/gdrive/My Drive/LSTM_exploration/new-weights-improvement-37-1.6392-bigger.hdf5\n",
            "Epoch 38/100\n",
            "154761/154761 [==============================] - 155s 1ms/step - loss: 1.6360\n",
            "\n",
            "Epoch 00038: loss improved from 1.63918 to 1.63600, saving model to /content/gdrive/My Drive/LSTM_exploration/new-weights-improvement-38-1.6360-bigger.hdf5\n",
            "Epoch 39/100\n",
            "154761/154761 [==============================] - 155s 999us/step - loss: 1.6272\n",
            "\n",
            "Epoch 00039: loss improved from 1.63600 to 1.62720, saving model to /content/gdrive/My Drive/LSTM_exploration/new-weights-improvement-39-1.6272-bigger.hdf5\n",
            "Epoch 40/100\n",
            "154761/154761 [==============================] - 156s 1ms/step - loss: 1.6243\n",
            "\n",
            "Epoch 00040: loss improved from 1.62720 to 1.62430, saving model to /content/gdrive/My Drive/LSTM_exploration/new-weights-improvement-40-1.6243-bigger.hdf5\n",
            "Epoch 41/100\n",
            "154761/154761 [==============================] - 155s 1ms/step - loss: 1.6138\n",
            "\n",
            "Epoch 00041: loss improved from 1.62430 to 1.61378, saving model to /content/gdrive/My Drive/LSTM_exploration/new-weights-improvement-41-1.6138-bigger.hdf5\n",
            "Epoch 42/100\n",
            "154761/154761 [==============================] - 155s 999us/step - loss: 1.6066\n",
            "\n",
            "Epoch 00042: loss improved from 1.61378 to 1.60662, saving model to /content/gdrive/My Drive/LSTM_exploration/new-weights-improvement-42-1.6066-bigger.hdf5\n",
            "Epoch 43/100\n",
            "154761/154761 [==============================] - 155s 1ms/step - loss: 1.6002\n",
            "\n",
            "Epoch 00043: loss improved from 1.60662 to 1.60021, saving model to /content/gdrive/My Drive/LSTM_exploration/new-weights-improvement-43-1.6002-bigger.hdf5\n",
            "Epoch 44/100\n",
            "154761/154761 [==============================] - 155s 1ms/step - loss: 1.5938\n",
            "\n",
            "Epoch 00044: loss improved from 1.60021 to 1.59383, saving model to /content/gdrive/My Drive/LSTM_exploration/new-weights-improvement-44-1.5938-bigger.hdf5\n",
            "Epoch 45/100\n",
            "154761/154761 [==============================] - 154s 998us/step - loss: 1.5924\n",
            "\n",
            "Epoch 00045: loss improved from 1.59383 to 1.59243, saving model to /content/gdrive/My Drive/LSTM_exploration/new-weights-improvement-45-1.5924-bigger.hdf5\n",
            "Epoch 46/100\n",
            "154761/154761 [==============================] - 155s 1000us/step - loss: 1.5800\n",
            "\n",
            "Epoch 00046: loss improved from 1.59243 to 1.57998, saving model to /content/gdrive/My Drive/LSTM_exploration/new-weights-improvement-46-1.5800-bigger.hdf5\n",
            "Epoch 47/100\n",
            "154761/154761 [==============================] - 155s 1ms/step - loss: 1.5707\n",
            "\n",
            "Epoch 00047: loss improved from 1.57998 to 1.57074, saving model to /content/gdrive/My Drive/LSTM_exploration/new-weights-improvement-47-1.5707-bigger.hdf5\n",
            "Epoch 48/100\n",
            "154761/154761 [==============================] - 155s 1ms/step - loss: 1.5639\n",
            "\n",
            "Epoch 00048: loss improved from 1.57074 to 1.56388, saving model to /content/gdrive/My Drive/LSTM_exploration/new-weights-improvement-48-1.5639-bigger.hdf5\n",
            "Epoch 49/100\n",
            "154761/154761 [==============================] - 155s 998us/step - loss: 1.5612\n",
            "\n",
            "Epoch 00049: loss improved from 1.56388 to 1.56118, saving model to /content/gdrive/My Drive/LSTM_exploration/new-weights-improvement-49-1.5612-bigger.hdf5\n",
            "Epoch 50/100\n",
            "154761/154761 [==============================] - 155s 1ms/step - loss: 1.5560\n",
            "\n",
            "Epoch 00050: loss improved from 1.56118 to 1.55603, saving model to /content/gdrive/My Drive/LSTM_exploration/new-weights-improvement-50-1.5560-bigger.hdf5\n",
            "Epoch 51/100\n",
            "154761/154761 [==============================] - 155s 1ms/step - loss: 1.5502\n",
            "\n",
            "Epoch 00051: loss improved from 1.55603 to 1.55025, saving model to /content/gdrive/My Drive/LSTM_exploration/new-weights-improvement-51-1.5502-bigger.hdf5\n",
            "Epoch 52/100\n",
            "154761/154761 [==============================] - 155s 1ms/step - loss: 1.5436\n",
            "\n",
            "Epoch 00052: loss improved from 1.55025 to 1.54358, saving model to /content/gdrive/My Drive/LSTM_exploration/new-weights-improvement-52-1.5436-bigger.hdf5\n",
            "Epoch 53/100\n",
            "154761/154761 [==============================] - 155s 999us/step - loss: 1.5416\n",
            "\n",
            "Epoch 00053: loss improved from 1.54358 to 1.54163, saving model to /content/gdrive/My Drive/LSTM_exploration/new-weights-improvement-53-1.5416-bigger.hdf5\n",
            "Epoch 54/100\n",
            "154761/154761 [==============================] - 155s 1000us/step - loss: 1.5389\n",
            "\n",
            "Epoch 00054: loss improved from 1.54163 to 1.53889, saving model to /content/gdrive/My Drive/LSTM_exploration/new-weights-improvement-54-1.5389-bigger.hdf5\n",
            "Epoch 55/100\n",
            "154761/154761 [==============================] - 155s 999us/step - loss: 1.5292\n",
            "\n",
            "Epoch 00055: loss improved from 1.53889 to 1.52917, saving model to /content/gdrive/My Drive/LSTM_exploration/new-weights-improvement-55-1.5292-bigger.hdf5\n",
            "Epoch 56/100\n",
            "154761/154761 [==============================] - 154s 997us/step - loss: 1.5255\n",
            "\n",
            "Epoch 00056: loss improved from 1.52917 to 1.52550, saving model to /content/gdrive/My Drive/LSTM_exploration/new-weights-improvement-56-1.5255-bigger.hdf5\n",
            "Epoch 57/100\n",
            "154761/154761 [==============================] - 154s 996us/step - loss: 1.5233\n",
            "\n",
            "Epoch 00057: loss improved from 1.52550 to 1.52327, saving model to /content/gdrive/My Drive/LSTM_exploration/new-weights-improvement-57-1.5233-bigger.hdf5\n",
            "Epoch 58/100\n",
            "154761/154761 [==============================] - 154s 998us/step - loss: 1.5152\n",
            "\n",
            "Epoch 00058: loss improved from 1.52327 to 1.51520, saving model to /content/gdrive/My Drive/LSTM_exploration/new-weights-improvement-58-1.5152-bigger.hdf5\n",
            "Epoch 59/100\n",
            "154761/154761 [==============================] - 155s 999us/step - loss: 1.5089\n",
            "\n",
            "Epoch 00059: loss improved from 1.51520 to 1.50891, saving model to /content/gdrive/My Drive/LSTM_exploration/new-weights-improvement-59-1.5089-bigger.hdf5\n",
            "Epoch 60/100\n",
            "154761/154761 [==============================] - 155s 1ms/step - loss: 1.5061\n",
            "\n",
            "Epoch 00060: loss improved from 1.50891 to 1.50614, saving model to /content/gdrive/My Drive/LSTM_exploration/new-weights-improvement-60-1.5061-bigger.hdf5\n",
            "Epoch 61/100\n",
            "154761/154761 [==============================] - 154s 996us/step - loss: 1.5023\n",
            "\n",
            "Epoch 00061: loss improved from 1.50614 to 1.50230, saving model to /content/gdrive/My Drive/LSTM_exploration/new-weights-improvement-61-1.5023-bigger.hdf5\n",
            "Epoch 62/100\n",
            "154761/154761 [==============================] - 155s 1ms/step - loss: 1.5007\n",
            "\n",
            "Epoch 00062: loss improved from 1.50230 to 1.50071, saving model to /content/gdrive/My Drive/LSTM_exploration/new-weights-improvement-62-1.5007-bigger.hdf5\n",
            "Epoch 63/100\n",
            "154761/154761 [==============================] - 154s 998us/step - loss: 1.4931\n",
            "\n",
            "Epoch 00063: loss improved from 1.50071 to 1.49308, saving model to /content/gdrive/My Drive/LSTM_exploration/new-weights-improvement-63-1.4931-bigger.hdf5\n",
            "Epoch 64/100\n",
            "154761/154761 [==============================] - 155s 1000us/step - loss: 1.4893\n",
            "\n",
            "Epoch 00064: loss improved from 1.49308 to 1.48928, saving model to /content/gdrive/My Drive/LSTM_exploration/new-weights-improvement-64-1.4893-bigger.hdf5\n",
            "Epoch 65/100\n",
            "154761/154761 [==============================] - 154s 998us/step - loss: 1.4895\n",
            "\n",
            "Epoch 00065: loss did not improve from 1.48928\n",
            "Epoch 66/100\n",
            "154761/154761 [==============================] - 155s 1000us/step - loss: 1.4849\n",
            "\n",
            "Epoch 00066: loss improved from 1.48928 to 1.48486, saving model to /content/gdrive/My Drive/LSTM_exploration/new-weights-improvement-66-1.4849-bigger.hdf5\n",
            "Epoch 67/100\n",
            "154761/154761 [==============================] - 157s 1ms/step - loss: 1.4792\n",
            "\n",
            "Epoch 00067: loss improved from 1.48486 to 1.47922, saving model to /content/gdrive/My Drive/LSTM_exploration/new-weights-improvement-67-1.4792-bigger.hdf5\n",
            "Epoch 68/100\n",
            "154761/154761 [==============================] - 159s 1ms/step - loss: 1.4766\n",
            "\n",
            "Epoch 00068: loss improved from 1.47922 to 1.47656, saving model to /content/gdrive/My Drive/LSTM_exploration/new-weights-improvement-68-1.4766-bigger.hdf5\n",
            "Epoch 69/100\n",
            "154761/154761 [==============================] - 160s 1ms/step - loss: 1.4734\n",
            "\n",
            "Epoch 00069: loss improved from 1.47656 to 1.47337, saving model to /content/gdrive/My Drive/LSTM_exploration/new-weights-improvement-69-1.4734-bigger.hdf5\n",
            "Epoch 70/100\n",
            "154761/154761 [==============================] - 161s 1ms/step - loss: 1.4668\n",
            "\n",
            "Epoch 00070: loss improved from 1.47337 to 1.46677, saving model to /content/gdrive/My Drive/LSTM_exploration/new-weights-improvement-70-1.4668-bigger.hdf5\n",
            "Epoch 71/100\n",
            "154761/154761 [==============================] - 162s 1ms/step - loss: 1.4656\n",
            "\n",
            "Epoch 00071: loss improved from 1.46677 to 1.46560, saving model to /content/gdrive/My Drive/LSTM_exploration/new-weights-improvement-71-1.4656-bigger.hdf5\n",
            "Epoch 72/100\n",
            "154761/154761 [==============================] - 176s 1ms/step - loss: 1.4621\n",
            "\n",
            "Epoch 00072: loss improved from 1.46560 to 1.46211, saving model to /content/gdrive/My Drive/LSTM_exploration/new-weights-improvement-72-1.4621-bigger.hdf5\n",
            "Epoch 73/100\n",
            "154761/154761 [==============================] - 157s 1ms/step - loss: 1.4598\n",
            "\n",
            "Epoch 00073: loss improved from 1.46211 to 1.45977, saving model to /content/gdrive/My Drive/LSTM_exploration/new-weights-improvement-73-1.4598-bigger.hdf5\n",
            "Epoch 74/100\n",
            "154761/154761 [==============================] - 156s 1ms/step - loss: 1.4524\n",
            "\n",
            "Epoch 00074: loss improved from 1.45977 to 1.45236, saving model to /content/gdrive/My Drive/LSTM_exploration/new-weights-improvement-74-1.4524-bigger.hdf5\n",
            "Epoch 75/100\n",
            "154761/154761 [==============================] - 158s 1ms/step - loss: 1.4459\n",
            "\n",
            "Epoch 00075: loss improved from 1.45236 to 1.44591, saving model to /content/gdrive/My Drive/LSTM_exploration/new-weights-improvement-75-1.4459-bigger.hdf5\n",
            "Epoch 76/100\n",
            "154761/154761 [==============================] - 158s 1ms/step - loss: 1.4461\n",
            "\n",
            "Epoch 00076: loss did not improve from 1.44591\n",
            "Epoch 77/100\n",
            "154761/154761 [==============================] - 160s 1ms/step - loss: 1.4477\n",
            "\n",
            "Epoch 00077: loss did not improve from 1.44591\n",
            "Epoch 78/100\n",
            "154761/154761 [==============================] - 164s 1ms/step - loss: 1.4419\n",
            "\n",
            "Epoch 00078: loss improved from 1.44591 to 1.44189, saving model to /content/gdrive/My Drive/LSTM_exploration/new-weights-improvement-78-1.4419-bigger.hdf5\n",
            "Epoch 79/100\n",
            "154761/154761 [==============================] - 166s 1ms/step - loss: 1.4382\n",
            "\n",
            "Epoch 00079: loss improved from 1.44189 to 1.43821, saving model to /content/gdrive/My Drive/LSTM_exploration/new-weights-improvement-79-1.4382-bigger.hdf5\n",
            "Epoch 80/100\n",
            "154761/154761 [==============================] - 165s 1ms/step - loss: 1.4323\n",
            "\n",
            "Epoch 00080: loss improved from 1.43821 to 1.43232, saving model to /content/gdrive/My Drive/LSTM_exploration/new-weights-improvement-80-1.4323-bigger.hdf5\n",
            "Epoch 81/100\n",
            "154761/154761 [==============================] - 166s 1ms/step - loss: 1.4335\n",
            "\n",
            "Epoch 00081: loss did not improve from 1.43232\n",
            "Epoch 82/100\n",
            "154761/154761 [==============================] - 165s 1ms/step - loss: 1.4328\n",
            "\n",
            "Epoch 00082: loss did not improve from 1.43232\n",
            "Epoch 83/100\n",
            "154761/154761 [==============================] - 162s 1ms/step - loss: 1.4236\n",
            "\n",
            "Epoch 00083: loss improved from 1.43232 to 1.42363, saving model to /content/gdrive/My Drive/LSTM_exploration/new-weights-improvement-83-1.4236-bigger.hdf5\n",
            "Epoch 84/100\n",
            "154761/154761 [==============================] - 165s 1ms/step - loss: 1.4206\n",
            "\n",
            "Epoch 00084: loss improved from 1.42363 to 1.42057, saving model to /content/gdrive/My Drive/LSTM_exploration/new-weights-improvement-84-1.4206-bigger.hdf5\n",
            "Epoch 85/100\n",
            "154761/154761 [==============================] - 172s 1ms/step - loss: 1.4245\n",
            "\n",
            "Epoch 00085: loss did not improve from 1.42057\n",
            "Epoch 86/100\n",
            "154761/154761 [==============================] - 168s 1ms/step - loss: 1.4181\n",
            "\n",
            "Epoch 00086: loss improved from 1.42057 to 1.41813, saving model to /content/gdrive/My Drive/LSTM_exploration/new-weights-improvement-86-1.4181-bigger.hdf5\n",
            "Epoch 87/100\n",
            "154761/154761 [==============================] - 167s 1ms/step - loss: 1.4152\n",
            "\n",
            "Epoch 00087: loss improved from 1.41813 to 1.41518, saving model to /content/gdrive/My Drive/LSTM_exploration/new-weights-improvement-87-1.4152-bigger.hdf5\n",
            "Epoch 88/100\n",
            "154761/154761 [==============================] - 168s 1ms/step - loss: 1.4161\n",
            "\n",
            "Epoch 00088: loss did not improve from 1.41518\n",
            "Epoch 89/100\n",
            "154761/154761 [==============================] - 167s 1ms/step - loss: 1.4113\n",
            "\n",
            "Epoch 00089: loss improved from 1.41518 to 1.41131, saving model to /content/gdrive/My Drive/LSTM_exploration/new-weights-improvement-89-1.4113-bigger.hdf5\n",
            "Epoch 90/100\n",
            "154761/154761 [==============================] - 166s 1ms/step - loss: 1.4061\n",
            "\n",
            "Epoch 00090: loss improved from 1.41131 to 1.40614, saving model to /content/gdrive/My Drive/LSTM_exploration/new-weights-improvement-90-1.4061-bigger.hdf5\n",
            "Epoch 91/100\n",
            "154761/154761 [==============================] - 166s 1ms/step - loss: 1.4056\n",
            "\n",
            "Epoch 00091: loss improved from 1.40614 to 1.40563, saving model to /content/gdrive/My Drive/LSTM_exploration/new-weights-improvement-91-1.4056-bigger.hdf5\n",
            "Epoch 92/100\n",
            "154761/154761 [==============================] - 167s 1ms/step - loss: 1.3997\n",
            "\n",
            "Epoch 00092: loss improved from 1.40563 to 1.39973, saving model to /content/gdrive/My Drive/LSTM_exploration/new-weights-improvement-92-1.3997-bigger.hdf5\n",
            "Epoch 93/100\n",
            "154761/154761 [==============================] - 169s 1ms/step - loss: 1.4001\n",
            "\n",
            "Epoch 00093: loss did not improve from 1.39973\n",
            "Epoch 94/100\n",
            "154761/154761 [==============================] - 168s 1ms/step - loss: 1.3943\n",
            "\n",
            "Epoch 00094: loss improved from 1.39973 to 1.39432, saving model to /content/gdrive/My Drive/LSTM_exploration/new-weights-improvement-94-1.3943-bigger.hdf5\n",
            "Epoch 95/100\n",
            "154761/154761 [==============================] - 167s 1ms/step - loss: 1.3963\n",
            "\n",
            "Epoch 00095: loss did not improve from 1.39432\n",
            "Epoch 96/100\n",
            "154761/154761 [==============================] - 165s 1ms/step - loss: 1.3968\n",
            "\n",
            "Epoch 00096: loss did not improve from 1.39432\n",
            "Epoch 97/100\n",
            "154761/154761 [==============================] - 167s 1ms/step - loss: 1.3923\n",
            "\n",
            "Epoch 00097: loss improved from 1.39432 to 1.39227, saving model to /content/gdrive/My Drive/LSTM_exploration/new-weights-improvement-97-1.3923-bigger.hdf5\n",
            "Epoch 98/100\n",
            "154761/154761 [==============================] - 168s 1ms/step - loss: 1.3919\n",
            "\n",
            "Epoch 00098: loss improved from 1.39227 to 1.39193, saving model to /content/gdrive/My Drive/LSTM_exploration/new-weights-improvement-98-1.3919-bigger.hdf5\n",
            "Epoch 99/100\n",
            "154761/154761 [==============================] - 163s 1ms/step - loss: 1.3907\n",
            "\n",
            "Epoch 00099: loss improved from 1.39193 to 1.39073, saving model to /content/gdrive/My Drive/LSTM_exploration/new-weights-improvement-99-1.3907-bigger.hdf5\n",
            "Epoch 100/100\n",
            "154761/154761 [==============================] - 161s 1ms/step - loss: 1.3851\n",
            "\n",
            "Epoch 00100: loss improved from 1.39073 to 1.38507, saving model to /content/gdrive/My Drive/LSTM_exploration/new-weights-improvement-100-1.3851-bigger.hdf5\n"
          ],
          "name": "stdout"
        },
        {
          "output_type": "execute_result",
          "data": {
            "text/plain": [
              "<keras.callbacks.History at 0x7f388d581e10>"
            ]
          },
          "metadata": {
            "tags": []
          },
          "execution_count": 15
        }
      ]
    },
    {
      "cell_type": "code",
      "metadata": {
        "id": "ISjbXTa3zr3B",
        "colab_type": "code",
        "outputId": "3af6059d-3941-49be-8b93-6c510ad063c6",
        "colab": {
          "base_uri": "https://localhost:8080/",
          "height": 357
        }
      },
      "source": [
        "# load the network weights\n",
        "\n",
        "filename = os.path.join(corpus, \"new-weights-improvement-100-1.3851-bigger.hdf5\")\n",
        "model1.load_weights(filename)\n",
        "model1.compile(loss='categorical_crossentropy', optimizer='adam')"
      ],
      "execution_count": 0,
      "outputs": [
        {
          "output_type": "error",
          "ename": "ValueError",
          "evalue": "ignored",
          "traceback": [
            "\u001b[0;31m---------------------------------------------------------------------------\u001b[0m",
            "\u001b[0;31mValueError\u001b[0m                                Traceback (most recent call last)",
            "\u001b[0;32m<ipython-input-17-ecc556024ea9>\u001b[0m in \u001b[0;36m<module>\u001b[0;34m()\u001b[0m\n\u001b[1;32m      1\u001b[0m \u001b[0;34m\u001b[0m\u001b[0m\n\u001b[1;32m      2\u001b[0m \u001b[0mfilename\u001b[0m \u001b[0;34m=\u001b[0m \u001b[0mos\u001b[0m\u001b[0;34m.\u001b[0m\u001b[0mpath\u001b[0m\u001b[0;34m.\u001b[0m\u001b[0mjoin\u001b[0m\u001b[0;34m(\u001b[0m\u001b[0mcorpus\u001b[0m\u001b[0;34m,\u001b[0m \u001b[0;34m\"new-weights-improvement-100-1.3851-bigger.hdf5\"\u001b[0m\u001b[0;34m)\u001b[0m\u001b[0;34m\u001b[0m\u001b[0;34m\u001b[0m\u001b[0m\n\u001b[0;32m----> 3\u001b[0;31m \u001b[0mmodel1\u001b[0m\u001b[0;34m.\u001b[0m\u001b[0mload_weights\u001b[0m\u001b[0;34m(\u001b[0m\u001b[0mfilename\u001b[0m\u001b[0;34m)\u001b[0m\u001b[0;34m\u001b[0m\u001b[0;34m\u001b[0m\u001b[0m\n\u001b[0m\u001b[1;32m      4\u001b[0m \u001b[0mmodel1\u001b[0m\u001b[0;34m.\u001b[0m\u001b[0mcompile\u001b[0m\u001b[0;34m(\u001b[0m\u001b[0mloss\u001b[0m\u001b[0;34m=\u001b[0m\u001b[0;34m'categorical_crossentropy'\u001b[0m\u001b[0;34m,\u001b[0m \u001b[0moptimizer\u001b[0m\u001b[0;34m=\u001b[0m\u001b[0;34m'adam'\u001b[0m\u001b[0;34m)\u001b[0m\u001b[0;34m\u001b[0m\u001b[0;34m\u001b[0m\u001b[0m\n",
            "\u001b[0;32m/usr/local/lib/python3.6/dist-packages/keras/engine/network.py\u001b[0m in \u001b[0;36mload_weights\u001b[0;34m(self, filepath, by_name, skip_mismatch, reshape)\u001b[0m\n\u001b[1;32m   1164\u001b[0m             \u001b[0;32melse\u001b[0m\u001b[0;34m:\u001b[0m\u001b[0;34m\u001b[0m\u001b[0;34m\u001b[0m\u001b[0m\n\u001b[1;32m   1165\u001b[0m                 saving.load_weights_from_hdf5_group(\n\u001b[0;32m-> 1166\u001b[0;31m                     f, self.layers, reshape=reshape)\n\u001b[0m\u001b[1;32m   1167\u001b[0m \u001b[0;34m\u001b[0m\u001b[0m\n\u001b[1;32m   1168\u001b[0m     \u001b[0;32mdef\u001b[0m \u001b[0m_updated_config\u001b[0m\u001b[0;34m(\u001b[0m\u001b[0mself\u001b[0m\u001b[0;34m)\u001b[0m\u001b[0;34m:\u001b[0m\u001b[0;34m\u001b[0m\u001b[0;34m\u001b[0m\u001b[0m\n",
            "\u001b[0;32m/usr/local/lib/python3.6/dist-packages/keras/engine/saving.py\u001b[0m in \u001b[0;36mload_weights_from_hdf5_group\u001b[0;34m(f, layers, reshape)\u001b[0m\n\u001b[1;32m   1028\u001b[0m                          \u001b[0;34m'containing '\u001b[0m \u001b[0;34m+\u001b[0m \u001b[0mstr\u001b[0m\u001b[0;34m(\u001b[0m\u001b[0mlen\u001b[0m\u001b[0;34m(\u001b[0m\u001b[0mlayer_names\u001b[0m\u001b[0;34m)\u001b[0m\u001b[0;34m)\u001b[0m \u001b[0;34m+\u001b[0m\u001b[0;34m\u001b[0m\u001b[0;34m\u001b[0m\u001b[0m\n\u001b[1;32m   1029\u001b[0m                          \u001b[0;34m' layers into a model with '\u001b[0m \u001b[0;34m+\u001b[0m\u001b[0;34m\u001b[0m\u001b[0;34m\u001b[0m\u001b[0m\n\u001b[0;32m-> 1030\u001b[0;31m                          str(len(filtered_layers)) + ' layers.')\n\u001b[0m\u001b[1;32m   1031\u001b[0m \u001b[0;34m\u001b[0m\u001b[0m\n\u001b[1;32m   1032\u001b[0m     \u001b[0;31m# We batch weight value assignments in a single backend call\u001b[0m\u001b[0;34m\u001b[0m\u001b[0;34m\u001b[0m\u001b[0;34m\u001b[0m\u001b[0m\n",
            "\u001b[0;31mValueError\u001b[0m: You are trying to load a weight file containing 3 layers into a model with 0 layers."
          ]
        }
      ]
    },
    {
      "cell_type": "code",
      "metadata": {
        "id": "gXYU-RdArDp1",
        "colab_type": "code",
        "colab": {}
      },
      "source": [
        "# pick a random seed\n",
        "start = numpy.random.randint(0, len(dataX)-1)\n",
        "pattern = dataX[start]\n",
        "print (\"Seed:\")\n",
        "print (\"\\\"\", ''.join([int_to_char[value] for value in pattern]), \"\\\"\")\n",
        "# generate characters\n",
        "for i in range(1000):\n",
        "\tx = numpy.reshape(pattern, (1, len(pattern), 1))\n",
        "\tx = x / float(n_vocab)\n",
        "\tprediction = model.predict(x, verbose=0)\n",
        "\tindex = numpy.argmax(prediction)\n",
        "\tresult = int_to_char[index]\n",
        "\tseq_in = [int_to_char[value] for value in pattern]\n",
        "\tsys.stdout.write(result)\n",
        "\tpattern.append(index)\n",
        "\tpattern = pattern[1:len(pattern)]\n",
        "print (\"\\nDone.\")"
      ],
      "execution_count": 0,
      "outputs": []
    }
  ]
}